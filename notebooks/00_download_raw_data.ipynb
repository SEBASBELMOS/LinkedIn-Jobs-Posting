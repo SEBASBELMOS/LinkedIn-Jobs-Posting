{
 "cells": [
  {
   "cell_type": "code",
   "execution_count": null,
   "id": "d7fdcb60",
   "metadata": {},
   "outputs": [],
   "source": [
    "import os\n",
    "import shutil\n",
    "import pandas as pd\n",
    "import kagglehub\n",
    "import logging\n",
    "\n",
    "logger = logging.getLogger(__name__)\n",
    "\n"
   ]
  },
  {
   "cell_type": "code",
   "execution_count": null,
   "id": "2e614511",
   "metadata": {},
   "outputs": [],
   "source": [
    "DATASET_NAME = \"arshkon/linkedin-job-postings\"\n",
    "CACHE_DIR    = None \n",
    "DOWNLOAD_DIR = \"/home/edwards/Documentos/university/etl/project_linux_repo/LinkedIn-Jobs-Posting/data\"\n",
    "csv_files = {\n",
    "    'jobs':             \"postings.csv\",\n",
    "    'benefits':         os.path.join(\"jobs\", \"benefits.csv\"),\n",
    "    'companies':        os.path.join(\"companies\", \"companies.csv\"),\n",
    "    'employee_counts':  os.path.join(\"companies\", \"employee_counts.csv\"),\n",
    "    'industries':       os.path.join(\"mappings\", \"industries.csv\"),\n",
    "    'skills_industries':os.path.join(\"mappings\", \"skills.csv\"),\n",
    "    'salaries':         os.path.join(\"jobs\", \"salaries.csv\"),\n",
    "}\n",
    "dfs = {}\n"
   ]
  },
  {
   "cell_type": "code",
   "execution_count": null,
   "id": "7b739489",
   "metadata": {},
   "outputs": [
    {
     "name": "stdout",
     "output_type": "stream",
     "text": [
      "Warning: Looks like you're using an outdated `kagglehub` version (installed: 0.3.11), please consider upgrading to the latest version (0.3.12).\n",
      "✅ Caché Kagglehub en: /home/edwards/.cache/kagglehub/datasets/arshkon/linkedin-job-postings/versions/13\n",
      "✅ Dataset copiado a carpeta local: /home/edwards/Documentos/university/etl/project_linux_repo/LinkedIn-Jobs-Posting/data\n"
     ]
    }
   ],
   "source": [
    "CACHE_DIR = kagglehub.dataset_download(DATASET_NAME, force_download=False)\n",
    "print(\"✅ Caché Kagglehub en:\", CACHE_DIR)\n",
    "\n",
    "if os.path.exists(DOWNLOAD_DIR):\n",
    "    shutil.rmtree(DOWNLOAD_DIR)\n",
    "shutil.copytree(CACHE_DIR, DOWNLOAD_DIR)\n",
    "print(\"✅ Dataset copiado a carpeta local:\", DOWNLOAD_DIR)\n"
   ]
  }
 ],
 "metadata": {
  "kernelspec": {
   "display_name": "airflow_env",
   "language": "python",
   "name": "python3"
  },
  "language_info": {
   "codemirror_mode": {
    "name": "ipython",
    "version": 3
   },
   "file_extension": ".py",
   "mimetype": "text/x-python",
   "name": "python",
   "nbconvert_exporter": "python",
   "pygments_lexer": "ipython3",
   "version": "3.11.12"
  }
 },
 "nbformat": 4,
 "nbformat_minor": 5
}
