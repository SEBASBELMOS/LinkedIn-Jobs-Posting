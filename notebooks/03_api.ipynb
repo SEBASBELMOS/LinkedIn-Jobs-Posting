{
 "cells": [
  {
   "cell_type": "markdown",
   "metadata": {},
   "source": [
    "## **PROJECT - NOTEBOOK #3: API - USAJOBS**\n",
    "\n",
    "---"
   ]
  },
  {
   "cell_type": "markdown",
   "metadata": {},
   "source": [
    "### **Setting Environment**"
   ]
  },
  {
   "cell_type": "code",
   "execution_count": 1,
   "metadata": {},
   "outputs": [
    {
     "name": "stdout",
     "output_type": "stream",
     "text": [
      "d:\\U\\FIFTH SEMESTER\\ETL\\project_etl\\notebooks\n",
      "d:\\U\\FIFTH SEMESTER\\ETL\\project_etl\n"
     ]
    }
   ],
   "source": [
    "import os \n",
    "print(os.getcwd())\n",
    "\n",
    "try:\n",
    "    os.chdir(\"../../project_etl\")\n",
    "\n",
    "except FileNotFoundError:\n",
    "    print(\"\"\"\n",
    "        FileNotFoundError - The directory may not exist or you might not be in the specified path.\n",
    "        If this has already worked, do not run this block again, as the current directory is already set to project_etl.\n",
    "        \"\"\")\n",
    "    \n",
    "print(os.getcwd())"
   ]
  },
  {
   "cell_type": "markdown",
   "metadata": {},
   "source": [
    "### **Importing modules and libraries**"
   ]
  },
  {
   "cell_type": "code",
   "execution_count": 2,
   "metadata": {},
   "outputs": [],
   "source": [
    "import requests\n",
    "import pandas as pd\n",
    "import json\n",
    "import matplotlib.pyplot as plt\n",
    "import seaborn as sns\n",
    "import time\n",
    "from datetime import datetime\n",
    "import requests\n",
    "from requests.adapters import HTTPAdapter\n",
    "from urllib3.util.retry import Retry"
   ]
  },
  {
   "cell_type": "markdown",
   "metadata": {},
   "source": [
    "### **API Connection**"
   ]
  },
  {
   "cell_type": "code",
   "execution_count": 3,
   "metadata": {},
   "outputs": [],
   "source": [
    "API_KEY = \"M5yC0zhQRl+OPdavWX7qKNpgpMILvk1ZxKqTMXpUgxU=\"\n",
    "EMAIL = \"sebasbelmosdev@gmail.com\"  \n",
    "BASE_URL = \"https://data.usajobs.gov/api/search\"\n",
    "HEADERS = {\n",
    "    \"Host\": \"data.usajobs.gov\",\n",
    "    \"User-Agent\": EMAIL,\n",
    "    \"Authorization-Key\": API_KEY\n",
    "}"
   ]
  },
  {
   "cell_type": "markdown",
   "metadata": {},
   "source": [
    "### **API Data Extraction**"
   ]
  },
  {
   "cell_type": "code",
   "execution_count": 4,
   "metadata": {},
   "outputs": [],
   "source": [
    "def fetch_usajobs_data(query_params=None, max_pages=20, page_size=500):\n",
    "    all_data = []\n",
    "    page_number = 1\n",
    "    \n",
    "    session = requests.Session()\n",
    "    retries = Retry(total=3, backoff_factor=1, status_forcelist=[429, 500, 502, 503, 504])\n",
    "    session.mount(\"https://\", HTTPAdapter(max_retries=retries))\n",
    "\n",
    "    while page_number <= max_pages:\n",
    "        params = {\n",
    "            \"Page\": page_number,\n",
    "            \"ResultsPerPage\": page_size,\n",
    "            **(query_params or {})\n",
    "        }\n",
    "        try:\n",
    "            if page_number == 1:\n",
    "                time.sleep(5)\n",
    "            \n",
    "            response = session.get(BASE_URL, headers=HEADERS, params=params, timeout=10)\n",
    "            response.raise_for_status()\n",
    "            \n",
    "            print(f\"Response Status Code: {response.status_code}\")\n",
    "            print(f\"Response Headers: {response.headers}\")\n",
    "            print(f\"Raw Response Text: {response.text[:500]}...\")\n",
    "            \n",
    "            data = response.json()\n",
    "            search_results = data.get(\"SearchResult\", {}).get(\"SearchResultItems\", [])\n",
    "            all_data.extend(search_results)\n",
    "            \n",
    "            total_count = data.get(\"SearchResult\", {}).get(\"SearchResultCountAll\", 0)\n",
    "            print(f\"Page {page_number}: Fetched {len(search_results)} items, Total Count: {total_count}\")\n",
    "            \n",
    "            temp_df = pd.DataFrame(all_data)\n",
    "            temp_timestamp = datetime.now().strftime(\"%Y%m%d_%H%M%S\")\n",
    "            temp_df.to_csv(f\"usajobs_temp_page_{page_number}_{temp_timestamp}.csv\", index=False)\n",
    "            print(f\"Intermediate data saved to usajobs_temp_page_{page_number}_{temp_timestamp}.csv\")\n",
    "            \n",
    "            if len(search_results) == 0 or len(all_data) >= min(total_count, 10000):\n",
    "                print(f\"Stopping at page {page_number} with {len(all_data)} total entries.\")\n",
    "                break\n",
    "                \n",
    "            page_number += 1\n",
    "            time.sleep(1)\n",
    "        except requests.exceptions.RequestException as e:\n",
    "            print(f\"Error on page {page_number}: {e}\")\n",
    "            print(f\"Response Text: {response.text if 'response' in locals() else 'No response'}\")\n",
    "            break\n",
    "    \n",
    "    return all_data"
   ]
  },
  {
   "cell_type": "code",
   "execution_count": 5,
   "metadata": {},
   "outputs": [
    {
     "name": "stdout",
     "output_type": "stream",
     "text": [
      "Response Status Code: 200\n",
      "Response Headers: {'Content-Type': 'application/hr+json; charset=utf-8', 'x-azure-ref': '20250520T160222Z-169ff4c4f59rlfpwhC1MNZzqbs00000009x00000000011em', 'Date': 'Tue, 20 May 2025 16:02:22 GMT', 'Transfer-Encoding': 'chunked', 'Connection': 'keep-alive, Transfer-Encoding', 'Set-Cookie': 'akavpau_DATA_USAJ=1747757242~id=2b74162214ec658ba81479f51ce64e95; Domain=data.usajobs.gov; Path=/; Secure; SameSite=None', 'Strict-Transport-Security': 'max-age=31536000 ; includeSubDomains'}\n",
      "Raw Response Text: {\"LanguageCode\":\"EN\",\"SearchParameters\":{},\"SearchResult\":{\"SearchResultCount\":500,\"SearchResultCountAll\":887,\"SearchResultItems\":[{\"MatchedObjectId\":\"837146200\",\"MatchedObjectDescriptor\":{\"PositionID\":\"ACE-ATO-25-KRS-95095\",\"PositionTitle\":\"Engineering Technician (Field Coordinator)\",\"PositionURI\":\"https://www.usajobs.gov:443/GetJob/ViewDetails/837146200\",\"ApplyURI\":[\"https://www.usajobs.gov:443/GetJob/ViewDetails/837146200\"],\"PositionLocationDisplay\":\"Multiple Locations\",\"PositionLocation\":[{\"...\n",
      "Page 1: Fetched 500 items, Total Count: 887\n",
      "Intermediate data saved to usajobs_temp_page_1_20250520_110220.csv\n",
      "Response Status Code: 200\n",
      "Response Headers: {'Content-Type': 'application/hr+json; charset=utf-8', 'x-azure-ref': '20250520T160225Z-1859d697869l27c4hC1BL1ym9800000002bg000000018605', 'Date': 'Tue, 20 May 2025 16:02:26 GMT', 'Transfer-Encoding': 'chunked', 'Connection': 'keep-alive, Transfer-Encoding', 'Set-Cookie': 'akavpau_DATA_USAJ=1747757246~id=1a855b458b519df69cbb4789124cd4ef; Domain=data.usajobs.gov; Path=/; Secure; SameSite=None', 'Strict-Transport-Security': 'max-age=31536000 ; includeSubDomains'}\n",
      "Raw Response Text: {\"LanguageCode\":\"EN\",\"SearchParameters\":{},\"SearchResult\":{\"SearchResultCount\":387,\"SearchResultCountAll\":887,\"SearchResultItems\":[{\"MatchedObjectId\":\"836711300\",\"MatchedObjectDescriptor\":{\"PositionID\":\"CBTA-12733801-25-STE\",\"PositionTitle\":\"Medical Records Tech (Coder Outpatient)\",\"PositionURI\":\"https://www.usajobs.gov:443/GetJob/ViewDetails/836711300\",\"ApplyURI\":[\"https://www.usajobs.gov:443/GetJob/ViewDetails/836711300\"],\"PositionLocationDisplay\":\"Hampton, Virginia\",\"PositionLocation\":[{\"Loca...\n",
      "Page 2: Fetched 387 items, Total Count: 887\n",
      "Intermediate data saved to usajobs_temp_page_2_20250520_110223.csv\n",
      "Stopping at page 2 with 887 total entries.\n"
     ]
    }
   ],
   "source": [
    "query_params = {\n",
    "    \"Keyword\": \"tech\",\n",
    "    \"LocationName\": \"United States\"\n",
    "}\n",
    "job_data = fetch_usajobs_data(query_params)"
   ]
  },
  {
   "cell_type": "code",
   "execution_count": 6,
   "metadata": {},
   "outputs": [],
   "source": [
    "def inspect_api_structure(job_data):\n",
    "    all_keys = set()\n",
    "    for item in job_data[:5]: \n",
    "        def extract_keys(obj, parent_key=\"\"):\n",
    "            if isinstance(obj, dict):\n",
    "                for key, value in obj.items():\n",
    "                    new_key = f\"{parent_key}.{key}\" if parent_key else key\n",
    "                    all_keys.add(new_key)\n",
    "                    extract_keys(value, new_key)\n",
    "            elif isinstance(obj, list):\n",
    "                for i, value in enumerate(obj):\n",
    "                    extract_keys(value, f\"{parent_key}[{i}]\")\n",
    "        \n",
    "        extract_keys(item)\n",
    "    return sorted(all_keys)"
   ]
  },
  {
   "cell_type": "code",
   "execution_count": 7,
   "metadata": {},
   "outputs": [
    {
     "name": "stdout",
     "output_type": "stream",
     "text": [
      "Available keys and nested paths in the API response:\n",
      "['MatchedObjectDescriptor', 'MatchedObjectDescriptor.ApplicationCloseDate', 'MatchedObjectDescriptor.ApplyURI', 'MatchedObjectDescriptor.DepartmentName', 'MatchedObjectDescriptor.JobCategory', 'MatchedObjectDescriptor.JobCategory[0].Code', 'MatchedObjectDescriptor.JobCategory[0].Name', 'MatchedObjectDescriptor.JobGrade', 'MatchedObjectDescriptor.JobGrade[0].Code', 'MatchedObjectDescriptor.OrganizationName', 'MatchedObjectDescriptor.PositionEndDate', 'MatchedObjectDescriptor.PositionFormattedDescription', 'MatchedObjectDescriptor.PositionFormattedDescription[0].Label', 'MatchedObjectDescriptor.PositionFormattedDescription[0].LabelDescription', 'MatchedObjectDescriptor.PositionID', 'MatchedObjectDescriptor.PositionLocation', 'MatchedObjectDescriptor.PositionLocationDisplay', 'MatchedObjectDescriptor.PositionLocation[0].CityName', 'MatchedObjectDescriptor.PositionLocation[0].CountryCode', 'MatchedObjectDescriptor.PositionLocation[0].CountrySubDivisionCode', 'MatchedObjectDescriptor.PositionLocation[0].Latitude', 'MatchedObjectDescriptor.PositionLocation[0].LocationName', 'MatchedObjectDescriptor.PositionLocation[0].Longitude', 'MatchedObjectDescriptor.PositionLocation[1].CityName', 'MatchedObjectDescriptor.PositionLocation[1].CountryCode', 'MatchedObjectDescriptor.PositionLocation[1].CountrySubDivisionCode', 'MatchedObjectDescriptor.PositionLocation[1].Latitude', 'MatchedObjectDescriptor.PositionLocation[1].LocationName', 'MatchedObjectDescriptor.PositionLocation[1].Longitude', 'MatchedObjectDescriptor.PositionLocation[2].CityName', 'MatchedObjectDescriptor.PositionLocation[2].CountryCode', 'MatchedObjectDescriptor.PositionLocation[2].CountrySubDivisionCode', 'MatchedObjectDescriptor.PositionLocation[2].Latitude', 'MatchedObjectDescriptor.PositionLocation[2].LocationName', 'MatchedObjectDescriptor.PositionLocation[2].Longitude', 'MatchedObjectDescriptor.PositionLocation[3].CityName', 'MatchedObjectDescriptor.PositionLocation[3].CountryCode', 'MatchedObjectDescriptor.PositionLocation[3].CountrySubDivisionCode', 'MatchedObjectDescriptor.PositionLocation[3].Latitude', 'MatchedObjectDescriptor.PositionLocation[3].LocationName', 'MatchedObjectDescriptor.PositionLocation[3].Longitude', 'MatchedObjectDescriptor.PositionLocation[4].CityName', 'MatchedObjectDescriptor.PositionLocation[4].CountryCode', 'MatchedObjectDescriptor.PositionLocation[4].CountrySubDivisionCode', 'MatchedObjectDescriptor.PositionLocation[4].Latitude', 'MatchedObjectDescriptor.PositionLocation[4].LocationName', 'MatchedObjectDescriptor.PositionLocation[4].Longitude', 'MatchedObjectDescriptor.PositionOfferingType', 'MatchedObjectDescriptor.PositionOfferingType[0].Code', 'MatchedObjectDescriptor.PositionOfferingType[0].Name', 'MatchedObjectDescriptor.PositionRemuneration', 'MatchedObjectDescriptor.PositionRemuneration[0].Description', 'MatchedObjectDescriptor.PositionRemuneration[0].MaximumRange', 'MatchedObjectDescriptor.PositionRemuneration[0].MinimumRange', 'MatchedObjectDescriptor.PositionRemuneration[0].RateIntervalCode', 'MatchedObjectDescriptor.PositionSchedule', 'MatchedObjectDescriptor.PositionSchedule[0].Code', 'MatchedObjectDescriptor.PositionSchedule[0].Name', 'MatchedObjectDescriptor.PositionStartDate', 'MatchedObjectDescriptor.PositionTitle', 'MatchedObjectDescriptor.PositionURI', 'MatchedObjectDescriptor.PublicationStartDate', 'MatchedObjectDescriptor.QualificationSummary', 'MatchedObjectDescriptor.SubAgency', 'MatchedObjectDescriptor.UserArea', 'MatchedObjectDescriptor.UserArea.Details', 'MatchedObjectDescriptor.UserArea.Details.AdjudicationType', 'MatchedObjectDescriptor.UserArea.Details.AgencyContactEmail', 'MatchedObjectDescriptor.UserArea.Details.AgencyContactPhone', 'MatchedObjectDescriptor.UserArea.Details.AgencyContactWebsite', 'MatchedObjectDescriptor.UserArea.Details.AgencyMarketingStatement', 'MatchedObjectDescriptor.UserArea.Details.AnnouncementClosingType', 'MatchedObjectDescriptor.UserArea.Details.ApplyOnlineUrl', 'MatchedObjectDescriptor.UserArea.Details.BargainingUnitStatus', 'MatchedObjectDescriptor.UserArea.Details.BargainingUnitStatusAdditionalText', 'MatchedObjectDescriptor.UserArea.Details.Benefits', 'MatchedObjectDescriptor.UserArea.Details.BenefitsDisplayDefaultText', 'MatchedObjectDescriptor.UserArea.Details.BenefitsUrl', 'MatchedObjectDescriptor.UserArea.Details.CommuteDistance', 'MatchedObjectDescriptor.UserArea.Details.DetailStatusUrl', 'MatchedObjectDescriptor.UserArea.Details.DrugTestRequired', 'MatchedObjectDescriptor.UserArea.Details.Education', 'MatchedObjectDescriptor.UserArea.Details.Evaluations', 'MatchedObjectDescriptor.UserArea.Details.FinancialDisclosure', 'MatchedObjectDescriptor.UserArea.Details.HighGrade', 'MatchedObjectDescriptor.UserArea.Details.HiringPath', 'MatchedObjectDescriptor.UserArea.Details.HowToApply', 'MatchedObjectDescriptor.UserArea.Details.JobSummary', 'MatchedObjectDescriptor.UserArea.Details.KeyRequirements', 'MatchedObjectDescriptor.UserArea.Details.LowGrade', 'MatchedObjectDescriptor.UserArea.Details.MCOTags', 'MatchedObjectDescriptor.UserArea.Details.MajorDuties', 'MatchedObjectDescriptor.UserArea.Details.OrganizationCodes', 'MatchedObjectDescriptor.UserArea.Details.OtherInformation', 'MatchedObjectDescriptor.UserArea.Details.PositionSensitivitiy', 'MatchedObjectDescriptor.UserArea.Details.PreviewQuestionnaireurl', 'MatchedObjectDescriptor.UserArea.Details.PromotionPotential', 'MatchedObjectDescriptor.UserArea.Details.Relocation', 'MatchedObjectDescriptor.UserArea.Details.RemoteIndicator', 'MatchedObjectDescriptor.UserArea.Details.RequiredDocuments', 'MatchedObjectDescriptor.UserArea.Details.Requirements', 'MatchedObjectDescriptor.UserArea.Details.SecurityClearance', 'MatchedObjectDescriptor.UserArea.Details.ServiceType', 'MatchedObjectDescriptor.UserArea.Details.SubAgencyName', 'MatchedObjectDescriptor.UserArea.Details.TeleworkEligible', 'MatchedObjectDescriptor.UserArea.Details.TotalOpenings', 'MatchedObjectDescriptor.UserArea.Details.TravelCode', 'MatchedObjectDescriptor.UserArea.Details.WhatToExpectNext', 'MatchedObjectDescriptor.UserArea.Details.WhoMayApply', 'MatchedObjectDescriptor.UserArea.Details.WhoMayApply.Code', 'MatchedObjectDescriptor.UserArea.Details.WhoMayApply.Name', 'MatchedObjectDescriptor.UserArea.Details.WithinArea', 'MatchedObjectDescriptor.UserArea.IsRadialSearch', 'MatchedObjectId', 'RelevanceRank']\n",
      "\n",
      "Sample API response (first item):\n",
      "{\n",
      "  \"MatchedObjectId\": \"837146200\",\n",
      "  \"MatchedObjectDescriptor\": {\n",
      "    \"PositionID\": \"ACE-ATO-25-KRS-95095\",\n",
      "    \"PositionTitle\": \"Engineering Technician (Field Coordinator)\",\n",
      "    \"PositionURI\": \"https://www.usajobs.gov:443/GetJob/ViewDetails/837146200\",\n",
      "    \"ApplyURI\": [\n",
      "      \"https://www.usajobs.gov:443/GetJob/ViewDetails/837146200\"\n",
      "    ],\n",
      "    \"PositionLocationDisplay\": \"Multiple Locations\",\n",
      "    \"PositionLocation\": [\n",
      "      {\n",
      "        \"LocationName\": \"Aurora, Illinois\",\n",
      "        \"CountryCode\": \"United States\",\n",
      "        \"CountrySubDivisionCode\": \"Illinois\",\n",
      "        \"CityName\": \"Aurora, Illinois\",\n",
      "        \"Longitude\": -88.31577,\n",
      "        \"Latitude\": 41.75695\n",
      "      },\n",
      "      {\n",
      "        \"LocationName\": \"Des Plaines, Illinois\",\n",
      "        \"CountryCode\": \"United States\",\n",
      "        \"CountrySubDivisionCode\": \"Illinois\",\n",
      "        \"CityName\": \"Des Plaines, Illinois\",\n",
      "        \"Longitude\": -87.88846,\n",
      "        \"Latitude\": 42.042007\n",
      "      },\n",
      "      {\n",
      "        \"LocationName\": \"Indianapolis, Indiana\",\n",
      "        \"CountryCode\": \"United States\",\n",
      "        \"CountrySubDivisionCode\": \"Indiana\",\n",
      "        \"CityName\": \"Indianapolis, Indiana\",\n",
      "        \"Longitude\": -86.14996,\n",
      "        \"Latitude\": 39.76691\n",
      "      },\n",
      "      {\n",
      "        \"LocationName\": \"Farmington, Minnesota\",\n",
      "        \"CountryCode\": \"United States\",\n",
      "        \"CountrySubDivisionCode\": \"Minnesota\",\n",
      "        \"CityName\": \"Farmington, Minnesota\",\n",
      "        \"Longitude\": -93.14439,\n",
      "        \"Latitude\": 44.63919\n",
      "      },\n",
      "      {\n",
      "        \"LocationName\": \"Oberlin, Ohio\",\n",
      "        \"CountryCode\": \"United States\",\n",
      "        \"CountrySubDivisionCode\": \"Ohio\",\n",
      "        \"CityName\": \"Oberlin, Ohio\",\n",
      "        \"Longitude\": -82.217354,\n",
      "        \"Latitude\": 41.292927\n",
      "      }\n",
      "    ],\n",
      "    \"OrganizationName\": \"Federal Aviation Administration\",\n",
      "    \"DepartmentName\": \"Department of Transportation\",\n",
      "    \"SubAgency\": \"ATO - Tech OPS - Engineering Services - AJW-2C12D\",\n",
      "    \"JobCategory\": [\n",
      "      {\n",
      "        \"Name\": \"Engineering Technical\",\n",
      "        \"Code\": \"0802\"\n",
      "      }\n",
      "    ],\n",
      "    \"JobGrade\": [\n",
      "      {\n",
      "        \"Code\": \"FV\"\n",
      "      }\n",
      "    ],\n",
      "    \"PositionSchedule\": [\n",
      "      {\n",
      "        \"Name\": \"\",\n",
      "        \"Code\": \"1\"\n",
      "      }\n",
      "    ],\n",
      "    \"PositionOfferingType\": [\n",
      "      {\n",
      "        \"Name\": \"\",\n",
      "        \"Code\": \"15317\"\n",
      "      }\n",
      "    ],\n",
      "    \"QualificationSummary\": \"There is no time frame requirement at the Level III/FV-H to compete. Candidates must show experience at the level of difficulty and responsibility that is appropriate to the position. Experience that demonstrates an extensive knowledge of providing technical advice or direction to field personnel; scheduling project construction phases based on priorities and available field resources; ability to communicate and coordinate Operational Risk Management throughout the entire construction phase of a project. Generally, experience at the next lower level FV-H/Level III, meets the minimum qualifications for this position as long as the experience supports the demonstrated abilities identified below. DEMONSTRATED ABILITIES: You MUST provide a NARRATIVE statement for each Demonstrated Ability. The narratives should be clear and concise, providing a description of your education, training and experience that would describe the degree to which you possess each Demonstrated Ability. Candidates must show experience at the level of difficulty and responsibility appropriate to the position. Eligible candidates will be ranked based on DEMONSTRATED ABILITIES. Answer all questions to the best of your ability. You may be asked to provide evidence or documentation that you have had this type of experience at a later stage in the selection process. Your responses are subject to verification through job interviews or any other information obtained during the application process. Any exaggeration of your experience or any attempt to conceal information can result in disqualification. For your assistance in responding to each of the demonstrated abilities \\\"things to consider\\\"/instructions have been provided for each demonstrated ability at: https://employees.faa.gov/org/staffoffices/ahr/program_policies/policy_guidance/hr_policies/media/AppendixVPromotionCriteria.pdf Narratives for Demonstrated Abilities identified under qualifications are mandatory. Failure to submit demonstrated abilities statements will prevent you from receiving further consideration. Supervisory Endorsement to Career Level IV. A Supervisory Statement endorsing the applicant for this position is required. The endorsement must include the announcement number. To obtain the Supervisory Endorsement form, please contact your manager. Supervisory Endorsement is not required for in-grade/downgrade candidates. Supervisory Endorsement must be received by closing date of the vacancy announcement. Failure to submit the supervisory endorsement, will remove the applicant from receiving further consideration.\",\n",
      "    \"PositionRemuneration\": [\n",
      "      {\n",
      "        \"MinimumRange\": \"76585\",\n",
      "        \"MaximumRange\": \"118696\",\n",
      "        \"RateIntervalCode\": \"PA\",\n",
      "        \"Description\": \"Per Year\"\n",
      "      }\n",
      "    ],\n",
      "    \"PositionStartDate\": \"2025-05-19T00:00:00.0000\",\n",
      "    \"PositionEndDate\": \"2025-06-09T23:59:59.9970\",\n",
      "    \"PublicationStartDate\": \"2025-05-19T00:00:00.0000\",\n",
      "    \"ApplicationCloseDate\": \"2025-06-09T23:59:59.9970\",\n",
      "    \"PositionFormattedDescription\": [\n",
      "      {\n",
      "        \"Label\": \"Dynamic Teaser\",\n",
      "        \"LabelDescription\": \"Hit highlighting for keyword searches.\"\n",
      "      }\n",
      "    ],\n",
      "    \"UserArea\": {\n",
      "      \"Details\": {\n",
      "        \"JobSummary\": \"Serves as a Technical coordinator for an assigned F&E Construction/Installation Center.\",\n",
      "        \"WhoMayApply\": {\n",
      "          \"Name\": \"\",\n",
      "          \"Code\": \"\"\n",
      "        },\n",
      "        \"LowGrade\": \"I\",\n",
      "        \"HighGrade\": \"I\",\n",
      "        \"PromotionPotential\": \"NA\",\n",
      "        \"SubAgencyName\": \"ATO - Tech OPS - Engineering Services - AJW-2C12D\",\n",
      "        \"OrganizationCodes\": \"TD/TD03\",\n",
      "        \"Relocation\": \"False\",\n",
      "        \"HiringPath\": [\n",
      "          \"fed-internal-search\"\n",
      "        ],\n",
      "        \"MCOTags\": [],\n",
      "        \"TotalOpenings\": \"1\",\n",
      "        \"AgencyMarketingStatement\": \"At the FAA, the sky is not the limit\\u2014it is just the beginning. Exciting new opportunities are emerging in aviation and aerospace. Significant investments are advancing the research and development of autonomous vehicles, environmentally friendly electric aircraft, high-speed and long-endurance solar-powered aircraft, and new types of space vehicles. Success with these new technologies and vehicle types will introduce new ways to transport people and goods expanding aviation's footprint in transportation. People are our strength. We are a diverse workforce of over 45,000 located nationwide and spanning over 130 occupations to include air traffic control specialists, aviation safety inspectors, engineers, scientists, technicians, and business professionals. Join us in our mission to provide the safest, most efficient aerospace system in the world.\",\n",
      "        \"TravelCode\": \"5\",\n",
      "        \"ApplyOnlineUrl\": \"https://jobs.faa.gov/Login/Apply\",\n",
      "        \"DetailStatusUrl\": \"https://jobs.faa.gov/Login/Apply?status=1\",\n",
      "        \"MajorDuties\": [\n",
      "          \"Coordinates project activities related to installation/construction. Provides project installation/construction expertise in the preparation of the Centers work plan. Plans, schedules, identifies required resources and coordinates execution of the installation/construction activities. Coordinates installation/construction field changes with appropriate affected parties and stakeholders. Ensures installation/construction activity related project schedule changes are reflected in Primavera. Ensures field installation/construction reports are accurate, contain an appropriate level of detail and are timely. Recommends training plans for Center field personnel to increase their job skills, knowledge and effectiveness. Maintains locater sheet of Center field personnel. Provides training, mentoring and guidance and advice to Center field (installation/construction) personnel on technical and administrative issues. Provides positive quality assurance controls during installation/construction activities, including minimizing JAI exceptions and tracking JAI exceptions clearance. Acts as Center focal point for OSHA construction safety. Ensures that all facility work permits and risk assessments are properly completed when required. Monitors Center's common stock material levels and reorder as required. Ensures required parts and materials are ordered/shipped on schedule. Maintains current FRD data sheets on all project specific equipment/systems. Prepares \\\"end of project critiques\\\" to analyze actual performance vs projected performance. (e.g. schedule, budget, quality, manpower, etc.)\"\n",
      "        ],\n",
      "        \"Education\": \"Education is not used to substitute experience for this position.\",\n",
      "        \"Requirements\": \"We are not accepting applications from noncitizens.\",\n",
      "        \"Evaluations\": \"IMPORTANT: Applicants may be rated on the extent and quality of experience, education, and training relevant to the duties of the position(s). All answers provided in the on-line process must be substantiated. Ensure that your application package/resume supports your responses.\",\n",
      "        \"HowToApply\": \"You must apply online to receive consideration. Your application must be submitted by 11:59 PM Eastern Time on the Close Date for it to be accepted. If you are applying for positions associated with FAA registers, your application must be submitted at the time a referral list is created in order to receive consideration for positions associated with a register. IN DESCRIBING YOUR WORK EXPERIENCE AND/OR EDUCATION, PLEASE BE CLEAR AND SPECIFIC REGARDING YOUR EXPERIENCE OR EDUCATION. We strongly encourage applicants to utilize the USAJOBS resume builder in the creation of resumes. Please ensure EACH work history includes ALL of the following information: Job Title (include series and grade if Federal Job) Duties (be specific in describing your duties) Employer's name and address Supervisor name and phone number Start and end dates including month and year (e.g. June 2007 to April 2008) Full-time or part-time status (include hours worked per week) Salary (optional) Determining length of General or Specialized Experience is dependent on the above information and failure to provide ALL of this information may result in a finding of ineligible. You may upload completed documents to your USAJOBS Account. This will provide you the opportunity to utilize the uploaded information again when applying for future vacancies. Please see this guide, Document Upload Guide, for more information on uploading and re-using the documents in your applications.\",\n",
      "        \"WhatToExpectNext\": \"Once we receive your complete application, the Human Resources Office will conduct an evaluation of your qualifications. Eligible and qualified candidates will be referred to the hiring manager for consideration. You will be contacted directly if selected for an interview. For instructions on how to check the status of your application, please go to: USAJOBS Help Guide. Important - If you make any changes to your application, you must resubmit it. If you make changes to your application and do not resubmit it, your changes will not be considered part of your application package, and only your previously submitted application will be evaluated. All qualified applicants will be considered regardless of political affiliation, race, color, religion, national origin, gender, sexual orientation, marital status, age, disability, or other non-merit factors. DOT provides reasonable accommodations to applicants with disabilities. If you need a reasonable accommodation for any part of the application and hiring process, please notify the agency contact listed in the Agency Contact Information section of this announcement or the hiring manager. An employee with a disability must notify the decision-maker of the accommodation request. Job applicants and employees are required to follow up oral requests in writing. Decisions on granting reasonable accommodation will be made on a case-by-case basis. Additional information on reasonable accommodations procedures or on EEO Programs is available on Office of Civil Rights (ACR) or by contacting the local FAA Civil Rights Office.\",\n",
      "        \"RequiredDocuments\": \"Applicants must apply on-line. Hard copy applications cannot be accepted. Supervisory Endorsement to Career Level IV. A Supervisory Statement endorsing the applicant for this position is required. The endorsement must include the announcement number. To obtain the Supervisory Endorsement form, please contact your manager. Supervisory Endorsement is not required for in-grade/downgrade candidates. Supervisory Endorsement must be received by closing date of the vacancy announcement. Failure to submit the supervisory endorsement will result in loss of consideration. If you have a problem uploading a document to your application, please send an email to Kelsey.R.Schmidt@faa.gov BEFORE the closing date of this announcement for assistance. If you are an FAA employee, you MUST provide a copy of your SF-50 (Notification of Personnel Action) containing information in Blocks 15, 17, 18, 19, 22, and 24 so it can be used to verify your position title, series, grade, tenure, and organization of record by the closing date of the announcement. You may fax your SF-50 or upload it into the on-line application. If faxing the SF-50, please ensure you include the vacancy announcement number on the faxed copy. If you are an FAA employee, you can access and print your SF-50 from the eOPF system https://eopf.opm.gov/dot/.\",\n",
      "        \"Benefits\": \"\",\n",
      "        \"BenefitsUrl\": \"http://www.faa.gov/jobs/working_here/benefits/\",\n",
      "        \"BenefitsDisplayDefaultText\": true,\n",
      "        \"OtherInformation\": \"We may use this vacancy to fill other similar vacant positions. Position may be subject to a background investigation. A one-year probationary period may be required. The person selected for this position may be required to file a financial disclosure statement within 30 days of entry on duty. FAA policy limits certain outside employment and financial investments in aviation-related companies. www.faa.gov/jobs/workinghere/financial-disclosure-requirements This position is covered by the Department of Transportation's Drug and Alcohol Testing Program. Any applicant tentatively selected for this position will be subject to pre-employment or pre-appointment drug screening. Persons occupying a \\\"testing designated position (TDP)\\\" will be subject to random drug and/or alcohol testing. Security Requirement: Moderate Risk (5). This position requires completion and favorable adjudication of a background investigation prior to appointment, unless a waiver is obtained. Subject to a 5 year period reinvestigation. Locations: There will be only one selection made in one of the following 5 locations; AURORA IL, FARMINGTON MN, INDIANAPOLIS IN, OBERLIN OH, or DES PLAINES IL. Interviews: Interviews will be conducted IAW applicable Collective Bargaining Unit Agreement and/or Agency Policy. Incomplete Applications: Please ensure you answer all questions and follow all instructions carefully. Errors or omissions may impact your rating or may result in you not being considered for the job. Bargaining Unit: This position is covered by the FAA-PASS Bargaining Unit Agreement. (https://my.faa.gov/content/dam/myfaa/org/staffoffices/ahr/emp_labor_management_relations/labor_relations/agreements/PASS_2017_BU_0067_1384.pdf) Links to Important Information: Locality Pay, COLA\",\n",
      "        \"KeyRequirements\": [],\n",
      "        \"WithinArea\": \"False\",\n",
      "        \"CommuteDistance\": \"0\",\n",
      "        \"ServiceType\": \"02\",\n",
      "        \"AnnouncementClosingType\": \"01\",\n",
      "        \"AgencyContactEmail\": \"Kelsey.R.Schmidt@faa.gov\",\n",
      "        \"AgencyContactPhone\": \"1 (816) 329-2671\",\n",
      "        \"PreviewQuestionnaireurl\": \"https://jobs.faa.gov/Preview/95095\",\n",
      "        \"SecurityClearance\": \"Other\",\n",
      "        \"DrugTestRequired\": \"True\",\n",
      "        \"AdjudicationType\": [],\n",
      "        \"TeleworkEligible\": true,\n",
      "        \"RemoteIndicator\": false,\n",
      "        \"BargainingUnitStatus\": true,\n",
      "        \"BargainingUnitStatusAdditionalText\": \"This is a bargaining unit position, represented by the Professional Aviation Safety Specialists (<a target='_blank' href='http://www.passnational.org'>http://www.passnational.org</a>).\"\n",
      "      },\n",
      "      \"IsRadialSearch\": false\n",
      "    }\n",
      "  },\n",
      "  \"RelevanceRank\": 0\n",
      "}\n"
     ]
    }
   ],
   "source": [
    "print(\"Available keys and nested paths in the API response:\")\n",
    "print(inspect_api_structure(job_data))\n",
    "\n",
    "print(\"\\nSample API response (first item):\")\n",
    "print(json.dumps(job_data[0], indent=2) if job_data else \"No data available\")"
   ]
  },
  {
   "cell_type": "code",
   "execution_count": 8,
   "metadata": {},
   "outputs": [],
   "source": [
    "df = pd.DataFrame([{\n",
    "    \"PositionID\": item[\"MatchedObjectDescriptor\"][\"PositionID\"],\n",
    "    \"PositionTitle\": item[\"MatchedObjectDescriptor\"][\"PositionTitle\"],\n",
    "    \"PositionURI\": item[\"MatchedObjectDescriptor\"][\"PositionURI\"],\n",
    "    \"Location\": item[\"MatchedObjectDescriptor\"].get(\"PositionLocationDisplay\", \"Unknown\"),\n",
    "    \"City\": next((loc.get(\"CityName\", \"Unknown\") for loc in item[\"MatchedObjectDescriptor\"].get(\"PositionLocation\", [])), \"Unknown\"),\n",
    "    \"State\": next((loc.get(\"CountrySubDivisionCode\", \"Unknown\") for loc in item[\"MatchedObjectDescriptor\"].get(\"PositionLocation\", [])), \"Unknown\"),\n",
    "    \"Country\": next((loc.get(\"CountryCode\", \"Unknown\") for loc in item[\"MatchedObjectDescriptor\"].get(\"PositionLocation\", [])), \"Unknown\"),\n",
    "    \"Latitude\": next((loc.get(\"Latitude\", None) for loc in item[\"MatchedObjectDescriptor\"].get(\"PositionLocation\", [])), None),\n",
    "    \"Longitude\": next((loc.get(\"Longitude\", None) for loc in item[\"MatchedObjectDescriptor\"].get(\"PositionLocation\", [])), None),\n",
    "    \"Organization\": item[\"MatchedObjectDescriptor\"].get(\"OrganizationName\", \"Unknown\"),\n",
    "    \"Department\": item[\"MatchedObjectDescriptor\"].get(\"DepartmentName\", \"Unknown\"),\n",
    "    \"MinSalary\": next((float(rem.get(\"MinimumRange\", 0)) for rem in item[\"MatchedObjectDescriptor\"].get(\"PositionRemuneration\", [])), 0),\n",
    "    \"MaxSalary\": next((float(rem.get(\"MaximumRange\", 0)) for rem in item[\"MatchedObjectDescriptor\"].get(\"PositionRemuneration\", [])), 0),\n",
    "    \"SalaryInterval\": next((rem.get(\"RateIntervalCode\", \"Unknown\") for rem in item[\"MatchedObjectDescriptor\"].get(\"PositionRemuneration\", [])), \"Unknown\"),\n",
    "    \"JobCategory\": next((cat.get(\"Name\", \"Unknown\") for cat in item[\"MatchedObjectDescriptor\"].get(\"JobCategory\", [])), \"Unknown\"),\n",
    "    \"JobGrade\": next((grade.get(\"Code\", \"Unknown\") for grade in item[\"MatchedObjectDescriptor\"].get(\"JobGrade\", [])), \"Unknown\"),\n",
    "    \"Schedule\": next((sched.get(\"Name\", \"Unknown\") for sched in item[\"MatchedObjectDescriptor\"].get(\"PositionSchedule\", [])), \"Unknown\"),\n",
    "    \"OfferingType\": next((offer.get(\"Name\", \"Unknown\") for offer in item[\"MatchedObjectDescriptor\"].get(\"PositionOfferingType\", [])), \"Unknown\"),\n",
    "    \"StartDate\": item[\"MatchedObjectDescriptor\"].get(\"PositionStartDate\", None),\n",
    "    \"EndDate\": item[\"MatchedObjectDescriptor\"].get(\"PositionEndDate\", None),\n",
    "    \"PublicationDate\": item[\"MatchedObjectDescriptor\"].get(\"PublicationStartDate\", None),\n",
    "    \"CloseDate\": item[\"MatchedObjectDescriptor\"].get(\"ApplicationCloseDate\", None),\n",
    "    \"TeleworkEligible\": item[\"MatchedObjectDescriptor\"].get(\"UserArea\", {}).get(\"Details\", {}).get(\"TeleworkEligible\", False),\n",
    "    \"SecurityClearance\": item[\"MatchedObjectDescriptor\"].get(\"UserArea\", {}).get(\"Details\", {}).get(\"SecurityClearance\", \"Unknown\"),\n",
    "    \"PromotionPotential\": item[\"MatchedObjectDescriptor\"].get(\"UserArea\", {}).get(\"Details\", {}).get(\"PromotionPotential\", \"Unknown\"),\n",
    "    \"TravelCode\": item[\"MatchedObjectDescriptor\"].get(\"UserArea\", {}).get(\"Details\", {}).get(\"TravelCode\", \"Unknown\"),\n",
    "    \"HiringPath\": next((path for path in item[\"MatchedObjectDescriptor\"].get(\"UserArea\", {}).get(\"Details\", {}).get(\"HiringPath\", [])), \"Unknown\"),\n",
    "    \"TotalOpenings\": item[\"MatchedObjectDescriptor\"].get(\"UserArea\", {}).get(\"Details\", {}).get(\"TotalOpenings\", \"Unknown\")\n",
    "} for item in job_data])"
   ]
  },
  {
   "cell_type": "markdown",
   "metadata": {},
   "source": [
    "### **Data Cleansing**"
   ]
  },
  {
   "cell_type": "code",
   "execution_count": 24,
   "metadata": {},
   "outputs": [
    {
     "data": {
      "text/html": [
       "<div>\n",
       "<style scoped>\n",
       "    .dataframe tbody tr th:only-of-type {\n",
       "        vertical-align: middle;\n",
       "    }\n",
       "\n",
       "    .dataframe tbody tr th {\n",
       "        vertical-align: top;\n",
       "    }\n",
       "\n",
       "    .dataframe thead th {\n",
       "        text-align: right;\n",
       "    }\n",
       "</style>\n",
       "<table border=\"1\" class=\"dataframe\">\n",
       "  <thead>\n",
       "    <tr style=\"text-align: right;\">\n",
       "      <th></th>\n",
       "      <th>PositionID</th>\n",
       "      <th>PositionTitle</th>\n",
       "      <th>PositionURI</th>\n",
       "      <th>Location</th>\n",
       "      <th>City</th>\n",
       "      <th>State</th>\n",
       "      <th>Country</th>\n",
       "      <th>Latitude</th>\n",
       "      <th>Longitude</th>\n",
       "      <th>Organization</th>\n",
       "      <th>...</th>\n",
       "      <th>PublicationDate</th>\n",
       "      <th>CloseDate</th>\n",
       "      <th>TeleworkEligible</th>\n",
       "      <th>SecurityClearance</th>\n",
       "      <th>PromotionPotential</th>\n",
       "      <th>TravelCode</th>\n",
       "      <th>HiringPath</th>\n",
       "      <th>TotalOpenings</th>\n",
       "      <th>NormalisedSalary</th>\n",
       "      <th>PublicationYear</th>\n",
       "    </tr>\n",
       "  </thead>\n",
       "  <tbody>\n",
       "    <tr>\n",
       "      <th>0</th>\n",
       "      <td>ACE-ATO-25-KRS-95095</td>\n",
       "      <td>Engineering Technician (Field Coordinator)</td>\n",
       "      <td>https://www.usajobs.gov:443/GetJob/ViewDetails...</td>\n",
       "      <td>Multiple Locations</td>\n",
       "      <td>Aurora, Illinois</td>\n",
       "      <td>Illinois</td>\n",
       "      <td>United States</td>\n",
       "      <td>41.756950</td>\n",
       "      <td>-88.31577</td>\n",
       "      <td>Federal Aviation Administration</td>\n",
       "      <td>...</td>\n",
       "      <td>2025-05-19</td>\n",
       "      <td>2025-06-09 23:59:59.997</td>\n",
       "      <td>True</td>\n",
       "      <td>Other</td>\n",
       "      <td>NA</td>\n",
       "      <td>5</td>\n",
       "      <td>fed-internal-search</td>\n",
       "      <td>1</td>\n",
       "      <td>76585.0</td>\n",
       "      <td>2025</td>\n",
       "    </tr>\n",
       "    <tr>\n",
       "      <th>1</th>\n",
       "      <td>AEA-ATO-25-BKY-94882</td>\n",
       "      <td>Engineering Technician (Drafting Coordinator)</td>\n",
       "      <td>https://www.usajobs.gov:443/GetJob/ViewDetails...</td>\n",
       "      <td>Multiple Locations</td>\n",
       "      <td>College Park, Georgia</td>\n",
       "      <td>Georgia</td>\n",
       "      <td>United States</td>\n",
       "      <td>33.655970</td>\n",
       "      <td>-84.44896</td>\n",
       "      <td>Federal Aviation Administration</td>\n",
       "      <td>...</td>\n",
       "      <td>2025-05-01</td>\n",
       "      <td>2025-05-21 23:59:59.997</td>\n",
       "      <td>True</td>\n",
       "      <td>Other</td>\n",
       "      <td>NA</td>\n",
       "      <td>2</td>\n",
       "      <td>fed-internal-search</td>\n",
       "      <td>many</td>\n",
       "      <td>63671.0</td>\n",
       "      <td>2025</td>\n",
       "    </tr>\n",
       "    <tr>\n",
       "      <th>2</th>\n",
       "      <td>CBTD-12721682-25-ST</td>\n",
       "      <td>OCA HEALTH TECHNICIAN (DIETETIC)</td>\n",
       "      <td>https://www.usajobs.gov:443/GetJob/ViewDetails...</td>\n",
       "      <td>West Roxbury, Massachusetts</td>\n",
       "      <td>West Roxbury, Massachusetts</td>\n",
       "      <td>Massachusetts</td>\n",
       "      <td>United States</td>\n",
       "      <td>42.283283</td>\n",
       "      <td>-71.15714</td>\n",
       "      <td>Veterans Health Administration</td>\n",
       "      <td>...</td>\n",
       "      <td>2025-04-14</td>\n",
       "      <td>2025-10-14 23:59:59.997</td>\n",
       "      <td>False</td>\n",
       "      <td>Not Required</td>\n",
       "      <td>None</td>\n",
       "      <td>0</td>\n",
       "      <td>public</td>\n",
       "      <td>3</td>\n",
       "      <td>45679.0</td>\n",
       "      <td>2025</td>\n",
       "    </tr>\n",
       "    <tr>\n",
       "      <th>3</th>\n",
       "      <td>DE-12732887-25-KG</td>\n",
       "      <td>Firefighter (HazMat Tech/Basic LS)</td>\n",
       "      <td>https://www.usajobs.gov:443/GetJob/ViewDetails...</td>\n",
       "      <td>Fairfield, Pennsylvania</td>\n",
       "      <td>Fairfield, Pennsylvania</td>\n",
       "      <td>Pennsylvania</td>\n",
       "      <td>United States</td>\n",
       "      <td>39.787400</td>\n",
       "      <td>-77.36870</td>\n",
       "      <td>Washington Headquarters Services</td>\n",
       "      <td>...</td>\n",
       "      <td>2025-05-06</td>\n",
       "      <td>2025-05-20 23:59:59.997</td>\n",
       "      <td>False</td>\n",
       "      <td>Secret</td>\n",
       "      <td>None</td>\n",
       "      <td>1</td>\n",
       "      <td>public</td>\n",
       "      <td>5</td>\n",
       "      <td>57164.0</td>\n",
       "      <td>2025</td>\n",
       "    </tr>\n",
       "    <tr>\n",
       "      <th>4</th>\n",
       "      <td>HSJG257813023720</td>\n",
       "      <td>Supply Technician</td>\n",
       "      <td>https://www.usajobs.gov:443/GetJob/ViewDetails...</td>\n",
       "      <td>Tripler Army Medical Center, Hawaii</td>\n",
       "      <td>Tripler Army Medical Center, Hawaii</td>\n",
       "      <td>Hawaii</td>\n",
       "      <td>United States</td>\n",
       "      <td>21.358900</td>\n",
       "      <td>-157.88900</td>\n",
       "      <td>Military Treatment Facilities under DHA</td>\n",
       "      <td>...</td>\n",
       "      <td>2025-05-12</td>\n",
       "      <td>2025-05-20 23:59:59.997</td>\n",
       "      <td>False</td>\n",
       "      <td>Not Required</td>\n",
       "      <td>None</td>\n",
       "      <td>1</td>\n",
       "      <td>fed-transition</td>\n",
       "      <td>1</td>\n",
       "      <td>52158.0</td>\n",
       "      <td>2025</td>\n",
       "    </tr>\n",
       "  </tbody>\n",
       "</table>\n",
       "<p>5 rows × 30 columns</p>\n",
       "</div>"
      ],
      "text/plain": [
       "             PositionID                                  PositionTitle  \\\n",
       "0  ACE-ATO-25-KRS-95095     Engineering Technician (Field Coordinator)   \n",
       "1  AEA-ATO-25-BKY-94882  Engineering Technician (Drafting Coordinator)   \n",
       "2   CBTD-12721682-25-ST               OCA HEALTH TECHNICIAN (DIETETIC)   \n",
       "3     DE-12732887-25-KG             Firefighter (HazMat Tech/Basic LS)   \n",
       "4      HSJG257813023720                              Supply Technician   \n",
       "\n",
       "                                         PositionURI  \\\n",
       "0  https://www.usajobs.gov:443/GetJob/ViewDetails...   \n",
       "1  https://www.usajobs.gov:443/GetJob/ViewDetails...   \n",
       "2  https://www.usajobs.gov:443/GetJob/ViewDetails...   \n",
       "3  https://www.usajobs.gov:443/GetJob/ViewDetails...   \n",
       "4  https://www.usajobs.gov:443/GetJob/ViewDetails...   \n",
       "\n",
       "                              Location                                 City  \\\n",
       "0                   Multiple Locations                     Aurora, Illinois   \n",
       "1                   Multiple Locations                College Park, Georgia   \n",
       "2          West Roxbury, Massachusetts          West Roxbury, Massachusetts   \n",
       "3              Fairfield, Pennsylvania              Fairfield, Pennsylvania   \n",
       "4  Tripler Army Medical Center, Hawaii  Tripler Army Medical Center, Hawaii   \n",
       "\n",
       "           State        Country   Latitude  Longitude  \\\n",
       "0       Illinois  United States  41.756950  -88.31577   \n",
       "1        Georgia  United States  33.655970  -84.44896   \n",
       "2  Massachusetts  United States  42.283283  -71.15714   \n",
       "3   Pennsylvania  United States  39.787400  -77.36870   \n",
       "4         Hawaii  United States  21.358900 -157.88900   \n",
       "\n",
       "                              Organization  ... PublicationDate  \\\n",
       "0          Federal Aviation Administration  ...      2025-05-19   \n",
       "1          Federal Aviation Administration  ...      2025-05-01   \n",
       "2           Veterans Health Administration  ...      2025-04-14   \n",
       "3         Washington Headquarters Services  ...      2025-05-06   \n",
       "4  Military Treatment Facilities under DHA  ...      2025-05-12   \n",
       "\n",
       "                CloseDate  TeleworkEligible SecurityClearance  \\\n",
       "0 2025-06-09 23:59:59.997              True             Other   \n",
       "1 2025-05-21 23:59:59.997              True             Other   \n",
       "2 2025-10-14 23:59:59.997             False      Not Required   \n",
       "3 2025-05-20 23:59:59.997             False            Secret   \n",
       "4 2025-05-20 23:59:59.997             False      Not Required   \n",
       "\n",
       "  PromotionPotential TravelCode           HiringPath TotalOpenings  \\\n",
       "0                 NA          5  fed-internal-search             1   \n",
       "1                 NA          2  fed-internal-search          many   \n",
       "2               None          0               public             3   \n",
       "3               None          1               public             5   \n",
       "4               None          1       fed-transition             1   \n",
       "\n",
       "  NormalisedSalary PublicationYear  \n",
       "0          76585.0            2025  \n",
       "1          63671.0            2025  \n",
       "2          45679.0            2025  \n",
       "3          57164.0            2025  \n",
       "4          52158.0            2025  \n",
       "\n",
       "[5 rows x 30 columns]"
      ]
     },
     "execution_count": 24,
     "metadata": {},
     "output_type": "execute_result"
    }
   ],
   "source": [
    "df.head()"
   ]
  },
  {
   "cell_type": "code",
   "execution_count": 22,
   "metadata": {},
   "outputs": [
    {
     "name": "stdout",
     "output_type": "stream",
     "text": [
      "<class 'pandas.core.frame.DataFrame'>\n",
      "Index: 886 entries, 0 to 886\n",
      "Data columns (total 30 columns):\n",
      " #   Column              Non-Null Count  Dtype         \n",
      "---  ------              --------------  -----         \n",
      " 0   PositionID          886 non-null    object        \n",
      " 1   PositionTitle       886 non-null    object        \n",
      " 2   PositionURI         886 non-null    object        \n",
      " 3   Location            886 non-null    object        \n",
      " 4   City                886 non-null    object        \n",
      " 5   State               886 non-null    object        \n",
      " 6   Country             886 non-null    object        \n",
      " 7   Latitude            886 non-null    float64       \n",
      " 8   Longitude           886 non-null    float64       \n",
      " 9   Organization        886 non-null    object        \n",
      " 10  Department          886 non-null    object        \n",
      " 11  MinSalary           886 non-null    float64       \n",
      " 12  MaxSalary           886 non-null    float64       \n",
      " 13  SalaryInterval      886 non-null    object        \n",
      " 14  JobCategory         886 non-null    object        \n",
      " 15  JobGrade            886 non-null    object        \n",
      " 16  Schedule            886 non-null    object        \n",
      " 17  OfferingType        886 non-null    object        \n",
      " 18  StartDate           886 non-null    datetime64[ns]\n",
      " 19  EndDate             886 non-null    datetime64[ns]\n",
      " 20  PublicationDate     886 non-null    datetime64[ns]\n",
      " 21  CloseDate           886 non-null    datetime64[ns]\n",
      " 22  TeleworkEligible    886 non-null    bool          \n",
      " 23  SecurityClearance   886 non-null    object        \n",
      " 24  PromotionPotential  886 non-null    object        \n",
      " 25  TravelCode          886 non-null    object        \n",
      " 26  HiringPath          886 non-null    object        \n",
      " 27  TotalOpenings       886 non-null    object        \n",
      " 28  NormalisedSalary    886 non-null    float64       \n",
      " 29  PublicationYear     886 non-null    int32         \n",
      "dtypes: bool(1), datetime64[ns](4), float64(5), int32(1), object(19)\n",
      "memory usage: 205.1+ KB\n"
     ]
    }
   ],
   "source": [
    "df.info()"
   ]
  },
  {
   "cell_type": "markdown",
   "metadata": {},
   "source": [
    "#### **Handle missing values**"
   ]
  },
  {
   "cell_type": "code",
   "execution_count": 10,
   "metadata": {},
   "outputs": [],
   "source": [
    "df = df.fillna({\n",
    "    \"MinSalary\": 0,\n",
    "    \"MaxSalary\": 0,\n",
    "    \"City\": \"Unknown\",\n",
    "    \"State\": \"Unknown\",\n",
    "    \"Country\": \"Unknown\",\n",
    "    \"Latitude\": 0,\n",
    "    \"Longitude\": 0\n",
    "})"
   ]
  },
  {
   "cell_type": "markdown",
   "metadata": {},
   "source": [
    "#### **Convert salary to numeric and filter out invalid values**"
   ]
  },
  {
   "cell_type": "code",
   "execution_count": 11,
   "metadata": {},
   "outputs": [
    {
     "name": "stdout",
     "output_type": "stream",
     "text": [
      "Before filtering: 887\n",
      "After filtering: 886\n"
     ]
    }
   ],
   "source": [
    "df[\"MinSalary\"] = pd.to_numeric(df[\"MinSalary\"], errors=\"coerce\").fillna(0)\n",
    "df[\"MaxSalary\"] = pd.to_numeric(df[\"MaxSalary\"], errors=\"coerce\").fillna(0)\n",
    "print(\"Before filtering:\", len(df))\n",
    "df = df[(df[\"MinSalary\"] > 0) & (df[\"MaxSalary\"] > 0)]\n",
    "print(\"After filtering:\", len(df))"
   ]
  },
  {
   "cell_type": "markdown",
   "metadata": {},
   "source": [
    "#### **Normalise salary to yearly**"
   ]
  },
  {
   "cell_type": "code",
   "execution_count": 12,
   "metadata": {},
   "outputs": [],
   "source": [
    "df[\"NormalisedSalary\"] = df.apply(\n",
    "    lambda x: x[\"MinSalary\"] if x[\"SalaryInterval\"] == \"PA\" \n",
    "    else x[\"MinSalary\"] * 2080 if x[\"SalaryInterval\"] == \"PH\" \n",
    "    else x[\"MinSalary\"] * 12 if x[\"SalaryInterval\"] == \"PM\" \n",
    "    else x[\"MinSalary\"], axis=1\n",
    ")"
   ]
  },
  {
   "cell_type": "markdown",
   "metadata": {},
   "source": [
    "#### **Convert dates to datetime**"
   ]
  },
  {
   "cell_type": "code",
   "execution_count": 13,
   "metadata": {},
   "outputs": [],
   "source": [
    "date_columns = [\"StartDate\", \"EndDate\", \"PublicationDate\", \"CloseDate\"]\n",
    "for col in date_columns:\n",
    "    df[col] = pd.to_datetime(df[col], errors=\"coerce\")"
   ]
  },
  {
   "cell_type": "markdown",
   "metadata": {},
   "source": [
    "#### **Save to CSV**"
   ]
  },
  {
   "cell_type": "code",
   "execution_count": 14,
   "metadata": {},
   "outputs": [
    {
     "name": "stdout",
     "output_type": "stream",
     "text": [
      "Data saved to usajobs_data_20250520_110223.csv\n"
     ]
    }
   ],
   "source": [
    "timestamp = datetime.now().strftime(\"%Y%m%d_%H%M%S\")\n",
    "csv_file = f\"usajobs_data_{timestamp}.csv\"\n",
    "df.to_csv(csv_file, index=False)\n",
    "print(f\"Data saved to {csv_file}\")"
   ]
  },
  {
   "cell_type": "markdown",
   "metadata": {},
   "source": [
    "### **Exploratory Data Analysis (EDA)**"
   ]
  },
  {
   "cell_type": "code",
   "execution_count": 15,
   "metadata": {},
   "outputs": [
    {
     "data": {
      "text/html": [
       "<div>\n",
       "<style scoped>\n",
       "    .dataframe tbody tr th:only-of-type {\n",
       "        vertical-align: middle;\n",
       "    }\n",
       "\n",
       "    .dataframe tbody tr th {\n",
       "        vertical-align: top;\n",
       "    }\n",
       "\n",
       "    .dataframe thead th {\n",
       "        text-align: right;\n",
       "    }\n",
       "</style>\n",
       "<table border=\"1\" class=\"dataframe\">\n",
       "  <thead>\n",
       "    <tr style=\"text-align: right;\">\n",
       "      <th></th>\n",
       "      <th>Latitude</th>\n",
       "      <th>Longitude</th>\n",
       "      <th>MinSalary</th>\n",
       "      <th>MaxSalary</th>\n",
       "      <th>StartDate</th>\n",
       "      <th>EndDate</th>\n",
       "      <th>PublicationDate</th>\n",
       "      <th>CloseDate</th>\n",
       "      <th>NormalisedSalary</th>\n",
       "    </tr>\n",
       "  </thead>\n",
       "  <tbody>\n",
       "    <tr>\n",
       "      <th>count</th>\n",
       "      <td>886.000000</td>\n",
       "      <td>886.000000</td>\n",
       "      <td>886.000000</td>\n",
       "      <td>886.000000</td>\n",
       "      <td>886</td>\n",
       "      <td>886</td>\n",
       "      <td>886</td>\n",
       "      <td>886</td>\n",
       "      <td>886.000000</td>\n",
       "    </tr>\n",
       "    <tr>\n",
       "      <th>mean</th>\n",
       "      <td>37.839855</td>\n",
       "      <td>-94.348110</td>\n",
       "      <td>56907.216467</td>\n",
       "      <td>80044.677393</td>\n",
       "      <td>2025-03-30 09:15:30.544927744</td>\n",
       "      <td>2025-07-13 04:07:02.570363648</td>\n",
       "      <td>2025-03-30 09:15:30.544927744</td>\n",
       "      <td>2025-07-13 04:07:02.570363648</td>\n",
       "      <td>61057.684199</td>\n",
       "    </tr>\n",
       "    <tr>\n",
       "      <th>min</th>\n",
       "      <td>0.000000</td>\n",
       "      <td>-159.546160</td>\n",
       "      <td>15.000000</td>\n",
       "      <td>15.000000</td>\n",
       "      <td>2024-05-30 00:00:00</td>\n",
       "      <td>2025-05-20 23:59:59.997000</td>\n",
       "      <td>2024-05-30 00:00:00</td>\n",
       "      <td>2025-05-20 23:59:59.997000</td>\n",
       "      <td>22360.000000</td>\n",
       "    </tr>\n",
       "    <tr>\n",
       "      <th>25%</th>\n",
       "      <td>34.385300</td>\n",
       "      <td>-108.816092</td>\n",
       "      <td>40332.000000</td>\n",
       "      <td>61952.250000</td>\n",
       "      <td>2025-03-13 02:19:50.634249984</td>\n",
       "      <td>2025-05-26 23:59:59.996999936</td>\n",
       "      <td>2025-03-13 02:19:50.634249984</td>\n",
       "      <td>2025-05-26 23:59:59.996999936</td>\n",
       "      <td>41611.250000</td>\n",
       "    </tr>\n",
       "    <tr>\n",
       "      <th>50%</th>\n",
       "      <td>38.833110</td>\n",
       "      <td>-93.264930</td>\n",
       "      <td>53225.500000</td>\n",
       "      <td>73978.000000</td>\n",
       "      <td>2025-05-07 07:31:54.500000</td>\n",
       "      <td>2025-06-02 23:59:59.996999936</td>\n",
       "      <td>2025-05-07 07:31:54.500000</td>\n",
       "      <td>2025-06-02 23:59:59.996999936</td>\n",
       "      <td>54416.000000</td>\n",
       "    </tr>\n",
       "    <tr>\n",
       "      <th>75%</th>\n",
       "      <td>42.197959</td>\n",
       "      <td>-80.413010</td>\n",
       "      <td>71816.000000</td>\n",
       "      <td>96887.000000</td>\n",
       "      <td>2025-05-15 00:00:00</td>\n",
       "      <td>2025-08-07 23:59:59.996999936</td>\n",
       "      <td>2025-05-15 00:00:00</td>\n",
       "      <td>2025-08-07 23:59:59.996999936</td>\n",
       "      <td>71865.000000</td>\n",
       "    </tr>\n",
       "    <tr>\n",
       "      <th>max</th>\n",
       "      <td>64.841705</td>\n",
       "      <td>144.796000</td>\n",
       "      <td>370000.000000</td>\n",
       "      <td>400000.000000</td>\n",
       "      <td>2025-05-20 11:30:55.753000</td>\n",
       "      <td>2026-05-20 23:59:59.997000</td>\n",
       "      <td>2025-05-20 11:30:55.753000</td>\n",
       "      <td>2026-05-20 23:59:59.997000</td>\n",
       "      <td>370000.000000</td>\n",
       "    </tr>\n",
       "    <tr>\n",
       "      <th>std</th>\n",
       "      <td>7.285433</td>\n",
       "      <td>30.111958</td>\n",
       "      <td>32023.352813</td>\n",
       "      <td>43629.890702</td>\n",
       "      <td>NaN</td>\n",
       "      <td>NaN</td>\n",
       "      <td>NaN</td>\n",
       "      <td>NaN</td>\n",
       "      <td>26872.409120</td>\n",
       "    </tr>\n",
       "  </tbody>\n",
       "</table>\n",
       "</div>"
      ],
      "text/plain": [
       "         Latitude   Longitude      MinSalary      MaxSalary  \\\n",
       "count  886.000000  886.000000     886.000000     886.000000   \n",
       "mean    37.839855  -94.348110   56907.216467   80044.677393   \n",
       "min      0.000000 -159.546160      15.000000      15.000000   \n",
       "25%     34.385300 -108.816092   40332.000000   61952.250000   \n",
       "50%     38.833110  -93.264930   53225.500000   73978.000000   \n",
       "75%     42.197959  -80.413010   71816.000000   96887.000000   \n",
       "max     64.841705  144.796000  370000.000000  400000.000000   \n",
       "std      7.285433   30.111958   32023.352813   43629.890702   \n",
       "\n",
       "                           StartDate                        EndDate  \\\n",
       "count                            886                            886   \n",
       "mean   2025-03-30 09:15:30.544927744  2025-07-13 04:07:02.570363648   \n",
       "min              2024-05-30 00:00:00     2025-05-20 23:59:59.997000   \n",
       "25%    2025-03-13 02:19:50.634249984  2025-05-26 23:59:59.996999936   \n",
       "50%       2025-05-07 07:31:54.500000  2025-06-02 23:59:59.996999936   \n",
       "75%              2025-05-15 00:00:00  2025-08-07 23:59:59.996999936   \n",
       "max       2025-05-20 11:30:55.753000     2026-05-20 23:59:59.997000   \n",
       "std                              NaN                            NaN   \n",
       "\n",
       "                     PublicationDate                      CloseDate  \\\n",
       "count                            886                            886   \n",
       "mean   2025-03-30 09:15:30.544927744  2025-07-13 04:07:02.570363648   \n",
       "min              2024-05-30 00:00:00     2025-05-20 23:59:59.997000   \n",
       "25%    2025-03-13 02:19:50.634249984  2025-05-26 23:59:59.996999936   \n",
       "50%       2025-05-07 07:31:54.500000  2025-06-02 23:59:59.996999936   \n",
       "75%              2025-05-15 00:00:00  2025-08-07 23:59:59.996999936   \n",
       "max       2025-05-20 11:30:55.753000     2026-05-20 23:59:59.997000   \n",
       "std                              NaN                            NaN   \n",
       "\n",
       "       NormalisedSalary  \n",
       "count        886.000000  \n",
       "mean       61057.684199  \n",
       "min        22360.000000  \n",
       "25%        41611.250000  \n",
       "50%        54416.000000  \n",
       "75%        71865.000000  \n",
       "max       370000.000000  \n",
       "std        26872.409120  "
      ]
     },
     "execution_count": 15,
     "metadata": {},
     "output_type": "execute_result"
    }
   ],
   "source": [
    "df.describe()"
   ]
  },
  {
   "cell_type": "markdown",
   "metadata": {},
   "source": [
    "#### **Salary Distribution**"
   ]
  },
  {
   "cell_type": "code",
   "execution_count": 16,
   "metadata": {},
   "outputs": [
    {
     "data": {
      "image/png": "[encoded data removed]",
      "text/plain": [
       "<Figure size 1000x600 with 1 Axes>"
      ]
     },
     "metadata": {},
     "output_type": "display_data"
    }
   ],
   "source": [
    "plt.figure(figsize=(10, 6))\n",
    "sns.histplot(data=df, x=\"NormalisedSalary\", bins=30)\n",
    "plt.title(\"Distribution of Normalised Salaries\")\n",
    "plt.xlabel(\"Salary (USD)\")\n",
    "plt.ylabel(\"Count\")\n",
    "plt.show()"
   ]
  },
  {
   "cell_type": "markdown",
   "metadata": {},
   "source": [
    "#### **Job Postings by Organization**"
   ]
  },
  {
   "cell_type": "code",
   "execution_count": 17,
   "metadata": {},
   "outputs": [
    {
     "data": {
      "image/png": "[encoded data removed]",
      "text/plain": [
       "<Figure size 1200x600 with 1 Axes>"
      ]
     },
     "metadata": {},
     "output_type": "display_data"
    }
   ],
   "source": [
    "plt.figure(figsize=(12, 6))\n",
    "top_orgs = df[\"Organization\"].value_counts().head(10)\n",
    "sns.barplot(x=top_orgs.values, y=top_orgs.index)\n",
    "plt.title(\"Top 10 Organizations by Job Postings\")\n",
    "plt.xlabel(\"Number of Jobs\")\n",
    "plt.ylabel(\"Organization\")\n",
    "plt.show()"
   ]
  },
  {
   "cell_type": "markdown",
   "metadata": {},
   "source": [
    "#### **Job Postings Over Time**"
   ]
  },
  {
   "cell_type": "code",
   "execution_count": 18,
   "metadata": {},
   "outputs": [
    {
     "data": {
      "image/png": "[encoded data removed]",
      "text/plain": [
       "<Figure size 1000x600 with 1 Axes>"
      ]
     },
     "metadata": {},
     "output_type": "display_data"
    }
   ],
   "source": [
    "df[\"PublicationYear\"] = df[\"PublicationDate\"].dt.year\n",
    "plt.figure(figsize=(10, 6))\n",
    "sns.countplot(data=df, x=\"PublicationYear\")\n",
    "plt.title(\"Job Postings by Year\")\n",
    "plt.xlabel(\"Year\")\n",
    "plt.ylabel(\"Number of Jobs\")\n",
    "plt.show()"
   ]
  },
  {
   "cell_type": "markdown",
   "metadata": {},
   "source": [
    "#### **Remote Work Eligibility**"
   ]
  },
  {
   "cell_type": "code",
   "execution_count": 19,
   "metadata": {},
   "outputs": [
    {
     "data": {
      "image/png": "[encoded data removed]",
      "text/plain": [
       "<Figure size 800x600 with 1 Axes>"
      ]
     },
     "metadata": {},
     "output_type": "display_data"
    }
   ],
   "source": [
    "plt.figure(figsize=(8, 6))\n",
    "sns.countplot(data=df, x=\"TeleworkEligible\")\n",
    "plt.title(\"Telework Eligibility of Jobs\")\n",
    "plt.xlabel(\"Telework Eligible\")\n",
    "plt.ylabel(\"Count\")\n",
    "plt.show()"
   ]
  },
  {
   "cell_type": "markdown",
   "metadata": {},
   "source": [
    "#### **Hiring Path Distribution**"
   ]
  },
  {
   "cell_type": "code",
   "execution_count": 20,
   "metadata": {},
   "outputs": [
    {
     "data": {
      "image/png": "[encoded data removed]",
      "text/plain": [
       "<Figure size 800x600 with 1 Axes>"
      ]
     },
     "metadata": {},
     "output_type": "display_data"
    }
   ],
   "source": [
    "plt.figure(figsize=(8, 6))\n",
    "sns.countplot(data=df, y=\"HiringPath\", order=df[\"HiringPath\"].value_counts().index) \n",
    "plt.title(\"Distribution of Hiring Paths\")\n",
    "plt.xlabel(\"Count\") \n",
    "plt.ylabel(\"Hiring Path\")\n",
    "plt.show()"
   ]
  }
 ],
 "metadata": {
  "kernelspec": {
   "display_name": "Python 3",
   "language": "python",
   "name": "python3"
  },
  "language_info": {
   "codemirror_mode": {
    "name": "ipython",
    "version": 3
   },
   "file_extension": ".py",
   "mimetype": "text/x-python",
   "name": "python",
   "nbconvert_exporter": "python",
   "pygments_lexer": "ipython3",
   "version": "3.13.1"
  }
 },
 "nbformat": 4,
 "nbformat_minor": 2
}
