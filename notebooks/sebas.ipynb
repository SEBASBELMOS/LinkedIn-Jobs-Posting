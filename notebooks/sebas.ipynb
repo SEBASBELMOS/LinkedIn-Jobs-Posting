{
 "cells": [
  {
   "cell_type": "code",
   "execution_count": 1,
   "metadata": {},
   "outputs": [
    {
     "name": "stdout",
     "output_type": "stream",
     "text": [
      "c:\\Users\\gabri\\OneDrive\\Documentos\\Universidad\\ETL\\proyecto\\project_etl\\notebooks\n",
      "c:\\Users\\gabri\\OneDrive\\Documentos\\Universidad\\ETL\\proyecto\\project_etl\n"
     ]
    }
   ],
   "source": [
    "import os \n",
    "print(os.getcwd())\n",
    "\n",
    "try:\n",
    "    os.chdir(\"../../project_etl\")\n",
    "\n",
    "except FileNotFoundError:\n",
    "    print(\"\"\"\n",
    "        FileNotFoundError - The directory may not exist or you might not be in the specified path.\n",
    "        If this has already worked, do not run this block again, as the current directory is already set to workshop-001.\n",
    "        \"\"\")\n",
    "    \n",
    "print(os.getcwd())"
   ]
  },
  {
   "cell_type": "code",
   "execution_count": 7,
   "metadata": {},
   "outputs": [],
   "source": [
    "import pandas as pd\n",
    "import matplotlib.pyplot as plt\n",
    "import seaborn as sns\n",
    "\n",
    "plt.style.use('ggplot')\n",
    "\n",
    "from functions.db_connection.connection import creating_engine"
   ]
  },
  {
   "cell_type": "code",
   "execution_count": 8,
   "metadata": {},
   "outputs": [],
   "source": [
    "from sqlalchemy import create_engine, text"
   ]
  },
  {
   "cell_type": "code",
   "execution_count": 9,
   "metadata": {},
   "outputs": [],
   "source": [
    "existing_engine = creating_engine()"
   ]
  },
  {
   "cell_type": "code",
   "execution_count": 10,
   "metadata": {},
   "outputs": [
    {
     "name": "stdout",
     "output_type": "stream",
     "text": [
      "DataFrames loaded from PostgreSQL (from raw database).\n"
     ]
    }
   ],
   "source": [
    "benefits_df = pd.read_sql(\"SELECT * FROM public.benefits\", con=existing_engine)\n",
    "employee_counts_df = pd.read_sql(\"SELECT * FROM public.employee_counts\", con=existing_engine)\n",
    "industries_df = pd.read_sql(\"SELECT * FROM public.industries\", con=existing_engine)\n",
    "skills_industries_df = pd.read_sql(\"SELECT * FROM public.skills_industries\", con=existing_engine)\n",
    "companies_df = pd.read_sql(\"SELECT * FROM public.companies\", con=existing_engine)\n",
    "\n",
    "print(\"DataFrames loaded from PostgreSQL (from raw database).\")"
   ]
  }
 ],
 "metadata": {
  "kernelspec": {
   "display_name": "project-etl-jkfXzUy8-py3.13",
   "language": "python",
   "name": "python3"
  },
  "language_info": {
   "codemirror_mode": {
    "name": "ipython",
    "version": 3
   },
   "file_extension": ".py",
   "mimetype": "text/x-python",
   "name": "python",
   "nbconvert_exporter": "python",
   "pygments_lexer": "ipython3",
   "version": "3.13.2"
  }
 },
 "nbformat": 4,
 "nbformat_minor": 2
}
