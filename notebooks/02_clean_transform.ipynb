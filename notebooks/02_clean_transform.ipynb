{
 "cells": [
  {
   "cell_type": "markdown",
   "metadata": {},
   "source": [
    "## **PROJECT - NOTEBOOK #2: Data Cleansing, transformation and Exploratory Data Analysis (EDA)**\n",
    "\n",
    "---"
   ]
  },
  {
   "cell_type": "markdown",
   "metadata": {},
   "source": [
    "### **Setting Environment**"
   ]
  },
  {
   "cell_type": "code",
   "execution_count": 13,
   "metadata": {},
   "outputs": [
    {
     "name": "stdout",
     "output_type": "stream",
     "text": [
      "d:\\U\\FIFTH SEMESTER\\ETL\\project_etl\n",
      "\n",
      "        FileNotFoundError - The directory may not exist or you might not be in the specified path.\n",
      "        If this has already worked, do not run this block again, as the current directory is already set to workshop-001.\n",
      "        \n",
      "d:\\U\\FIFTH SEMESTER\\ETL\\project_etl\n"
     ]
    }
   ],
   "source": [
    "import os \n",
    "print(os.getcwd())\n",
    "\n",
    "try:\n",
    "    os.chdir(\"../../project_etl\")\n",
    "\n",
    "except FileNotFoundError:\n",
    "    print(\"\"\"\n",
    "        FileNotFoundError - The directory may not exist or you might not be in the specified path.\n",
    "        If this has already worked, do not run this block again, as the current directory is already set to workshop-001.\n",
    "        \"\"\")\n",
    "    \n",
    "print(os.getcwd())"
   ]
  },
  {
   "cell_type": "markdown",
   "metadata": {},
   "source": [
    "### **Load Data**"
   ]
  },
  {
   "cell_type": "code",
   "execution_count": 14,
   "metadata": {},
   "outputs": [],
   "source": [
    "import pandas as pd\n",
    "import matplotlib.pyplot as plt\n",
    "import seaborn as sns\n",
    "\n",
    "plt.style.use('ggplot')\n",
    "\n",
    "from functions.db_connection.connection import creating_engine"
   ]
  },
  {
   "cell_type": "code",
   "execution_count": 15,
   "metadata": {},
   "outputs": [],
   "source": [
    "engine = creating_engine()"
   ]
  },
  {
   "cell_type": "markdown",
   "metadata": {},
   "source": [
    "### **Load Database**"
   ]
  },
  {
   "cell_type": "code",
   "execution_count": null,
   "metadata": {},
   "outputs": [],
   "source": [
    "#df = pd.read_sql_query(\"SELECT * FROM jobs LIMIT 1000\", engine)    #Select a batch\n",
    "df = pd.read_sql_table(\"jobs\", engine) #Select all the data\n",
    "df"
   ]
  },
  {
   "cell_type": "markdown",
   "metadata": {},
   "source": [
    "### **Understanding the dataset**"
   ]
  },
  {
   "cell_type": "markdown",
   "metadata": {},
   "source": [
    "#### **Data column details**"
   ]
  },
  {
   "cell_type": "code",
   "execution_count": null,
   "metadata": {},
   "outputs": [
    {
     "name": "stdout",
     "output_type": "stream",
     "text": [
      "<class 'pandas.core.frame.DataFrame'>\n",
      "RangeIndex: 123849 entries, 0 to 123848\n",
      "Data columns (total 31 columns):\n",
      " #   Column                      Non-Null Count   Dtype  \n",
      "---  ------                      --------------   -----  \n",
      " 0   job_id                      123849 non-null  int64  \n",
      " 1   company_name                122130 non-null  object \n",
      " 2   title                       123849 non-null  object \n",
      " 3   description                 123842 non-null  object \n",
      " 4   max_salary                  29793 non-null   float64\n",
      " 5   pay_period                  36073 non-null   object \n",
      " 6   location                    123849 non-null  object \n",
      " 7   company_id                  122132 non-null  float64\n",
      " 8   views                       122160 non-null  float64\n",
      " 9   med_salary                  6280 non-null    float64\n",
      " 10  min_salary                  29793 non-null   float64\n",
      " 11  formatted_work_type         123849 non-null  object \n",
      " 12  applies                     23320 non-null   float64\n",
      " 13  original_listed_time        123849 non-null  float64\n",
      " 14  remote_allowed              15246 non-null   float64\n",
      " 15  job_posting_url             123849 non-null  object \n",
      " 16  application_url             87184 non-null   object \n",
      " 17  application_type            123849 non-null  object \n",
      " 18  expiry                      123849 non-null  float64\n",
      " 19  closed_time                 1073 non-null    float64\n",
      " 20  formatted_experience_level  94440 non-null   object \n",
      " 21  skills_desc                 2439 non-null    object \n",
      " 22  listed_time                 123849 non-null  float64\n",
      " 23  posting_domain              83881 non-null   object \n",
      " 24  sponsored                   123849 non-null  int64  \n",
      " 25  work_type                   123849 non-null  object \n",
      " 26  currency                    36073 non-null   object \n",
      " 27  compensation_type           36073 non-null   object \n",
      " 28  normalized_salary           36073 non-null   float64\n",
      " 29  zip_code                    102977 non-null  float64\n",
      " 30  fips                        96434 non-null   float64\n",
      "dtypes: float64(14), int64(2), object(15)\n",
      "memory usage: 29.3+ MB\n"
     ]
    }
   ],
   "source": [
    "df.info()"
   ]
  },
  {
   "cell_type": "markdown",
   "metadata": {},
   "source": [
    "#### **Examining the dataset for duplicate rows.**"
   ]
  },
  {
   "cell_type": "code",
   "execution_count": null,
   "metadata": {},
   "outputs": [
    {
     "data": {
      "text/plain": [
       "np.int64(0)"
      ]
     },
     "execution_count": 6,
     "metadata": {},
     "output_type": "execute_result"
    }
   ],
   "source": [
    "df.duplicated().sum()"
   ]
  },
  {
   "cell_type": "markdown",
   "metadata": {},
   "source": [
    "#### **Examining the dataset for null values.**"
   ]
  },
  {
   "cell_type": "code",
   "execution_count": null,
   "metadata": {},
   "outputs": [
    {
     "data": {
      "text/plain": [
       "job_id                             0\n",
       "company_name                    1719\n",
       "title                              0\n",
       "description                        7\n",
       "max_salary                     94056\n",
       "pay_period                     87776\n",
       "location                           0\n",
       "company_id                      1717\n",
       "views                           1689\n",
       "med_salary                    117569\n",
       "min_salary                     94056\n",
       "formatted_work_type                0\n",
       "applies                       100529\n",
       "original_listed_time               0\n",
       "remote_allowed                108603\n",
       "job_posting_url                    0\n",
       "application_url                36665\n",
       "application_type                   0\n",
       "expiry                             0\n",
       "closed_time                   122776\n",
       "formatted_experience_level     29409\n",
       "skills_desc                   121410\n",
       "listed_time                        0\n",
       "posting_domain                 39968\n",
       "sponsored                          0\n",
       "work_type                          0\n",
       "currency                       87776\n",
       "compensation_type              87776\n",
       "normalized_salary              87776\n",
       "zip_code                       20872\n",
       "fips                           27415\n",
       "dtype: int64"
      ]
     },
     "execution_count": 7,
     "metadata": {},
     "output_type": "execute_result"
    }
   ],
   "source": [
    "df.isnull().sum()"
   ]
  },
  {
   "cell_type": "markdown",
   "metadata": {},
   "source": [
    "#### **Counting unique values in each column**"
   ]
  },
  {
   "cell_type": "code",
   "execution_count": null,
   "metadata": {},
   "outputs": [
    {
     "data": {
      "text/plain": [
       "job_id                        123849\n",
       "company_name                   24428\n",
       "title                          72521\n",
       "description                   107827\n",
       "max_salary                      5321\n",
       "pay_period                         5\n",
       "location                        8526\n",
       "company_id                     24474\n",
       "views                            684\n",
       "med_salary                      1417\n",
       "min_salary                      4612\n",
       "formatted_work_type                7\n",
       "applies                          274\n",
       "original_listed_time           65036\n",
       "remote_allowed                     1\n",
       "job_posting_url               123849\n",
       "application_url                84800\n",
       "application_type                   4\n",
       "expiry                         54851\n",
       "closed_time                      698\n",
       "formatted_experience_level         6\n",
       "skills_desc                     2212\n",
       "listed_time                    53231\n",
       "posting_domain                  4443\n",
       "sponsored                          1\n",
       "work_type                          7\n",
       "currency                           6\n",
       "compensation_type                  1\n",
       "normalized_salary               7259\n",
       "zip_code                        6989\n",
       "fips                            2270\n",
       "dtype: int64"
      ]
     },
     "execution_count": 8,
     "metadata": {},
     "output_type": "execute_result"
    }
   ],
   "source": [
    "df.nunique()"
   ]
  },
  {
   "cell_type": "markdown",
   "metadata": {},
   "source": [
    "### **Data Analysis**"
   ]
  },
  {
   "cell_type": "code",
   "execution_count": null,
   "metadata": {},
   "outputs": [
    {
     "data": {
      "text/html": [
       "<div>\n",
       "<style scoped>\n",
       "    .dataframe tbody tr th:only-of-type {\n",
       "        vertical-align: middle;\n",
       "    }\n",
       "\n",
       "    .dataframe tbody tr th {\n",
       "        vertical-align: top;\n",
       "    }\n",
       "\n",
       "    .dataframe thead th {\n",
       "        text-align: right;\n",
       "    }\n",
       "</style>\n",
       "<table border=\"1\" class=\"dataframe\">\n",
       "  <thead>\n",
       "    <tr style=\"text-align: right;\">\n",
       "      <th></th>\n",
       "      <th>job_id</th>\n",
       "      <th>max_salary</th>\n",
       "      <th>company_id</th>\n",
       "      <th>views</th>\n",
       "      <th>med_salary</th>\n",
       "      <th>min_salary</th>\n",
       "      <th>applies</th>\n",
       "      <th>original_listed_time</th>\n",
       "      <th>remote_allowed</th>\n",
       "      <th>expiry</th>\n",
       "      <th>closed_time</th>\n",
       "      <th>listed_time</th>\n",
       "      <th>sponsored</th>\n",
       "      <th>normalized_salary</th>\n",
       "      <th>zip_code</th>\n",
       "      <th>fips</th>\n",
       "    </tr>\n",
       "  </thead>\n",
       "  <tbody>\n",
       "    <tr>\n",
       "      <th>count</th>\n",
       "      <td>1.238490e+05</td>\n",
       "      <td>1.238490e+05</td>\n",
       "      <td>1.221320e+05</td>\n",
       "      <td>122160.000000</td>\n",
       "      <td>6280.000000</td>\n",
       "      <td>2.979300e+04</td>\n",
       "      <td>23320.000000</td>\n",
       "      <td>1.238490e+05</td>\n",
       "      <td>15246.0</td>\n",
       "      <td>1.238490e+05</td>\n",
       "      <td>1.073000e+03</td>\n",
       "      <td>1.238490e+05</td>\n",
       "      <td>123849.0</td>\n",
       "      <td>3.607300e+04</td>\n",
       "      <td>102977.000000</td>\n",
       "      <td>96434.000000</td>\n",
       "    </tr>\n",
       "    <tr>\n",
       "      <th>mean</th>\n",
       "      <td>3.896402e+09</td>\n",
       "      <td>8.287214e+04</td>\n",
       "      <td>1.220401e+07</td>\n",
       "      <td>14.618247</td>\n",
       "      <td>22015.619876</td>\n",
       "      <td>6.491085e+04</td>\n",
       "      <td>10.591981</td>\n",
       "      <td>1.713152e+12</td>\n",
       "      <td>1.0</td>\n",
       "      <td>1.716213e+12</td>\n",
       "      <td>1.712928e+12</td>\n",
       "      <td>1.713204e+12</td>\n",
       "      <td>0.0</td>\n",
       "      <td>2.053270e+05</td>\n",
       "      <td>50400.491887</td>\n",
       "      <td>28713.879887</td>\n",
       "    </tr>\n",
       "    <tr>\n",
       "      <th>std</th>\n",
       "      <td>8.404355e+07</td>\n",
       "      <td>3.439057e+05</td>\n",
       "      <td>2.554143e+07</td>\n",
       "      <td>85.903598</td>\n",
       "      <td>52255.873846</td>\n",
       "      <td>4.959738e+05</td>\n",
       "      <td>29.047395</td>\n",
       "      <td>4.848209e+08</td>\n",
       "      <td>0.0</td>\n",
       "      <td>2.321394e+09</td>\n",
       "      <td>3.622893e+08</td>\n",
       "      <td>3.989122e+08</td>\n",
       "      <td>0.0</td>\n",
       "      <td>5.097627e+06</td>\n",
       "      <td>30252.232515</td>\n",
       "      <td>16015.929825</td>\n",
       "    </tr>\n",
       "    <tr>\n",
       "      <th>min</th>\n",
       "      <td>9.217160e+05</td>\n",
       "      <td>1.000000e+00</td>\n",
       "      <td>1.009000e+03</td>\n",
       "      <td>1.000000</td>\n",
       "      <td>0.000000</td>\n",
       "      <td>1.000000e+00</td>\n",
       "      <td>1.000000</td>\n",
       "      <td>1.701811e+12</td>\n",
       "      <td>1.0</td>\n",
       "      <td>1.712903e+12</td>\n",
       "      <td>1.712346e+12</td>\n",
       "      <td>1.711317e+12</td>\n",
       "      <td>0.0</td>\n",
       "      <td>0.000000e+00</td>\n",
       "      <td>1001.000000</td>\n",
       "      <td>1003.000000</td>\n",
       "    </tr>\n",
       "    <tr>\n",
       "      <th>25%</th>\n",
       "      <td>3.894587e+09</td>\n",
       "      <td>8.000000e+04</td>\n",
       "      <td>1.435200e+04</td>\n",
       "      <td>3.000000</td>\n",
       "      <td>18.940000</td>\n",
       "      <td>3.700000e+01</td>\n",
       "      <td>1.000000</td>\n",
       "      <td>1.712863e+12</td>\n",
       "      <td>1.0</td>\n",
       "      <td>1.715481e+12</td>\n",
       "      <td>1.712670e+12</td>\n",
       "      <td>1.712886e+12</td>\n",
       "      <td>0.0</td>\n",
       "      <td>5.200000e+04</td>\n",
       "      <td>24112.000000</td>\n",
       "      <td>13121.000000</td>\n",
       "    </tr>\n",
       "    <tr>\n",
       "      <th>50%</th>\n",
       "      <td>3.901998e+09</td>\n",
       "      <td>8.000000e+04</td>\n",
       "      <td>2.269650e+05</td>\n",
       "      <td>4.000000</td>\n",
       "      <td>25.500000</td>\n",
       "      <td>6.000000e+04</td>\n",
       "      <td>3.000000</td>\n",
       "      <td>1.713395e+12</td>\n",
       "      <td>1.0</td>\n",
       "      <td>1.716042e+12</td>\n",
       "      <td>1.712670e+12</td>\n",
       "      <td>1.713408e+12</td>\n",
       "      <td>0.0</td>\n",
       "      <td>8.150000e+04</td>\n",
       "      <td>48059.000000</td>\n",
       "      <td>29183.000000</td>\n",
       "    </tr>\n",
       "    <tr>\n",
       "      <th>75%</th>\n",
       "      <td>3.904707e+09</td>\n",
       "      <td>8.000000e+04</td>\n",
       "      <td>8.047188e+06</td>\n",
       "      <td>8.000000</td>\n",
       "      <td>2510.500000</td>\n",
       "      <td>1.000000e+05</td>\n",
       "      <td>8.000000</td>\n",
       "      <td>1.713478e+12</td>\n",
       "      <td>1.0</td>\n",
       "      <td>1.716088e+12</td>\n",
       "      <td>1.713283e+12</td>\n",
       "      <td>1.713484e+12</td>\n",
       "      <td>0.0</td>\n",
       "      <td>1.250000e+05</td>\n",
       "      <td>78201.000000</td>\n",
       "      <td>42077.000000</td>\n",
       "    </tr>\n",
       "    <tr>\n",
       "      <th>max</th>\n",
       "      <td>3.906267e+09</td>\n",
       "      <td>1.200000e+08</td>\n",
       "      <td>1.034730e+08</td>\n",
       "      <td>9975.000000</td>\n",
       "      <td>750000.000000</td>\n",
       "      <td>8.500000e+07</td>\n",
       "      <td>967.000000</td>\n",
       "      <td>1.713573e+12</td>\n",
       "      <td>1.0</td>\n",
       "      <td>1.729125e+12</td>\n",
       "      <td>1.713562e+12</td>\n",
       "      <td>1.713573e+12</td>\n",
       "      <td>0.0</td>\n",
       "      <td>5.356000e+08</td>\n",
       "      <td>99901.000000</td>\n",
       "      <td>56045.000000</td>\n",
       "    </tr>\n",
       "  </tbody>\n",
       "</table>\n",
       "</div>"
      ],
      "text/plain": [
       "             job_id    max_salary    company_id          views     med_salary  \\\n",
       "count  1.238490e+05  1.238490e+05  1.221320e+05  122160.000000    6280.000000   \n",
       "mean   3.896402e+09  8.287214e+04  1.220401e+07      14.618247   22015.619876   \n",
       "std    8.404355e+07  3.439057e+05  2.554143e+07      85.903598   52255.873846   \n",
       "min    9.217160e+05  1.000000e+00  1.009000e+03       1.000000       0.000000   \n",
       "25%    3.894587e+09  8.000000e+04  1.435200e+04       3.000000      18.940000   \n",
       "50%    3.901998e+09  8.000000e+04  2.269650e+05       4.000000      25.500000   \n",
       "75%    3.904707e+09  8.000000e+04  8.047188e+06       8.000000    2510.500000   \n",
       "max    3.906267e+09  1.200000e+08  1.034730e+08    9975.000000  750000.000000   \n",
       "\n",
       "         min_salary       applies  original_listed_time  remote_allowed  \\\n",
       "count  2.979300e+04  23320.000000          1.238490e+05         15246.0   \n",
       "mean   6.491085e+04     10.591981          1.713152e+12             1.0   \n",
       "std    4.959738e+05     29.047395          4.848209e+08             0.0   \n",
       "min    1.000000e+00      1.000000          1.701811e+12             1.0   \n",
       "25%    3.700000e+01      1.000000          1.712863e+12             1.0   \n",
       "50%    6.000000e+04      3.000000          1.713395e+12             1.0   \n",
       "75%    1.000000e+05      8.000000          1.713478e+12             1.0   \n",
       "max    8.500000e+07    967.000000          1.713573e+12             1.0   \n",
       "\n",
       "             expiry   closed_time   listed_time  sponsored  normalized_salary  \\\n",
       "count  1.238490e+05  1.073000e+03  1.238490e+05   123849.0       3.607300e+04   \n",
       "mean   1.716213e+12  1.712928e+12  1.713204e+12        0.0       2.053270e+05   \n",
       "std    2.321394e+09  3.622893e+08  3.989122e+08        0.0       5.097627e+06   \n",
       "min    1.712903e+12  1.712346e+12  1.711317e+12        0.0       0.000000e+00   \n",
       "25%    1.715481e+12  1.712670e+12  1.712886e+12        0.0       5.200000e+04   \n",
       "50%    1.716042e+12  1.712670e+12  1.713408e+12        0.0       8.150000e+04   \n",
       "75%    1.716088e+12  1.713283e+12  1.713484e+12        0.0       1.250000e+05   \n",
       "max    1.729125e+12  1.713562e+12  1.713573e+12        0.0       5.356000e+08   \n",
       "\n",
       "            zip_code          fips  \n",
       "count  102977.000000  96434.000000  \n",
       "mean    50400.491887  28713.879887  \n",
       "std     30252.232515  16015.929825  \n",
       "min      1001.000000   1003.000000  \n",
       "25%     24112.000000  13121.000000  \n",
       "50%     48059.000000  29183.000000  \n",
       "75%     78201.000000  42077.000000  \n",
       "max     99901.000000  56045.000000  "
      ]
     },
     "execution_count": 12,
     "metadata": {},
     "output_type": "execute_result"
    }
   ],
   "source": [
    "df.describe()"
   ]
  }
 ],
 "metadata": {
  "kernelspec": {
   "display_name": "Python (project_etl)",
   "language": "python",
   "name": "project_etl"
  },
  "language_info": {
   "codemirror_mode": {
    "name": "ipython",
    "version": 3
   },
   "file_extension": ".py",
   "mimetype": "text/x-python",
   "name": "python",
   "nbconvert_exporter": "python",
   "pygments_lexer": "ipython3",
   "version": "3.13.1"
  }
 },
 "nbformat": 4,
 "nbformat_minor": 2
}
