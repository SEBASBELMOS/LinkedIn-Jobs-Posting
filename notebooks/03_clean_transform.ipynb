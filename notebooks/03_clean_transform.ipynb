{
 "cells": [
  {
   "cell_type": "markdown",
   "metadata": {},
   "source": [
    "## **PROJECT - NOTEBOOK #3: Data Cleansing and Transformation**\n",
    "\n",
    "---"
   ]
  },
  {
   "cell_type": "code",
   "execution_count": null,
   "metadata": {},
   "outputs": [
    {
     "name": "stdout",
     "output_type": "stream",
     "text": [
      "d:\\U\\FIFTH SEMESTER\\ETL\\project_etl\\notebooks\n",
      "d:\\U\\FIFTH SEMESTER\\ETL\\project_etl\n"
     ]
    }
   ],
   "source": [
    "import os \n",
    "print(os.getcwd())\n",
    "\n",
    "try:\n",
    "    os.chdir(\"../../project_etl\")\n",
    "\n",
    "except FileNotFoundError:\n",
    "    print(\"\"\"\n",
    "        FileNotFoundError - The directory may not exist or you might not be in the specified path.\n",
    "        If this has already worked, do not run this block again, as the current directory is already set to project_etl.\n",
    "        \"\"\")\n",
    "    \n",
    "print(os.getcwd())"
   ]
  },
  {
   "cell_type": "code",
   "execution_count": 4,
   "metadata": {},
   "outputs": [],
   "source": [
    "import pandas as pd\n",
    "import numpy as np\n",
    "import matplotlib.pyplot as plt\n",
    "import seaborn as sns\n",
    "import logging\n",
    "from sqlalchemy import text\n",
    "from src.database.db_connection import create_gcp_engine\n",
    "\n",
    "plt.style.use('ggplot')\n",
    "\n",
    "# Configure logging\n",
    "logging.basicConfig(level=logging.INFO)\n",
    "logger = logging.getLogger(__name__)"
   ]
  },
  {
   "cell_type": "code",
   "execution_count": 5,
   "metadata": {},
   "outputs": [
    {
     "name": "stderr",
     "output_type": "stream",
     "text": [
      "INFO:src.database.db_connection:Successfully created GCP database engine\n",
      "INFO:__main__:Successfully connected to GCP database\n"
     ]
    }
   ],
   "source": [
    "try:\n",
    "    engine = create_gcp_engine()\n",
    "    logger.info(\"Successfully connected to GCP database\")\n",
    "except Exception as e:\n",
    "    logger.error(f\"Failed to connect to GCP database: {str(e)}\")\n",
    "    raise"
   ]
  },
  {
   "cell_type": "code",
   "execution_count": 6,
   "metadata": {},
   "outputs": [
    {
     "name": "stderr",
     "output_type": "stream",
     "text": [
      "INFO:__main__:DataFrames loaded from raw schema of project-etl database.\n"
     ]
    }
   ],
   "source": [
    "jobs_df = pd.read_sql(\"SELECT * FROM raw.jobs\", con=engine)\n",
    "salaries_df = pd.read_sql(\"SELECT * FROM raw.salaries\", con=engine)\n",
    "benefits_df = pd.read_sql(\"SELECT * FROM raw.benefits\", con=engine)\n",
    "employee_counts_df = pd.read_sql(\"SELECT * FROM raw.employee_counts\", con=engine)\n",
    "industries_df = pd.read_sql(\"SELECT * FROM raw.industries\", con=engine)\n",
    "skills_industries_df = pd.read_sql(\"SELECT * FROM raw.skills_industries\", con=engine)\n",
    "companies_df = pd.read_sql(\"SELECT * FROM raw.companies\", con=engine)\n",
    "\n",
    "logger.info(\"DataFrames loaded from raw schema of project-etl database.\")"
   ]
  },
  {
   "cell_type": "markdown",
   "metadata": {},
   "source": [
    "## Data Cleaning (jobs_df)\n",
    "\n",
    "Now that we know how we're going to handle the data, thanks to notebook `02_read_data.ipynb`, it's time to start cleaning and transforming the data.\n",
    "\n",
    "We'll begin by deleting the columns defined previously:\n",
    "\n",
    "+ `closed_time`\n",
    "+ `skills_desc`\n",
    "+ `med_salary`, `max_salary`, `min_salary`\n",
    "+ `compensation_type`\n",
    "+ `listed_time`, `expiry`\n",
    "+ `fips` \n",
    "+ `work_type`\n",
    "+ `applies`\n",
    "+ application_url\n",
    "+ posting_domain"
   ]
  },
  {
   "cell_type": "code",
   "execution_count": 7,
   "metadata": {},
   "outputs": [
    {
     "name": "stderr",
     "output_type": "stream",
     "text": [
      "INFO:__main__:Dropped unnecessary columns from jobs_df.\n"
     ]
    }
   ],
   "source": [
    "cols_to_drop = ['med_salary', 'work_type', 'applies', 'closed_time', 'skills_desc', 'max_salary', 'min_salary', 'fips', 'listed_time', 'expiry', 'compensation_type', 'application_url', 'posting_domain']\n",
    "jobs_df.drop(columns=cols_to_drop, inplace=True, errors='ignore')\n",
    "logger.info(\"Dropped unnecessary columns from jobs_df.\")"
   ]
  },
  {
   "cell_type": "markdown",
   "metadata": {},
   "source": [
    "1. We know that the dates are being handled in float format, which creates reading problems. That's why we're going to change them to date format.\n",
    "\n",
    "2. The postal code is float type, just like the dates, but we'll change this one to string format to handle different postal code values and formats.\n",
    "\n",
    "3. Algunos formatos como los id, y las vistas están en formato tipo float, lo cual es un error, por eso lo vamos a manejar como enteros haciendo el cambio de float a int.\n",
    "\n",
    "4. Hay trabajos que no especifican si se puede trabajar de forma remota, en nuestro caso remote_allowed es un float que vamos a cambiar por un booleano para indicar los trabajos que no tengan o no especifiquen el trabajo remoto sean \"False\"\n",
    "\n",
    "5. Tenemos una columna llamada pay_period que muestra el periodo de pago a los empleados, pero el salario normalizado muestra el salario anual generalmente, por lo que cualquier valor diferente a YEARLY en pay_period lo convertiremos en ese valor"
   ]
  },
  {
   "cell_type": "code",
   "execution_count": 8,
   "metadata": {},
   "outputs": [],
   "source": [
    "columns_to_replace_not_specified = [\"zip_code\", \"formatted_experience_level\"]\n",
    "jobs_df[\"zip_code\"] = jobs_df[\"zip_code\"].astype(str)\n",
    "jobs_df[columns_to_replace_not_specified] = jobs_df[columns_to_replace_not_specified].replace([\"nan\", None], \"No specified\")\n",
    "jobs_df[\"original_listed_time\"] = pd.to_datetime(jobs_df[\"original_listed_time\"], unit=\"ms\")\n",
    "jobs_df[\"company_id\"] = jobs_df[\"company_id\"].fillna(-1).astype(int)\n",
    "jobs_df[\"views\"] = jobs_df[\"views\"].fillna(0).astype(int)\n",
    "jobs_df[\"remote_allowed\"] = jobs_df[\"remote_allowed\"].fillna(0).astype(bool)"
   ]
  },
  {
   "cell_type": "code",
   "execution_count": 9,
   "metadata": {},
   "outputs": [
    {
     "name": "stderr",
     "output_type": "stream",
     "text": [
      "INFO:__main__:Transformed data types and handled missing values in jobs_df.\n"
     ]
    }
   ],
   "source": [
    "columns_to_replace = [\"currency\", \"pay_period\"]\n",
    "jobs_df[columns_to_replace] = jobs_df[columns_to_replace].replace([None, pd.NA], \"Unknown\")\n",
    "\n",
    "logger.info(\"Transformed data types and handled missing values in jobs_df.\")"
   ]
  },
  {
   "cell_type": "code",
   "execution_count": 10,
   "metadata": {},
   "outputs": [
    {
     "data": {
      "text/html": [
       "<div>\n",
       "<style scoped>\n",
       "    .dataframe tbody tr th:only-of-type {\n",
       "        vertical-align: middle;\n",
       "    }\n",
       "\n",
       "    .dataframe tbody tr th {\n",
       "        vertical-align: top;\n",
       "    }\n",
       "\n",
       "    .dataframe thead th {\n",
       "        text-align: right;\n",
       "    }\n",
       "</style>\n",
       "<table border=\"1\" class=\"dataframe\">\n",
       "  <thead>\n",
       "    <tr style=\"text-align: right;\">\n",
       "      <th></th>\n",
       "      <th>job_id</th>\n",
       "      <th>company_name</th>\n",
       "      <th>title</th>\n",
       "      <th>description</th>\n",
       "      <th>pay_period</th>\n",
       "      <th>location</th>\n",
       "      <th>company_id</th>\n",
       "      <th>views</th>\n",
       "      <th>formatted_work_type</th>\n",
       "      <th>original_listed_time</th>\n",
       "      <th>remote_allowed</th>\n",
       "      <th>job_posting_url</th>\n",
       "      <th>application_type</th>\n",
       "      <th>formatted_experience_level</th>\n",
       "      <th>sponsored</th>\n",
       "      <th>currency</th>\n",
       "      <th>normalized_salary</th>\n",
       "      <th>zip_code</th>\n",
       "    </tr>\n",
       "  </thead>\n",
       "  <tbody>\n",
       "    <tr>\n",
       "      <th>0</th>\n",
       "      <td>921716</td>\n",
       "      <td>Corcoran Sawyer Smith</td>\n",
       "      <td>Marketing Coordinator</td>\n",
       "      <td>Job descriptionA leading real estate firm in N...</td>\n",
       "      <td>HOURLY</td>\n",
       "      <td>Princeton, NJ</td>\n",
       "      <td>2774458</td>\n",
       "      <td>20</td>\n",
       "      <td>Full-time</td>\n",
       "      <td>2024-04-17 23:45:08</td>\n",
       "      <td>False</td>\n",
       "      <td>https://www.linkedin.com/jobs/view/921716/?trk...</td>\n",
       "      <td>ComplexOnsiteApply</td>\n",
       "      <td>No specified</td>\n",
       "      <td>0</td>\n",
       "      <td>USD</td>\n",
       "      <td>38480.0</td>\n",
       "      <td>8540.0</td>\n",
       "    </tr>\n",
       "    <tr>\n",
       "      <th>1</th>\n",
       "      <td>1829192</td>\n",
       "      <td>None</td>\n",
       "      <td>Mental Health Therapist/Counselor</td>\n",
       "      <td>At Aspen Therapy and Wellness , we are committ...</td>\n",
       "      <td>HOURLY</td>\n",
       "      <td>Fort Collins, CO</td>\n",
       "      <td>-1</td>\n",
       "      <td>1</td>\n",
       "      <td>Full-time</td>\n",
       "      <td>2024-04-11 17:51:27</td>\n",
       "      <td>False</td>\n",
       "      <td>https://www.linkedin.com/jobs/view/1829192/?tr...</td>\n",
       "      <td>ComplexOnsiteApply</td>\n",
       "      <td>No specified</td>\n",
       "      <td>0</td>\n",
       "      <td>USD</td>\n",
       "      <td>83200.0</td>\n",
       "      <td>80521.0</td>\n",
       "    </tr>\n",
       "    <tr>\n",
       "      <th>2</th>\n",
       "      <td>10998357</td>\n",
       "      <td>The National Exemplar</td>\n",
       "      <td>Assitant Restaurant Manager</td>\n",
       "      <td>The National Exemplar is accepting application...</td>\n",
       "      <td>YEARLY</td>\n",
       "      <td>Cincinnati, OH</td>\n",
       "      <td>64896719</td>\n",
       "      <td>8</td>\n",
       "      <td>Full-time</td>\n",
       "      <td>2024-04-16 14:26:54</td>\n",
       "      <td>False</td>\n",
       "      <td>https://www.linkedin.com/jobs/view/10998357/?t...</td>\n",
       "      <td>ComplexOnsiteApply</td>\n",
       "      <td>No specified</td>\n",
       "      <td>0</td>\n",
       "      <td>USD</td>\n",
       "      <td>55000.0</td>\n",
       "      <td>45202.0</td>\n",
       "    </tr>\n",
       "    <tr>\n",
       "      <th>3</th>\n",
       "      <td>23221523</td>\n",
       "      <td>Abrams Fensterman, LLP</td>\n",
       "      <td>Senior Elder Law / Trusts and Estates Associat...</td>\n",
       "      <td>Senior Associate Attorney - Elder Law / Trusts...</td>\n",
       "      <td>YEARLY</td>\n",
       "      <td>New Hyde Park, NY</td>\n",
       "      <td>766262</td>\n",
       "      <td>16</td>\n",
       "      <td>Full-time</td>\n",
       "      <td>2024-04-12 04:23:32</td>\n",
       "      <td>False</td>\n",
       "      <td>https://www.linkedin.com/jobs/view/23221523/?t...</td>\n",
       "      <td>ComplexOnsiteApply</td>\n",
       "      <td>No specified</td>\n",
       "      <td>0</td>\n",
       "      <td>USD</td>\n",
       "      <td>157500.0</td>\n",
       "      <td>11040.0</td>\n",
       "    </tr>\n",
       "    <tr>\n",
       "      <th>4</th>\n",
       "      <td>35982263</td>\n",
       "      <td>None</td>\n",
       "      <td>Service Technician</td>\n",
       "      <td>Looking for HVAC service tech with experience ...</td>\n",
       "      <td>YEARLY</td>\n",
       "      <td>Burlington, IA</td>\n",
       "      <td>-1</td>\n",
       "      <td>3</td>\n",
       "      <td>Full-time</td>\n",
       "      <td>2024-04-18 14:52:23</td>\n",
       "      <td>False</td>\n",
       "      <td>https://www.linkedin.com/jobs/view/35982263/?t...</td>\n",
       "      <td>ComplexOnsiteApply</td>\n",
       "      <td>No specified</td>\n",
       "      <td>0</td>\n",
       "      <td>USD</td>\n",
       "      <td>70000.0</td>\n",
       "      <td>52601.0</td>\n",
       "    </tr>\n",
       "  </tbody>\n",
       "</table>\n",
       "</div>"
      ],
      "text/plain": [
       "     job_id            company_name  \\\n",
       "0    921716   Corcoran Sawyer Smith   \n",
       "1   1829192                    None   \n",
       "2  10998357  The National Exemplar    \n",
       "3  23221523  Abrams Fensterman, LLP   \n",
       "4  35982263                    None   \n",
       "\n",
       "                                               title  \\\n",
       "0                              Marketing Coordinator   \n",
       "1                  Mental Health Therapist/Counselor   \n",
       "2                        Assitant Restaurant Manager   \n",
       "3  Senior Elder Law / Trusts and Estates Associat...   \n",
       "4                                 Service Technician   \n",
       "\n",
       "                                         description pay_period  \\\n",
       "0  Job descriptionA leading real estate firm in N...     HOURLY   \n",
       "1  At Aspen Therapy and Wellness , we are committ...     HOURLY   \n",
       "2  The National Exemplar is accepting application...     YEARLY   \n",
       "3  Senior Associate Attorney - Elder Law / Trusts...     YEARLY   \n",
       "4  Looking for HVAC service tech with experience ...     YEARLY   \n",
       "\n",
       "            location  company_id  views formatted_work_type  \\\n",
       "0      Princeton, NJ     2774458     20           Full-time   \n",
       "1   Fort Collins, CO          -1      1           Full-time   \n",
       "2     Cincinnati, OH    64896719      8           Full-time   \n",
       "3  New Hyde Park, NY      766262     16           Full-time   \n",
       "4     Burlington, IA          -1      3           Full-time   \n",
       "\n",
       "  original_listed_time  remote_allowed  \\\n",
       "0  2024-04-17 23:45:08           False   \n",
       "1  2024-04-11 17:51:27           False   \n",
       "2  2024-04-16 14:26:54           False   \n",
       "3  2024-04-12 04:23:32           False   \n",
       "4  2024-04-18 14:52:23           False   \n",
       "\n",
       "                                     job_posting_url    application_type  \\\n",
       "0  https://www.linkedin.com/jobs/view/921716/?trk...  ComplexOnsiteApply   \n",
       "1  https://www.linkedin.com/jobs/view/1829192/?tr...  ComplexOnsiteApply   \n",
       "2  https://www.linkedin.com/jobs/view/10998357/?t...  ComplexOnsiteApply   \n",
       "3  https://www.linkedin.com/jobs/view/23221523/?t...  ComplexOnsiteApply   \n",
       "4  https://www.linkedin.com/jobs/view/35982263/?t...  ComplexOnsiteApply   \n",
       "\n",
       "  formatted_experience_level  sponsored currency  normalized_salary zip_code  \n",
       "0               No specified          0      USD            38480.0   8540.0  \n",
       "1               No specified          0      USD            83200.0  80521.0  \n",
       "2               No specified          0      USD            55000.0  45202.0  \n",
       "3               No specified          0      USD           157500.0  11040.0  \n",
       "4               No specified          0      USD            70000.0  52601.0  "
      ]
     },
     "execution_count": 10,
     "metadata": {},
     "output_type": "execute_result"
    }
   ],
   "source": [
    "jobs_df.head()"
   ]
  },
  {
   "cell_type": "markdown",
   "metadata": {},
   "source": [
    "Here we realize that the `id` has very long values, so we will not remove that column since it belongs to the real `id` of the job. However, we will create another one called `new_job_id` to make searches, graphs, and queries simpler. The same will apply to the company's `id`."
   ]
  },
  {
   "cell_type": "code",
   "execution_count": 11,
   "metadata": {},
   "outputs": [
    {
     "name": "stderr",
     "output_type": "stream",
     "text": [
      "INFO:__main__:Added modified IDs to jobs_df.\n"
     ]
    }
   ],
   "source": [
    "jobs_df[\"job_id_modify\"] = range(1, len(jobs_df) + 1)\n",
    "jobs_df[\"company_id_modify\"] = range(1, len(jobs_df) + 1)\n",
    "logger.info(\"Added modified IDs to jobs_df.\")"
   ]
  },
  {
   "cell_type": "code",
   "execution_count": 12,
   "metadata": {},
   "outputs": [
    {
     "data": {
      "text/plain": [
       "job_id                            0\n",
       "company_name                   1719\n",
       "title                             0\n",
       "description                       7\n",
       "pay_period                        0\n",
       "location                          0\n",
       "company_id                        0\n",
       "views                             0\n",
       "formatted_work_type               0\n",
       "original_listed_time              0\n",
       "remote_allowed                    0\n",
       "job_posting_url                   0\n",
       "application_type                  0\n",
       "formatted_experience_level        0\n",
       "sponsored                         0\n",
       "currency                          0\n",
       "normalized_salary             87776\n",
       "zip_code                          0\n",
       "job_id_modify                     0\n",
       "company_id_modify                 0\n",
       "dtype: int64"
      ]
     },
     "execution_count": 12,
     "metadata": {},
     "output_type": "execute_result"
    }
   ],
   "source": [
    "jobs_df.isnull().sum()"
   ]
  },
  {
   "cell_type": "code",
   "execution_count": 13,
   "metadata": {},
   "outputs": [
    {
     "name": "stdout",
     "output_type": "stream",
     "text": [
      "<class 'pandas.core.frame.DataFrame'>\n",
      "RangeIndex: 123849 entries, 0 to 123848\n",
      "Data columns (total 20 columns):\n",
      " #   Column                      Non-Null Count   Dtype         \n",
      "---  ------                      --------------   -----         \n",
      " 0   job_id                      123849 non-null  int64         \n",
      " 1   company_name                122130 non-null  object        \n",
      " 2   title                       123849 non-null  object        \n",
      " 3   description                 123842 non-null  object        \n",
      " 4   pay_period                  123849 non-null  object        \n",
      " 5   location                    123849 non-null  object        \n",
      " 6   company_id                  123849 non-null  int64         \n",
      " 7   views                       123849 non-null  int64         \n",
      " 8   formatted_work_type         123849 non-null  object        \n",
      " 9   original_listed_time        123849 non-null  datetime64[ns]\n",
      " 10  remote_allowed              123849 non-null  bool          \n",
      " 11  job_posting_url             123849 non-null  object        \n",
      " 12  application_type            123849 non-null  object        \n",
      " 13  formatted_experience_level  123849 non-null  object        \n",
      " 14  sponsored                   123849 non-null  int64         \n",
      " 15  currency                    123849 non-null  object        \n",
      " 16  normalized_salary           36073 non-null   float64       \n",
      " 17  zip_code                    123849 non-null  object        \n",
      " 18  job_id_modify               123849 non-null  int64         \n",
      " 19  company_id_modify           123849 non-null  int64         \n",
      "dtypes: bool(1), datetime64[ns](1), float64(1), int64(6), object(11)\n",
      "memory usage: 18.1+ MB\n"
     ]
    }
   ],
   "source": [
    "jobs_df.info()"
   ]
  },
  {
   "cell_type": "code",
   "execution_count": 14,
   "metadata": {},
   "outputs": [
    {
     "data": {
      "text/html": [
       "<div>\n",
       "<style scoped>\n",
       "    .dataframe tbody tr th:only-of-type {\n",
       "        vertical-align: middle;\n",
       "    }\n",
       "\n",
       "    .dataframe tbody tr th {\n",
       "        vertical-align: top;\n",
       "    }\n",
       "\n",
       "    .dataframe thead th {\n",
       "        text-align: right;\n",
       "    }\n",
       "</style>\n",
       "<table border=\"1\" class=\"dataframe\">\n",
       "  <thead>\n",
       "    <tr style=\"text-align: right;\">\n",
       "      <th></th>\n",
       "      <th>job_id</th>\n",
       "      <th>company_id</th>\n",
       "      <th>views</th>\n",
       "      <th>original_listed_time</th>\n",
       "      <th>sponsored</th>\n",
       "      <th>normalized_salary</th>\n",
       "      <th>job_id_modify</th>\n",
       "      <th>company_id_modify</th>\n",
       "    </tr>\n",
       "  </thead>\n",
       "  <tbody>\n",
       "    <tr>\n",
       "      <th>count</th>\n",
       "      <td>123849.00</td>\n",
       "      <td>123849.00</td>\n",
       "      <td>123849.00</td>\n",
       "      <td>123849</td>\n",
       "      <td>123849.00</td>\n",
       "      <td>36073.00</td>\n",
       "      <td>123849.00</td>\n",
       "      <td>123849.00</td>\n",
       "    </tr>\n",
       "    <tr>\n",
       "      <th>mean</th>\n",
       "      <td>3896402138.07</td>\n",
       "      <td>12034820.09</td>\n",
       "      <td>14.42</td>\n",
       "      <td>2024-04-15 03:38:58.799942144</td>\n",
       "      <td>0.00</td>\n",
       "      <td>205327.04</td>\n",
       "      <td>61925.00</td>\n",
       "      <td>61925.00</td>\n",
       "    </tr>\n",
       "    <tr>\n",
       "      <th>min</th>\n",
       "      <td>921716.00</td>\n",
       "      <td>-1.00</td>\n",
       "      <td>0.00</td>\n",
       "      <td>2023-12-05 21:08:53</td>\n",
       "      <td>0.00</td>\n",
       "      <td>0.00</td>\n",
       "      <td>1.00</td>\n",
       "      <td>1.00</td>\n",
       "    </tr>\n",
       "    <tr>\n",
       "      <th>25%</th>\n",
       "      <td>3894586595.00</td>\n",
       "      <td>12979.00</td>\n",
       "      <td>3.00</td>\n",
       "      <td>2024-04-11 19:14:36</td>\n",
       "      <td>0.00</td>\n",
       "      <td>52000.00</td>\n",
       "      <td>30963.00</td>\n",
       "      <td>30963.00</td>\n",
       "    </tr>\n",
       "    <tr>\n",
       "      <th>50%</th>\n",
       "      <td>3901998406.00</td>\n",
       "      <td>204770.00</td>\n",
       "      <td>4.00</td>\n",
       "      <td>2024-04-17 23:03:59</td>\n",
       "      <td>0.00</td>\n",
       "      <td>81500.00</td>\n",
       "      <td>61925.00</td>\n",
       "      <td>61925.00</td>\n",
       "    </tr>\n",
       "    <tr>\n",
       "      <th>75%</th>\n",
       "      <td>3904707077.00</td>\n",
       "      <td>7260866.00</td>\n",
       "      <td>7.00</td>\n",
       "      <td>2024-04-18 22:12:04</td>\n",
       "      <td>0.00</td>\n",
       "      <td>125000.00</td>\n",
       "      <td>92887.00</td>\n",
       "      <td>92887.00</td>\n",
       "    </tr>\n",
       "    <tr>\n",
       "      <th>max</th>\n",
       "      <td>3906267224.00</td>\n",
       "      <td>103472979.00</td>\n",
       "      <td>9975.00</td>\n",
       "      <td>2024-04-20 00:26:43</td>\n",
       "      <td>0.00</td>\n",
       "      <td>535600000.00</td>\n",
       "      <td>123849.00</td>\n",
       "      <td>123849.00</td>\n",
       "    </tr>\n",
       "    <tr>\n",
       "      <th>std</th>\n",
       "      <td>84043545.16</td>\n",
       "      <td>25403872.00</td>\n",
       "      <td>85.33</td>\n",
       "      <td>NaN</td>\n",
       "      <td>0.00</td>\n",
       "      <td>5097626.76</td>\n",
       "      <td>35752.27</td>\n",
       "      <td>35752.27</td>\n",
       "    </tr>\n",
       "  </tbody>\n",
       "</table>\n",
       "</div>"
      ],
      "text/plain": [
       "             job_id   company_id     views           original_listed_time  \\\n",
       "count     123849.00    123849.00 123849.00                         123849   \n",
       "mean  3896402138.07  12034820.09     14.42  2024-04-15 03:38:58.799942144   \n",
       "min       921716.00        -1.00      0.00            2023-12-05 21:08:53   \n",
       "25%   3894586595.00     12979.00      3.00            2024-04-11 19:14:36   \n",
       "50%   3901998406.00    204770.00      4.00            2024-04-17 23:03:59   \n",
       "75%   3904707077.00   7260866.00      7.00            2024-04-18 22:12:04   \n",
       "max   3906267224.00 103472979.00   9975.00            2024-04-20 00:26:43   \n",
       "std     84043545.16  25403872.00     85.33                            NaN   \n",
       "\n",
       "       sponsored  normalized_salary  job_id_modify  company_id_modify  \n",
       "count  123849.00           36073.00      123849.00          123849.00  \n",
       "mean        0.00          205327.04       61925.00           61925.00  \n",
       "min         0.00               0.00           1.00               1.00  \n",
       "25%         0.00           52000.00       30963.00           30963.00  \n",
       "50%         0.00           81500.00       61925.00           61925.00  \n",
       "75%         0.00          125000.00       92887.00           92887.00  \n",
       "max         0.00       535600000.00      123849.00          123849.00  \n",
       "std         0.00         5097626.76       35752.27           35752.27  "
      ]
     },
     "execution_count": 14,
     "metadata": {},
     "output_type": "execute_result"
    }
   ],
   "source": [
    "pd.options.display.float_format = '{:.2f}'.format\n",
    "jobs_df.describe()"
   ]
  },
  {
   "cell_type": "markdown",
   "metadata": {},
   "source": [
    "With `describe`, we see that there is a value in `normalized_salary` that is unusually high:  \n",
    "\n",
    "**535,600,000.00**  \n",
    "\n",
    "We observe that the 75th percentile is approximately **125,000**, which suggests that there may not be many values significantly higher than that number. However, to confirm this, we perform a statist\n",
    "\n"
   ]
  },
  {
   "cell_type": "code",
   "execution_count": 15,
   "metadata": {},
   "outputs": [
    {
     "name": "stderr",
     "output_type": "stream",
     "text": [
      "INFO:__main__:Capped outliers in normalized_salary for jobs_df.\n"
     ]
    }
   ],
   "source": [
    "q1 = jobs_df[\"normalized_salary\"].quantile(0.25)\n",
    "q3 = jobs_df[\"normalized_salary\"].quantile(0.75)\n",
    "iqr = q3 - q1\n",
    "upper_cap = q3 + 1.5 * iqr\n",
    "\n",
    "jobs_df[\"normalized_salary\"] = jobs_df[\"normalized_salary\"].clip(upper=upper_cap)\n",
    "logger.info(\"Capped outliers in normalized_salary for jobs_df.\")"
   ]
  },
  {
   "cell_type": "code",
   "execution_count": 16,
   "metadata": {},
   "outputs": [
    {
     "data": {
      "text/plain": [
       "count    36073.00\n",
       "mean     93505.17\n",
       "std      52147.55\n",
       "min          0.00\n",
       "25%      52000.00\n",
       "50%      81500.00\n",
       "75%     125000.00\n",
       "max     234500.00\n",
       "Name: normalized_salary, dtype: float64"
      ]
     },
     "execution_count": 16,
     "metadata": {},
     "output_type": "execute_result"
    }
   ],
   "source": [
    "jobs_df[\"normalized_salary\"].describe()"
   ]
  },
  {
   "cell_type": "markdown",
   "metadata": {},
   "source": [
    "In this way, we guarantee data integrity."
   ]
  },
  {
   "cell_type": "markdown",
   "metadata": {},
   "source": [
    "# Data cleaning (salaries_df)"
   ]
  },
  {
   "cell_type": "code",
   "execution_count": 17,
   "metadata": {},
   "outputs": [
    {
     "data": {
      "text/html": [
       "<div>\n",
       "<style scoped>\n",
       "    .dataframe tbody tr th:only-of-type {\n",
       "        vertical-align: middle;\n",
       "    }\n",
       "\n",
       "    .dataframe tbody tr th {\n",
       "        vertical-align: top;\n",
       "    }\n",
       "\n",
       "    .dataframe thead th {\n",
       "        text-align: right;\n",
       "    }\n",
       "</style>\n",
       "<table border=\"1\" class=\"dataframe\">\n",
       "  <thead>\n",
       "    <tr style=\"text-align: right;\">\n",
       "      <th></th>\n",
       "      <th>salary_id</th>\n",
       "      <th>job_id</th>\n",
       "      <th>max_salary</th>\n",
       "      <th>med_salary</th>\n",
       "      <th>min_salary</th>\n",
       "      <th>pay_period</th>\n",
       "      <th>currency</th>\n",
       "      <th>compensation_type</th>\n",
       "    </tr>\n",
       "  </thead>\n",
       "  <tbody>\n",
       "    <tr>\n",
       "      <th>0</th>\n",
       "      <td>1</td>\n",
       "      <td>3884428798</td>\n",
       "      <td>NaN</td>\n",
       "      <td>20.00</td>\n",
       "      <td>NaN</td>\n",
       "      <td>HOURLY</td>\n",
       "      <td>USD</td>\n",
       "      <td>BASE_SALARY</td>\n",
       "    </tr>\n",
       "    <tr>\n",
       "      <th>1</th>\n",
       "      <td>2</td>\n",
       "      <td>3887470552</td>\n",
       "      <td>25.00</td>\n",
       "      <td>NaN</td>\n",
       "      <td>23.00</td>\n",
       "      <td>HOURLY</td>\n",
       "      <td>USD</td>\n",
       "      <td>BASE_SALARY</td>\n",
       "    </tr>\n",
       "    <tr>\n",
       "      <th>2</th>\n",
       "      <td>3</td>\n",
       "      <td>3884431523</td>\n",
       "      <td>120000.00</td>\n",
       "      <td>NaN</td>\n",
       "      <td>100000.00</td>\n",
       "      <td>YEARLY</td>\n",
       "      <td>USD</td>\n",
       "      <td>BASE_SALARY</td>\n",
       "    </tr>\n",
       "    <tr>\n",
       "      <th>3</th>\n",
       "      <td>4</td>\n",
       "      <td>3884911725</td>\n",
       "      <td>200000.00</td>\n",
       "      <td>NaN</td>\n",
       "      <td>10000.00</td>\n",
       "      <td>YEARLY</td>\n",
       "      <td>USD</td>\n",
       "      <td>BASE_SALARY</td>\n",
       "    </tr>\n",
       "    <tr>\n",
       "      <th>4</th>\n",
       "      <td>5</td>\n",
       "      <td>3887473220</td>\n",
       "      <td>35.00</td>\n",
       "      <td>NaN</td>\n",
       "      <td>33.00</td>\n",
       "      <td>HOURLY</td>\n",
       "      <td>USD</td>\n",
       "      <td>BASE_SALARY</td>\n",
       "    </tr>\n",
       "  </tbody>\n",
       "</table>\n",
       "</div>"
      ],
      "text/plain": [
       "   salary_id      job_id  max_salary  med_salary  min_salary pay_period  \\\n",
       "0          1  3884428798         NaN       20.00         NaN     HOURLY   \n",
       "1          2  3887470552       25.00         NaN       23.00     HOURLY   \n",
       "2          3  3884431523   120000.00         NaN   100000.00     YEARLY   \n",
       "3          4  3884911725   200000.00         NaN    10000.00     YEARLY   \n",
       "4          5  3887473220       35.00         NaN       33.00     HOURLY   \n",
       "\n",
       "  currency compensation_type  \n",
       "0      USD       BASE_SALARY  \n",
       "1      USD       BASE_SALARY  \n",
       "2      USD       BASE_SALARY  \n",
       "3      USD       BASE_SALARY  \n",
       "4      USD       BASE_SALARY  "
      ]
     },
     "execution_count": 17,
     "metadata": {},
     "output_type": "execute_result"
    }
   ],
   "source": [
    "salaries_df.head()"
   ]
  },
  {
   "cell_type": "markdown",
   "metadata": {},
   "source": [
    "1. We know that most values in `min_salary`, `med_salary`, and `max_salary` are null, so we will perform some operations on the rows to normalize these values and store them in a column called `raw_salary`.\n",
    "\n",
    "2. We know that salary periods are given in different time frames (`HOURLY`, `WEEKLY`, `BIWEEKLY`, `YEARLY`, etc.). We will standardize them to yearly values by assuming the employees' working hours for `HOURLY`, the number of weeks in a year for `WEEKLY`, and so on.\n",
    "\n",
    "3. Since we know that the base salary is stored in `BASE_SALARY`, all calculations will consider this. Overtime wages will not be an issue, as they are not included in the base salary.\n"
   ]
  },
  {
   "cell_type": "code",
   "execution_count": 18,
   "metadata": {},
   "outputs": [
    {
     "name": "stderr",
     "output_type": "stream",
     "text": [
      "INFO:__main__:Created raw_salary column in salaries_df.\n"
     ]
    }
   ],
   "source": [
    "import numpy as np\n",
    "def get_unified_salary(row):\n",
    "    if not pd.isna(row['med_salary']):\n",
    "        return row['med_salary']\n",
    "    \n",
    "    min_sal = row['min_salary']\n",
    "    max_sal = row['max_salary']\n",
    "    \n",
    "    if not pd.isna(min_sal) and not pd.isna(max_sal):\n",
    "        return (min_sal + max_sal) / 2\n",
    "    \n",
    "    if not pd.isna(min_sal):\n",
    "        return min_sal\n",
    "    if not pd.isna(max_sal):\n",
    "        return max_sal\n",
    "    \n",
    "    return np.nan\n",
    "\n",
    "salaries_df['raw_salary'] = salaries_df.apply(get_unified_salary, axis=1)\n",
    "logger.info(\"Created raw_salary column in salaries_df.\")"
   ]
  },
  {
   "cell_type": "code",
   "execution_count": 19,
   "metadata": {},
   "outputs": [
    {
     "data": {
      "text/html": [
       "<div>\n",
       "<style scoped>\n",
       "    .dataframe tbody tr th:only-of-type {\n",
       "        vertical-align: middle;\n",
       "    }\n",
       "\n",
       "    .dataframe tbody tr th {\n",
       "        vertical-align: top;\n",
       "    }\n",
       "\n",
       "    .dataframe thead th {\n",
       "        text-align: right;\n",
       "    }\n",
       "</style>\n",
       "<table border=\"1\" class=\"dataframe\">\n",
       "  <thead>\n",
       "    <tr style=\"text-align: right;\">\n",
       "      <th></th>\n",
       "      <th>salary_id</th>\n",
       "      <th>job_id</th>\n",
       "      <th>max_salary</th>\n",
       "      <th>med_salary</th>\n",
       "      <th>min_salary</th>\n",
       "      <th>pay_period</th>\n",
       "      <th>currency</th>\n",
       "      <th>compensation_type</th>\n",
       "      <th>raw_salary</th>\n",
       "    </tr>\n",
       "  </thead>\n",
       "  <tbody>\n",
       "    <tr>\n",
       "      <th>0</th>\n",
       "      <td>1</td>\n",
       "      <td>3884428798</td>\n",
       "      <td>NaN</td>\n",
       "      <td>20.00</td>\n",
       "      <td>NaN</td>\n",
       "      <td>HOURLY</td>\n",
       "      <td>USD</td>\n",
       "      <td>BASE_SALARY</td>\n",
       "      <td>20.00</td>\n",
       "    </tr>\n",
       "    <tr>\n",
       "      <th>1</th>\n",
       "      <td>2</td>\n",
       "      <td>3887470552</td>\n",
       "      <td>25.00</td>\n",
       "      <td>NaN</td>\n",
       "      <td>23.00</td>\n",
       "      <td>HOURLY</td>\n",
       "      <td>USD</td>\n",
       "      <td>BASE_SALARY</td>\n",
       "      <td>24.00</td>\n",
       "    </tr>\n",
       "    <tr>\n",
       "      <th>2</th>\n",
       "      <td>3</td>\n",
       "      <td>3884431523</td>\n",
       "      <td>120000.00</td>\n",
       "      <td>NaN</td>\n",
       "      <td>100000.00</td>\n",
       "      <td>YEARLY</td>\n",
       "      <td>USD</td>\n",
       "      <td>BASE_SALARY</td>\n",
       "      <td>110000.00</td>\n",
       "    </tr>\n",
       "    <tr>\n",
       "      <th>3</th>\n",
       "      <td>4</td>\n",
       "      <td>3884911725</td>\n",
       "      <td>200000.00</td>\n",
       "      <td>NaN</td>\n",
       "      <td>10000.00</td>\n",
       "      <td>YEARLY</td>\n",
       "      <td>USD</td>\n",
       "      <td>BASE_SALARY</td>\n",
       "      <td>105000.00</td>\n",
       "    </tr>\n",
       "    <tr>\n",
       "      <th>4</th>\n",
       "      <td>5</td>\n",
       "      <td>3887473220</td>\n",
       "      <td>35.00</td>\n",
       "      <td>NaN</td>\n",
       "      <td>33.00</td>\n",
       "      <td>HOURLY</td>\n",
       "      <td>USD</td>\n",
       "      <td>BASE_SALARY</td>\n",
       "      <td>34.00</td>\n",
       "    </tr>\n",
       "  </tbody>\n",
       "</table>\n",
       "</div>"
      ],
      "text/plain": [
       "   salary_id      job_id  max_salary  med_salary  min_salary pay_period  \\\n",
       "0          1  3884428798         NaN       20.00         NaN     HOURLY   \n",
       "1          2  3887470552       25.00         NaN       23.00     HOURLY   \n",
       "2          3  3884431523   120000.00         NaN   100000.00     YEARLY   \n",
       "3          4  3884911725   200000.00         NaN    10000.00     YEARLY   \n",
       "4          5  3887473220       35.00         NaN       33.00     HOURLY   \n",
       "\n",
       "  currency compensation_type  raw_salary  \n",
       "0      USD       BASE_SALARY       20.00  \n",
       "1      USD       BASE_SALARY       24.00  \n",
       "2      USD       BASE_SALARY   110000.00  \n",
       "3      USD       BASE_SALARY   105000.00  \n",
       "4      USD       BASE_SALARY       34.00  "
      ]
     },
     "execution_count": 19,
     "metadata": {},
     "output_type": "execute_result"
    }
   ],
   "source": [
    "salaries_df.head()"
   ]
  },
  {
   "cell_type": "code",
   "execution_count": 20,
   "metadata": {},
   "outputs": [
    {
     "data": {
      "text/html": [
       "<div>\n",
       "<style scoped>\n",
       "    .dataframe tbody tr th:only-of-type {\n",
       "        vertical-align: middle;\n",
       "    }\n",
       "\n",
       "    .dataframe tbody tr th {\n",
       "        vertical-align: top;\n",
       "    }\n",
       "\n",
       "    .dataframe thead th {\n",
       "        text-align: right;\n",
       "    }\n",
       "</style>\n",
       "<table border=\"1\" class=\"dataframe\">\n",
       "  <thead>\n",
       "    <tr style=\"text-align: right;\">\n",
       "      <th></th>\n",
       "      <th>salary_id</th>\n",
       "      <th>job_id</th>\n",
       "      <th>max_salary</th>\n",
       "      <th>med_salary</th>\n",
       "      <th>min_salary</th>\n",
       "      <th>raw_salary</th>\n",
       "    </tr>\n",
       "  </thead>\n",
       "  <tbody>\n",
       "    <tr>\n",
       "      <th>count</th>\n",
       "      <td>40785.00</td>\n",
       "      <td>40785.00</td>\n",
       "      <td>33947.00</td>\n",
       "      <td>6838.00</td>\n",
       "      <td>33947.00</td>\n",
       "      <td>40785.00</td>\n",
       "    </tr>\n",
       "    <tr>\n",
       "      <th>mean</th>\n",
       "      <td>20393.00</td>\n",
       "      <td>3895563848.87</td>\n",
       "      <td>96209.87</td>\n",
       "      <td>21370.30</td>\n",
       "      <td>65085.41</td>\n",
       "      <td>70709.22</td>\n",
       "    </tr>\n",
       "    <tr>\n",
       "      <th>std</th>\n",
       "      <td>11773.76</td>\n",
       "      <td>94966718.00</td>\n",
       "      <td>658737.34</td>\n",
       "      <td>51338.56</td>\n",
       "      <td>465061.24</td>\n",
       "      <td>513146.76</td>\n",
       "    </tr>\n",
       "    <tr>\n",
       "      <th>min</th>\n",
       "      <td>1.00</td>\n",
       "      <td>921716.00</td>\n",
       "      <td>1.00</td>\n",
       "      <td>0.00</td>\n",
       "      <td>1.00</td>\n",
       "      <td>0.00</td>\n",
       "    </tr>\n",
       "    <tr>\n",
       "      <th>25%</th>\n",
       "      <td>10197.00</td>\n",
       "      <td>3894608085.00</td>\n",
       "      <td>50.00</td>\n",
       "      <td>18.50</td>\n",
       "      <td>39.00</td>\n",
       "      <td>30.00</td>\n",
       "    </tr>\n",
       "    <tr>\n",
       "      <th>50%</th>\n",
       "      <td>20393.00</td>\n",
       "      <td>3901980104.00</td>\n",
       "      <td>85000.00</td>\n",
       "      <td>25.00</td>\n",
       "      <td>62300.00</td>\n",
       "      <td>60000.00</td>\n",
       "    </tr>\n",
       "    <tr>\n",
       "      <th>75%</th>\n",
       "      <td>30589.00</td>\n",
       "      <td>3904576109.00</td>\n",
       "      <td>142500.00</td>\n",
       "      <td>2207.00</td>\n",
       "      <td>100000.00</td>\n",
       "      <td>113670.00</td>\n",
       "    </tr>\n",
       "    <tr>\n",
       "      <th>max</th>\n",
       "      <td>40785.00</td>\n",
       "      <td>3906267224.00</td>\n",
       "      <td>120000000.00</td>\n",
       "      <td>750000.00</td>\n",
       "      <td>85000000.00</td>\n",
       "      <td>102500000.00</td>\n",
       "    </tr>\n",
       "  </tbody>\n",
       "</table>\n",
       "</div>"
      ],
      "text/plain": [
       "       salary_id        job_id   max_salary  med_salary  min_salary  \\\n",
       "count   40785.00      40785.00     33947.00     6838.00    33947.00   \n",
       "mean    20393.00 3895563848.87     96209.87    21370.30    65085.41   \n",
       "std     11773.76   94966718.00    658737.34    51338.56   465061.24   \n",
       "min         1.00     921716.00         1.00        0.00        1.00   \n",
       "25%     10197.00 3894608085.00        50.00       18.50       39.00   \n",
       "50%     20393.00 3901980104.00     85000.00       25.00    62300.00   \n",
       "75%     30589.00 3904576109.00    142500.00     2207.00   100000.00   \n",
       "max     40785.00 3906267224.00 120000000.00   750000.00 85000000.00   \n",
       "\n",
       "        raw_salary  \n",
       "count     40785.00  \n",
       "mean      70709.22  \n",
       "std      513146.76  \n",
       "min           0.00  \n",
       "25%          30.00  \n",
       "50%       60000.00  \n",
       "75%      113670.00  \n",
       "max   102500000.00  "
      ]
     },
     "execution_count": 20,
     "metadata": {},
     "output_type": "execute_result"
    }
   ],
   "source": [
    "salaries_df.describe()"
   ]
  },
  {
   "cell_type": "markdown",
   "metadata": {},
   "source": [
    "1. A `raw_salary` column is created based on the other three salary values according to the performed operations.\n",
    "\n",
    "2. There is an issue with the maximum salary values, as they deviate significantly from the mean. To address this, we will add a restriction to prevent such outliers and perform a statistical calculation.\n",
    "\n",
    "**Note:** This was not applied to `jobs_df` because the number of null values was too high.\n"
   ]
  },
  {
   "cell_type": "code",
   "execution_count": 22,
   "metadata": {},
   "outputs": [
    {
     "name": "stderr",
     "output_type": "stream",
     "text": [
      "INFO:__main__:Capped outliers in salary columns for salaries_df.\n"
     ]
    }
   ],
   "source": [
    "salary_columns = ['max_salary', 'med_salary', 'min_salary', 'raw_salary']\n",
    "\n",
    "def cap_outliers(df, column):\n",
    "    q1 = df[column].quantile(0.25)\n",
    "    q3 = df[column].quantile(0.75)\n",
    "    iqr = q3 - q1\n",
    "    upper_cap = q3 + 1.5 * iqr\n",
    "    df[column] = df[column].clip(upper=upper_cap)\n",
    "    return df\n",
    "\n",
    "for col in salary_columns:\n",
    "    salaries_df = cap_outliers(salaries_df, col)\n",
    "    \n",
    "logger.info(\"Capped outliers in salary columns for salaries_df.\")"
   ]
  },
  {
   "cell_type": "code",
   "execution_count": 23,
   "metadata": {},
   "outputs": [
    {
     "data": {
      "text/html": [
       "<div>\n",
       "<style scoped>\n",
       "    .dataframe tbody tr th:only-of-type {\n",
       "        vertical-align: middle;\n",
       "    }\n",
       "\n",
       "    .dataframe tbody tr th {\n",
       "        vertical-align: top;\n",
       "    }\n",
       "\n",
       "    .dataframe thead th {\n",
       "        text-align: right;\n",
       "    }\n",
       "</style>\n",
       "<table border=\"1\" class=\"dataframe\">\n",
       "  <thead>\n",
       "    <tr style=\"text-align: right;\">\n",
       "      <th></th>\n",
       "      <th>salary_id</th>\n",
       "      <th>job_id</th>\n",
       "      <th>max_salary</th>\n",
       "      <th>med_salary</th>\n",
       "      <th>min_salary</th>\n",
       "      <th>raw_salary</th>\n",
       "    </tr>\n",
       "  </thead>\n",
       "  <tbody>\n",
       "    <tr>\n",
       "      <th>count</th>\n",
       "      <td>40785.00</td>\n",
       "      <td>40785.00</td>\n",
       "      <td>33947.00</td>\n",
       "      <td>6838.00</td>\n",
       "      <td>33947.00</td>\n",
       "      <td>40785.00</td>\n",
       "    </tr>\n",
       "    <tr>\n",
       "      <th>mean</th>\n",
       "      <td>20393.00</td>\n",
       "      <td>3895563848.87</td>\n",
       "      <td>90263.02</td>\n",
       "      <td>1372.17</td>\n",
       "      <td>61934.40</td>\n",
       "      <td>66908.08</td>\n",
       "    </tr>\n",
       "    <tr>\n",
       "      <th>std</th>\n",
       "      <td>11773.76</td>\n",
       "      <td>94966718.00</td>\n",
       "      <td>88349.98</td>\n",
       "      <td>2306.10</td>\n",
       "      <td>58244.60</td>\n",
       "      <td>71286.75</td>\n",
       "    </tr>\n",
       "    <tr>\n",
       "      <th>min</th>\n",
       "      <td>1.00</td>\n",
       "      <td>921716.00</td>\n",
       "      <td>1.00</td>\n",
       "      <td>0.00</td>\n",
       "      <td>1.00</td>\n",
       "      <td>0.00</td>\n",
       "    </tr>\n",
       "    <tr>\n",
       "      <th>25%</th>\n",
       "      <td>10197.00</td>\n",
       "      <td>3894608085.00</td>\n",
       "      <td>50.00</td>\n",
       "      <td>18.50</td>\n",
       "      <td>39.00</td>\n",
       "      <td>30.00</td>\n",
       "    </tr>\n",
       "    <tr>\n",
       "      <th>50%</th>\n",
       "      <td>20393.00</td>\n",
       "      <td>3901980104.00</td>\n",
       "      <td>85000.00</td>\n",
       "      <td>25.00</td>\n",
       "      <td>62300.00</td>\n",
       "      <td>60000.00</td>\n",
       "    </tr>\n",
       "    <tr>\n",
       "      <th>75%</th>\n",
       "      <td>30589.00</td>\n",
       "      <td>3904576109.00</td>\n",
       "      <td>142500.00</td>\n",
       "      <td>2207.00</td>\n",
       "      <td>100000.00</td>\n",
       "      <td>113670.00</td>\n",
       "    </tr>\n",
       "    <tr>\n",
       "      <th>max</th>\n",
       "      <td>40785.00</td>\n",
       "      <td>3906267224.00</td>\n",
       "      <td>356175.00</td>\n",
       "      <td>5489.75</td>\n",
       "      <td>249941.50</td>\n",
       "      <td>284130.00</td>\n",
       "    </tr>\n",
       "  </tbody>\n",
       "</table>\n",
       "</div>"
      ],
      "text/plain": [
       "       salary_id        job_id  max_salary  med_salary  min_salary  raw_salary\n",
       "count   40785.00      40785.00    33947.00     6838.00    33947.00    40785.00\n",
       "mean    20393.00 3895563848.87    90263.02     1372.17    61934.40    66908.08\n",
       "std     11773.76   94966718.00    88349.98     2306.10    58244.60    71286.75\n",
       "min         1.00     921716.00        1.00        0.00        1.00        0.00\n",
       "25%     10197.00 3894608085.00       50.00       18.50       39.00       30.00\n",
       "50%     20393.00 3901980104.00    85000.00       25.00    62300.00    60000.00\n",
       "75%     30589.00 3904576109.00   142500.00     2207.00   100000.00   113670.00\n",
       "max     40785.00 3906267224.00   356175.00     5489.75   249941.50   284130.00"
      ]
     },
     "execution_count": 23,
     "metadata": {},
     "output_type": "execute_result"
    }
   ],
   "source": [
    "salaries_df.describe()"
   ]
  },
  {
   "cell_type": "markdown",
   "metadata": {},
   "source": [
    "This way, we ensure that the data does not exceed the actual value.  \n",
    "\n",
    "So far, we have completed `salaries_df`.\n"
   ]
  },
  {
   "cell_type": "markdown",
   "metadata": {},
   "source": [
    "# Data Cleaning (benefits_df)"
   ]
  },
  {
   "cell_type": "code",
   "execution_count": 24,
   "metadata": {},
   "outputs": [
    {
     "data": {
      "text/html": [
       "<div>\n",
       "<style scoped>\n",
       "    .dataframe tbody tr th:only-of-type {\n",
       "        vertical-align: middle;\n",
       "    }\n",
       "\n",
       "    .dataframe tbody tr th {\n",
       "        vertical-align: top;\n",
       "    }\n",
       "\n",
       "    .dataframe thead th {\n",
       "        text-align: right;\n",
       "    }\n",
       "</style>\n",
       "<table border=\"1\" class=\"dataframe\">\n",
       "  <thead>\n",
       "    <tr style=\"text-align: right;\">\n",
       "      <th></th>\n",
       "      <th>job_id</th>\n",
       "      <th>inferred</th>\n",
       "      <th>type</th>\n",
       "    </tr>\n",
       "  </thead>\n",
       "  <tbody>\n",
       "    <tr>\n",
       "      <th>0</th>\n",
       "      <td>3887473071</td>\n",
       "      <td>0</td>\n",
       "      <td>Medical insurance</td>\n",
       "    </tr>\n",
       "    <tr>\n",
       "      <th>1</th>\n",
       "      <td>3887473071</td>\n",
       "      <td>0</td>\n",
       "      <td>Vision insurance</td>\n",
       "    </tr>\n",
       "    <tr>\n",
       "      <th>2</th>\n",
       "      <td>3887473071</td>\n",
       "      <td>0</td>\n",
       "      <td>Dental insurance</td>\n",
       "    </tr>\n",
       "    <tr>\n",
       "      <th>3</th>\n",
       "      <td>3887473071</td>\n",
       "      <td>0</td>\n",
       "      <td>401(k)</td>\n",
       "    </tr>\n",
       "    <tr>\n",
       "      <th>4</th>\n",
       "      <td>3887473071</td>\n",
       "      <td>0</td>\n",
       "      <td>Student loan assistance</td>\n",
       "    </tr>\n",
       "  </tbody>\n",
       "</table>\n",
       "</div>"
      ],
      "text/plain": [
       "       job_id  inferred                     type\n",
       "0  3887473071         0        Medical insurance\n",
       "1  3887473071         0         Vision insurance\n",
       "2  3887473071         0         Dental insurance\n",
       "3  3887473071         0                   401(k)\n",
       "4  3887473071         0  Student loan assistance"
      ]
     },
     "execution_count": 24,
     "metadata": {},
     "output_type": "execute_result"
    }
   ],
   "source": [
    "benefits_df.head()"
   ]
  },
  {
   "cell_type": "markdown",
   "metadata": {},
   "source": [
    "1. Here, we see that the same ID is repeated multiple times for different benefits. However, since they belong to the same company, we need to unify them.\n",
    "\n",
    "2. We will also remove the `inferred` column, as it does not seem relevant.\n"
   ]
  },
  {
   "cell_type": "code",
   "execution_count": 25,
   "metadata": {},
   "outputs": [
    {
     "name": "stderr",
     "output_type": "stream",
     "text": [
      "INFO:__main__:Grouped benefits by job_id and dropped inferred column in benefits_df.\n"
     ]
    }
   ],
   "source": [
    "if 'inferred' in benefits_df.columns:\n",
    "    benefits_df = benefits_df.drop(columns=['inferred'])\n",
    "\n",
    "benefits_df = benefits_df.groupby('job_id')['type'].apply(list).reset_index()\n",
    "logger.info(\"Grouped benefits by job_id and dropped inferred column in benefits_df.\")"
   ]
  },
  {
   "cell_type": "code",
   "execution_count": 26,
   "metadata": {},
   "outputs": [
    {
     "data": {
      "text/html": [
       "<div>\n",
       "<style scoped>\n",
       "    .dataframe tbody tr th:only-of-type {\n",
       "        vertical-align: middle;\n",
       "    }\n",
       "\n",
       "    .dataframe tbody tr th {\n",
       "        vertical-align: top;\n",
       "    }\n",
       "\n",
       "    .dataframe thead th {\n",
       "        text-align: right;\n",
       "    }\n",
       "</style>\n",
       "<table border=\"1\" class=\"dataframe\">\n",
       "  <thead>\n",
       "    <tr style=\"text-align: right;\">\n",
       "      <th></th>\n",
       "      <th>job_id</th>\n",
       "      <th>type</th>\n",
       "    </tr>\n",
       "  </thead>\n",
       "  <tbody>\n",
       "    <tr>\n",
       "      <th>0</th>\n",
       "      <td>23221523</td>\n",
       "      <td>[401(k)]</td>\n",
       "    </tr>\n",
       "    <tr>\n",
       "      <th>1</th>\n",
       "      <td>56482768</td>\n",
       "      <td>[401(k), Dental insurance, Disability insurance]</td>\n",
       "    </tr>\n",
       "    <tr>\n",
       "      <th>2</th>\n",
       "      <td>69333422</td>\n",
       "      <td>[Medical insurance, Vision insurance, Dental i...</td>\n",
       "    </tr>\n",
       "    <tr>\n",
       "      <th>3</th>\n",
       "      <td>95428182</td>\n",
       "      <td>[Medical insurance, Dental insurance, Disabili...</td>\n",
       "    </tr>\n",
       "    <tr>\n",
       "      <th>4</th>\n",
       "      <td>111513530</td>\n",
       "      <td>[Medical insurance, Paid maternity leave, Pens...</td>\n",
       "    </tr>\n",
       "  </tbody>\n",
       "</table>\n",
       "</div>"
      ],
      "text/plain": [
       "      job_id                                               type\n",
       "0   23221523                                           [401(k)]\n",
       "1   56482768   [401(k), Dental insurance, Disability insurance]\n",
       "2   69333422  [Medical insurance, Vision insurance, Dental i...\n",
       "3   95428182  [Medical insurance, Dental insurance, Disabili...\n",
       "4  111513530  [Medical insurance, Paid maternity leave, Pens..."
      ]
     },
     "execution_count": 26,
     "metadata": {},
     "output_type": "execute_result"
    }
   ],
   "source": [
    "benefits_df.head()"
   ]
  },
  {
   "cell_type": "markdown",
   "metadata": {},
   "source": [
    "1. We group the benefits into a list and remove the `inferred` column.\n",
    "\n"
   ]
  },
  {
   "cell_type": "markdown",
   "metadata": {},
   "source": [
    "# Data Cleaning (employee_counts)\n"
   ]
  },
  {
   "cell_type": "code",
   "execution_count": 27,
   "metadata": {},
   "outputs": [
    {
     "data": {
      "text/html": [
       "<div>\n",
       "<style scoped>\n",
       "    .dataframe tbody tr th:only-of-type {\n",
       "        vertical-align: middle;\n",
       "    }\n",
       "\n",
       "    .dataframe tbody tr th {\n",
       "        vertical-align: top;\n",
       "    }\n",
       "\n",
       "    .dataframe thead th {\n",
       "        text-align: right;\n",
       "    }\n",
       "</style>\n",
       "<table border=\"1\" class=\"dataframe\">\n",
       "  <thead>\n",
       "    <tr style=\"text-align: right;\">\n",
       "      <th></th>\n",
       "      <th>company_id</th>\n",
       "      <th>employee_count</th>\n",
       "      <th>follower_count</th>\n",
       "      <th>time_recorded</th>\n",
       "    </tr>\n",
       "  </thead>\n",
       "  <tbody>\n",
       "    <tr>\n",
       "      <th>0</th>\n",
       "      <td>391906</td>\n",
       "      <td>186</td>\n",
       "      <td>32508</td>\n",
       "      <td>1712346173</td>\n",
       "    </tr>\n",
       "    <tr>\n",
       "      <th>1</th>\n",
       "      <td>22292832</td>\n",
       "      <td>311</td>\n",
       "      <td>4471</td>\n",
       "      <td>1712346173</td>\n",
       "    </tr>\n",
       "    <tr>\n",
       "      <th>2</th>\n",
       "      <td>20300</td>\n",
       "      <td>1053</td>\n",
       "      <td>6554</td>\n",
       "      <td>1712346173</td>\n",
       "    </tr>\n",
       "    <tr>\n",
       "      <th>3</th>\n",
       "      <td>3570660</td>\n",
       "      <td>383</td>\n",
       "      <td>35241</td>\n",
       "      <td>1712346173</td>\n",
       "    </tr>\n",
       "    <tr>\n",
       "      <th>4</th>\n",
       "      <td>878353</td>\n",
       "      <td>52</td>\n",
       "      <td>26397</td>\n",
       "      <td>1712346173</td>\n",
       "    </tr>\n",
       "  </tbody>\n",
       "</table>\n",
       "</div>"
      ],
      "text/plain": [
       "   company_id  employee_count  follower_count  time_recorded\n",
       "0      391906             186           32508     1712346173\n",
       "1    22292832             311            4471     1712346173\n",
       "2       20300            1053            6554     1712346173\n",
       "3     3570660             383           35241     1712346173\n",
       "4      878353              52           26397     1712346173"
      ]
     },
     "execution_count": 27,
     "metadata": {},
     "output_type": "execute_result"
    }
   ],
   "source": [
    "employee_counts_df.head()"
   ]
  },
  {
   "cell_type": "code",
   "execution_count": 28,
   "metadata": {},
   "outputs": [
    {
     "data": {
      "text/plain": [
       "company_id        0\n",
       "employee_count    0\n",
       "follower_count    0\n",
       "time_recorded     0\n",
       "dtype: int64"
      ]
     },
     "execution_count": 28,
     "metadata": {},
     "output_type": "execute_result"
    }
   ],
   "source": [
    "employee_counts_df.isnull().sum()"
   ]
  },
  {
   "cell_type": "markdown",
   "metadata": {},
   "source": [
    "There are no null values in the table, but we notice that `timerecorder` is in an unusual format, and we are unsure of its actual meaning. Therefore, we will convert it into a readable format."
   ]
  },
  {
   "cell_type": "code",
   "execution_count": 29,
   "metadata": {},
   "outputs": [
    {
     "name": "stderr",
     "output_type": "stream",
     "text": [
      "INFO:__main__:Converted time_recorded to readable date format in employee_counts_df.\n"
     ]
    }
   ],
   "source": [
    "employee_counts_df[\"time_recorded\"] = pd.to_datetime(employee_counts_df[\"time_recorded\"], unit=\"s\").dt.date\n",
    "logger.info(\"Converted time_recorded to readable date format in employee_counts_df.\")"
   ]
  },
  {
   "cell_type": "code",
   "execution_count": 30,
   "metadata": {},
   "outputs": [
    {
     "data": {
      "text/html": [
       "<div>\n",
       "<style scoped>\n",
       "    .dataframe tbody tr th:only-of-type {\n",
       "        vertical-align: middle;\n",
       "    }\n",
       "\n",
       "    .dataframe tbody tr th {\n",
       "        vertical-align: top;\n",
       "    }\n",
       "\n",
       "    .dataframe thead th {\n",
       "        text-align: right;\n",
       "    }\n",
       "</style>\n",
       "<table border=\"1\" class=\"dataframe\">\n",
       "  <thead>\n",
       "    <tr style=\"text-align: right;\">\n",
       "      <th></th>\n",
       "      <th>company_id</th>\n",
       "      <th>employee_count</th>\n",
       "      <th>follower_count</th>\n",
       "      <th>time_recorded</th>\n",
       "    </tr>\n",
       "  </thead>\n",
       "  <tbody>\n",
       "    <tr>\n",
       "      <th>0</th>\n",
       "      <td>391906</td>\n",
       "      <td>186</td>\n",
       "      <td>32508</td>\n",
       "      <td>2024-04-05</td>\n",
       "    </tr>\n",
       "    <tr>\n",
       "      <th>1</th>\n",
       "      <td>22292832</td>\n",
       "      <td>311</td>\n",
       "      <td>4471</td>\n",
       "      <td>2024-04-05</td>\n",
       "    </tr>\n",
       "    <tr>\n",
       "      <th>2</th>\n",
       "      <td>20300</td>\n",
       "      <td>1053</td>\n",
       "      <td>6554</td>\n",
       "      <td>2024-04-05</td>\n",
       "    </tr>\n",
       "    <tr>\n",
       "      <th>3</th>\n",
       "      <td>3570660</td>\n",
       "      <td>383</td>\n",
       "      <td>35241</td>\n",
       "      <td>2024-04-05</td>\n",
       "    </tr>\n",
       "    <tr>\n",
       "      <th>4</th>\n",
       "      <td>878353</td>\n",
       "      <td>52</td>\n",
       "      <td>26397</td>\n",
       "      <td>2024-04-05</td>\n",
       "    </tr>\n",
       "  </tbody>\n",
       "</table>\n",
       "</div>"
      ],
      "text/plain": [
       "   company_id  employee_count  follower_count time_recorded\n",
       "0      391906             186           32508    2024-04-05\n",
       "1    22292832             311            4471    2024-04-05\n",
       "2       20300            1053            6554    2024-04-05\n",
       "3     3570660             383           35241    2024-04-05\n",
       "4      878353              52           26397    2024-04-05"
      ]
     },
     "execution_count": 30,
     "metadata": {},
     "output_type": "execute_result"
    }
   ],
   "source": [
    "employee_counts_df.head()"
   ]
  },
  {
   "cell_type": "markdown",
   "metadata": {},
   "source": [
    "Now, the date is in a readable format.\n"
   ]
  },
  {
   "cell_type": "markdown",
   "metadata": {},
   "source": [
    "# **Data Cleaning (industries_df)**"
   ]
  },
  {
   "cell_type": "code",
   "execution_count": 31,
   "metadata": {},
   "outputs": [
    {
     "data": {
      "text/html": [
       "<div>\n",
       "<style scoped>\n",
       "    .dataframe tbody tr th:only-of-type {\n",
       "        vertical-align: middle;\n",
       "    }\n",
       "\n",
       "    .dataframe tbody tr th {\n",
       "        vertical-align: top;\n",
       "    }\n",
       "\n",
       "    .dataframe thead th {\n",
       "        text-align: right;\n",
       "    }\n",
       "</style>\n",
       "<table border=\"1\" class=\"dataframe\">\n",
       "  <thead>\n",
       "    <tr style=\"text-align: right;\">\n",
       "      <th></th>\n",
       "      <th>industry_id</th>\n",
       "      <th>industry_name</th>\n",
       "    </tr>\n",
       "  </thead>\n",
       "  <tbody>\n",
       "    <tr>\n",
       "      <th>0</th>\n",
       "      <td>1</td>\n",
       "      <td>Defense and Space Manufacturing</td>\n",
       "    </tr>\n",
       "    <tr>\n",
       "      <th>1</th>\n",
       "      <td>3</td>\n",
       "      <td>Computer Hardware Manufacturing</td>\n",
       "    </tr>\n",
       "    <tr>\n",
       "      <th>2</th>\n",
       "      <td>4</td>\n",
       "      <td>Software Development</td>\n",
       "    </tr>\n",
       "    <tr>\n",
       "      <th>3</th>\n",
       "      <td>5</td>\n",
       "      <td>Computer Networking Products</td>\n",
       "    </tr>\n",
       "    <tr>\n",
       "      <th>4</th>\n",
       "      <td>6</td>\n",
       "      <td>Technology, Information and Internet</td>\n",
       "    </tr>\n",
       "  </tbody>\n",
       "</table>\n",
       "</div>"
      ],
      "text/plain": [
       "   industry_id                         industry_name\n",
       "0            1       Defense and Space Manufacturing\n",
       "1            3       Computer Hardware Manufacturing\n",
       "2            4                  Software Development\n",
       "3            5          Computer Networking Products\n",
       "4            6  Technology, Information and Internet"
      ]
     },
     "execution_count": 31,
     "metadata": {},
     "output_type": "execute_result"
    }
   ],
   "source": [
    "industries_df.head()"
   ]
  },
  {
   "cell_type": "code",
   "execution_count": 32,
   "metadata": {},
   "outputs": [
    {
     "data": {
      "text/plain": [
       "industry_id       0\n",
       "industry_name    34\n",
       "dtype: int64"
      ]
     },
     "execution_count": 32,
     "metadata": {},
     "output_type": "execute_result"
    }
   ],
   "source": [
    "industries_df.isnull().sum()"
   ]
  },
  {
   "cell_type": "markdown",
   "metadata": {},
   "source": [
    "There are 34 null values in `industry_name`, so we will convert them to `\"Unknown\"`."
   ]
  },
  {
   "cell_type": "code",
   "execution_count": 33,
   "metadata": {},
   "outputs": [
    {
     "name": "stderr",
     "output_type": "stream",
     "text": [
      "INFO:__main__:Replaced null values in industry_name with 'Unknown' in industries_df.\n"
     ]
    }
   ],
   "source": [
    "industries_df[\"industry_name\"] = industries_df[\"industry_name\"].replace([None, pd.NA], \"Unknown\")\n",
    "logger.info(\"Replaced null values in industry_name with 'Unknown' in industries_df.\")"
   ]
  },
  {
   "cell_type": "code",
   "execution_count": 34,
   "metadata": {},
   "outputs": [
    {
     "data": {
      "text/plain": [
       "industry_id      0\n",
       "industry_name    0\n",
       "dtype: int64"
      ]
     },
     "execution_count": 34,
     "metadata": {},
     "output_type": "execute_result"
    }
   ],
   "source": [
    "industries_df.isnull().sum()"
   ]
  },
  {
   "cell_type": "markdown",
   "metadata": {},
   "source": [
    "# Data Cleaning (skills_industries)"
   ]
  },
  {
   "cell_type": "code",
   "execution_count": 35,
   "metadata": {},
   "outputs": [
    {
     "data": {
      "text/html": [
       "<div>\n",
       "<style scoped>\n",
       "    .dataframe tbody tr th:only-of-type {\n",
       "        vertical-align: middle;\n",
       "    }\n",
       "\n",
       "    .dataframe tbody tr th {\n",
       "        vertical-align: top;\n",
       "    }\n",
       "\n",
       "    .dataframe thead th {\n",
       "        text-align: right;\n",
       "    }\n",
       "</style>\n",
       "<table border=\"1\" class=\"dataframe\">\n",
       "  <thead>\n",
       "    <tr style=\"text-align: right;\">\n",
       "      <th></th>\n",
       "      <th>skill_abr</th>\n",
       "      <th>skill_name</th>\n",
       "    </tr>\n",
       "  </thead>\n",
       "  <tbody>\n",
       "    <tr>\n",
       "      <th>0</th>\n",
       "      <td>ART</td>\n",
       "      <td>Art/Creative</td>\n",
       "    </tr>\n",
       "    <tr>\n",
       "      <th>1</th>\n",
       "      <td>DSGN</td>\n",
       "      <td>Design</td>\n",
       "    </tr>\n",
       "    <tr>\n",
       "      <th>2</th>\n",
       "      <td>ADVR</td>\n",
       "      <td>Advertising</td>\n",
       "    </tr>\n",
       "    <tr>\n",
       "      <th>3</th>\n",
       "      <td>PRDM</td>\n",
       "      <td>Product Management</td>\n",
       "    </tr>\n",
       "    <tr>\n",
       "      <th>4</th>\n",
       "      <td>DIST</td>\n",
       "      <td>Distribution</td>\n",
       "    </tr>\n",
       "  </tbody>\n",
       "</table>\n",
       "</div>"
      ],
      "text/plain": [
       "  skill_abr          skill_name\n",
       "0       ART        Art/Creative\n",
       "1      DSGN              Design\n",
       "2      ADVR         Advertising\n",
       "3      PRDM  Product Management\n",
       "4      DIST        Distribution"
      ]
     },
     "execution_count": 35,
     "metadata": {},
     "output_type": "execute_result"
    }
   ],
   "source": [
    "skills_industries_df.head()"
   ]
  },
  {
   "cell_type": "markdown",
   "metadata": {},
   "source": [
    "# Data Cleaning (companies)"
   ]
  },
  {
   "cell_type": "code",
   "execution_count": 36,
   "metadata": {},
   "outputs": [
    {
     "data": {
      "text/html": [
       "<div>\n",
       "<style scoped>\n",
       "    .dataframe tbody tr th:only-of-type {\n",
       "        vertical-align: middle;\n",
       "    }\n",
       "\n",
       "    .dataframe tbody tr th {\n",
       "        vertical-align: top;\n",
       "    }\n",
       "\n",
       "    .dataframe thead th {\n",
       "        text-align: right;\n",
       "    }\n",
       "</style>\n",
       "<table border=\"1\" class=\"dataframe\">\n",
       "  <thead>\n",
       "    <tr style=\"text-align: right;\">\n",
       "      <th></th>\n",
       "      <th>company_id</th>\n",
       "      <th>name</th>\n",
       "      <th>description</th>\n",
       "      <th>company_size</th>\n",
       "      <th>state</th>\n",
       "      <th>country</th>\n",
       "      <th>city</th>\n",
       "      <th>zip_code</th>\n",
       "      <th>address</th>\n",
       "      <th>url</th>\n",
       "    </tr>\n",
       "  </thead>\n",
       "  <tbody>\n",
       "    <tr>\n",
       "      <th>0</th>\n",
       "      <td>1009</td>\n",
       "      <td>IBM</td>\n",
       "      <td>At IBM, we do more than work. We create. We cr...</td>\n",
       "      <td>7.00</td>\n",
       "      <td>NY</td>\n",
       "      <td>US</td>\n",
       "      <td>Armonk, New York</td>\n",
       "      <td>10504</td>\n",
       "      <td>International Business Machines Corp.</td>\n",
       "      <td>https://www.linkedin.com/company/ibm</td>\n",
       "    </tr>\n",
       "    <tr>\n",
       "      <th>1</th>\n",
       "      <td>1016</td>\n",
       "      <td>GE HealthCare</td>\n",
       "      <td>Every day millions of people feel the impact o...</td>\n",
       "      <td>7.00</td>\n",
       "      <td>0</td>\n",
       "      <td>US</td>\n",
       "      <td>Chicago</td>\n",
       "      <td>0</td>\n",
       "      <td>-</td>\n",
       "      <td>https://www.linkedin.com/company/gehealthcare</td>\n",
       "    </tr>\n",
       "    <tr>\n",
       "      <th>2</th>\n",
       "      <td>1025</td>\n",
       "      <td>Hewlett Packard Enterprise</td>\n",
       "      <td>Official LinkedIn of Hewlett Packard Enterpris...</td>\n",
       "      <td>7.00</td>\n",
       "      <td>Texas</td>\n",
       "      <td>US</td>\n",
       "      <td>Houston</td>\n",
       "      <td>77389</td>\n",
       "      <td>1701 E Mossy Oaks Rd Spring</td>\n",
       "      <td>https://www.linkedin.com/company/hewlett-packa...</td>\n",
       "    </tr>\n",
       "    <tr>\n",
       "      <th>3</th>\n",
       "      <td>1028</td>\n",
       "      <td>Oracle</td>\n",
       "      <td>We’re a cloud technology company that provides...</td>\n",
       "      <td>7.00</td>\n",
       "      <td>Texas</td>\n",
       "      <td>US</td>\n",
       "      <td>Austin</td>\n",
       "      <td>78741</td>\n",
       "      <td>2300 Oracle Way</td>\n",
       "      <td>https://www.linkedin.com/company/oracle</td>\n",
       "    </tr>\n",
       "    <tr>\n",
       "      <th>4</th>\n",
       "      <td>1033</td>\n",
       "      <td>Accenture</td>\n",
       "      <td>Accenture is a leading global professional ser...</td>\n",
       "      <td>7.00</td>\n",
       "      <td>0</td>\n",
       "      <td>IE</td>\n",
       "      <td>Dublin 2</td>\n",
       "      <td>0</td>\n",
       "      <td>Grand Canal Harbour</td>\n",
       "      <td>https://www.linkedin.com/company/accenture</td>\n",
       "    </tr>\n",
       "  </tbody>\n",
       "</table>\n",
       "</div>"
      ],
      "text/plain": [
       "   company_id                        name  \\\n",
       "0        1009                         IBM   \n",
       "1        1016               GE HealthCare   \n",
       "2        1025  Hewlett Packard Enterprise   \n",
       "3        1028                      Oracle   \n",
       "4        1033                   Accenture   \n",
       "\n",
       "                                         description  company_size  state  \\\n",
       "0  At IBM, we do more than work. We create. We cr...          7.00     NY   \n",
       "1  Every day millions of people feel the impact o...          7.00      0   \n",
       "2  Official LinkedIn of Hewlett Packard Enterpris...          7.00  Texas   \n",
       "3  We’re a cloud technology company that provides...          7.00  Texas   \n",
       "4  Accenture is a leading global professional ser...          7.00      0   \n",
       "\n",
       "  country              city zip_code                                address  \\\n",
       "0      US  Armonk, New York    10504  International Business Machines Corp.   \n",
       "1      US           Chicago        0                                      -   \n",
       "2      US           Houston    77389            1701 E Mossy Oaks Rd Spring   \n",
       "3      US            Austin    78741                        2300 Oracle Way   \n",
       "4      IE          Dublin 2        0                    Grand Canal Harbour   \n",
       "\n",
       "                                                 url  \n",
       "0               https://www.linkedin.com/company/ibm  \n",
       "1      https://www.linkedin.com/company/gehealthcare  \n",
       "2  https://www.linkedin.com/company/hewlett-packa...  \n",
       "3            https://www.linkedin.com/company/oracle  \n",
       "4         https://www.linkedin.com/company/accenture  "
      ]
     },
     "execution_count": 36,
     "metadata": {},
     "output_type": "execute_result"
    }
   ],
   "source": [
    "companies_df.head()"
   ]
  },
  {
   "cell_type": "code",
   "execution_count": 37,
   "metadata": {},
   "outputs": [
    {
     "name": "stdout",
     "output_type": "stream",
     "text": [
      "<class 'pandas.core.frame.DataFrame'>\n",
      "RangeIndex: 24473 entries, 0 to 24472\n",
      "Data columns (total 10 columns):\n",
      " #   Column        Non-Null Count  Dtype  \n",
      "---  ------        --------------  -----  \n",
      " 0   company_id    24473 non-null  int64  \n",
      " 1   name          24472 non-null  object \n",
      " 2   description   24176 non-null  object \n",
      " 3   company_size  21699 non-null  float64\n",
      " 4   state         24451 non-null  object \n",
      " 5   country       24473 non-null  object \n",
      " 6   city          24472 non-null  object \n",
      " 7   zip_code      24445 non-null  object \n",
      " 8   address       24451 non-null  object \n",
      " 9   url           24473 non-null  object \n",
      "dtypes: float64(1), int64(1), object(8)\n",
      "memory usage: 1.9+ MB\n"
     ]
    }
   ],
   "source": [
    "companies_df.info()"
   ]
  },
  {
   "cell_type": "code",
   "execution_count": 38,
   "metadata": {},
   "outputs": [
    {
     "data": {
      "text/plain": [
       "company_id         0\n",
       "name               1\n",
       "description      297\n",
       "company_size    2774\n",
       "state             22\n",
       "country            0\n",
       "city               1\n",
       "zip_code          28\n",
       "address           22\n",
       "url                0\n",
       "dtype: int64"
      ]
     },
     "execution_count": 38,
     "metadata": {},
     "output_type": "execute_result"
    }
   ],
   "source": [
    "companies_df.isnull().sum()"
   ]
  },
  {
   "cell_type": "markdown",
   "metadata": {},
   "source": [
    "In this case, all data types are correct, so we will only perform a few operations on them.\n",
    "\n",
    "1. We see that there are not many null values for company size, so we can use the median to determine the size.\n",
    "\n",
    "2. Null descriptions can be handled the same way as in the other tables (`\"No description\"`).\n",
    "\n",
    "3. `zip` can be treated as `\"Unknown\"`, and the address as well.\n",
    "\n",
    "4. The only null company name can be removed.\n"
   ]
  },
  {
   "cell_type": "code",
   "execution_count": 39,
   "metadata": {},
   "outputs": [
    {
     "name": "stderr",
     "output_type": "stream",
     "text": [
      "INFO:__main__:Handled missing values and corrected data types in companies_df.\n"
     ]
    }
   ],
   "source": [
    "companies_df.fillna({\n",
    "    'zip_code': 'Unknown',\n",
    "    'state': 'Unknown',\n",
    "    'company_size': companies_df['company_size'].median(),\n",
    "    'description': 'No description',\n",
    "    'address': 'No specific address',\n",
    "    'city': 'Unknown'\n",
    "}, inplace=True)\n",
    "\n",
    "companies_df.dropna(subset=['name'], inplace=True)\n",
    "\n",
    "companies_df['company_size'] = companies_df['company_size'].astype(int)\n",
    "\n",
    "companies_df['zip_code'] = companies_df['zip_code'].replace('0', 'Unknown')\n",
    "companies_df['state'] = companies_df['state'].replace('0', 'Unknown')\n",
    "\n",
    "logger.info(\"Handled missing values and corrected data types in companies_df.\")"
   ]
  },
  {
   "cell_type": "code",
   "execution_count": 40,
   "metadata": {},
   "outputs": [
    {
     "data": {
      "text/html": [
       "<div>\n",
       "<style scoped>\n",
       "    .dataframe tbody tr th:only-of-type {\n",
       "        vertical-align: middle;\n",
       "    }\n",
       "\n",
       "    .dataframe tbody tr th {\n",
       "        vertical-align: top;\n",
       "    }\n",
       "\n",
       "    .dataframe thead th {\n",
       "        text-align: right;\n",
       "    }\n",
       "</style>\n",
       "<table border=\"1\" class=\"dataframe\">\n",
       "  <thead>\n",
       "    <tr style=\"text-align: right;\">\n",
       "      <th></th>\n",
       "      <th>company_id</th>\n",
       "      <th>name</th>\n",
       "      <th>description</th>\n",
       "      <th>company_size</th>\n",
       "      <th>state</th>\n",
       "      <th>country</th>\n",
       "      <th>city</th>\n",
       "      <th>zip_code</th>\n",
       "      <th>address</th>\n",
       "      <th>url</th>\n",
       "    </tr>\n",
       "  </thead>\n",
       "  <tbody>\n",
       "    <tr>\n",
       "      <th>0</th>\n",
       "      <td>1009</td>\n",
       "      <td>IBM</td>\n",
       "      <td>At IBM, we do more than work. We create. We cr...</td>\n",
       "      <td>7</td>\n",
       "      <td>NY</td>\n",
       "      <td>US</td>\n",
       "      <td>Armonk, New York</td>\n",
       "      <td>10504</td>\n",
       "      <td>International Business Machines Corp.</td>\n",
       "      <td>https://www.linkedin.com/company/ibm</td>\n",
       "    </tr>\n",
       "    <tr>\n",
       "      <th>1</th>\n",
       "      <td>1016</td>\n",
       "      <td>GE HealthCare</td>\n",
       "      <td>Every day millions of people feel the impact o...</td>\n",
       "      <td>7</td>\n",
       "      <td>Unknown</td>\n",
       "      <td>US</td>\n",
       "      <td>Chicago</td>\n",
       "      <td>Unknown</td>\n",
       "      <td>-</td>\n",
       "      <td>https://www.linkedin.com/company/gehealthcare</td>\n",
       "    </tr>\n",
       "    <tr>\n",
       "      <th>2</th>\n",
       "      <td>1025</td>\n",
       "      <td>Hewlett Packard Enterprise</td>\n",
       "      <td>Official LinkedIn of Hewlett Packard Enterpris...</td>\n",
       "      <td>7</td>\n",
       "      <td>Texas</td>\n",
       "      <td>US</td>\n",
       "      <td>Houston</td>\n",
       "      <td>77389</td>\n",
       "      <td>1701 E Mossy Oaks Rd Spring</td>\n",
       "      <td>https://www.linkedin.com/company/hewlett-packa...</td>\n",
       "    </tr>\n",
       "    <tr>\n",
       "      <th>3</th>\n",
       "      <td>1028</td>\n",
       "      <td>Oracle</td>\n",
       "      <td>We’re a cloud technology company that provides...</td>\n",
       "      <td>7</td>\n",
       "      <td>Texas</td>\n",
       "      <td>US</td>\n",
       "      <td>Austin</td>\n",
       "      <td>78741</td>\n",
       "      <td>2300 Oracle Way</td>\n",
       "      <td>https://www.linkedin.com/company/oracle</td>\n",
       "    </tr>\n",
       "    <tr>\n",
       "      <th>4</th>\n",
       "      <td>1033</td>\n",
       "      <td>Accenture</td>\n",
       "      <td>Accenture is a leading global professional ser...</td>\n",
       "      <td>7</td>\n",
       "      <td>Unknown</td>\n",
       "      <td>IE</td>\n",
       "      <td>Dublin 2</td>\n",
       "      <td>Unknown</td>\n",
       "      <td>Grand Canal Harbour</td>\n",
       "      <td>https://www.linkedin.com/company/accenture</td>\n",
       "    </tr>\n",
       "  </tbody>\n",
       "</table>\n",
       "</div>"
      ],
      "text/plain": [
       "   company_id                        name  \\\n",
       "0        1009                         IBM   \n",
       "1        1016               GE HealthCare   \n",
       "2        1025  Hewlett Packard Enterprise   \n",
       "3        1028                      Oracle   \n",
       "4        1033                   Accenture   \n",
       "\n",
       "                                         description  company_size    state  \\\n",
       "0  At IBM, we do more than work. We create. We cr...             7       NY   \n",
       "1  Every day millions of people feel the impact o...             7  Unknown   \n",
       "2  Official LinkedIn of Hewlett Packard Enterpris...             7    Texas   \n",
       "3  We’re a cloud technology company that provides...             7    Texas   \n",
       "4  Accenture is a leading global professional ser...             7  Unknown   \n",
       "\n",
       "  country              city zip_code                                address  \\\n",
       "0      US  Armonk, New York    10504  International Business Machines Corp.   \n",
       "1      US           Chicago  Unknown                                      -   \n",
       "2      US           Houston    77389            1701 E Mossy Oaks Rd Spring   \n",
       "3      US            Austin    78741                        2300 Oracle Way   \n",
       "4      IE          Dublin 2  Unknown                    Grand Canal Harbour   \n",
       "\n",
       "                                                 url  \n",
       "0               https://www.linkedin.com/company/ibm  \n",
       "1      https://www.linkedin.com/company/gehealthcare  \n",
       "2  https://www.linkedin.com/company/hewlett-packa...  \n",
       "3            https://www.linkedin.com/company/oracle  \n",
       "4         https://www.linkedin.com/company/accenture  "
      ]
     },
     "execution_count": 40,
     "metadata": {},
     "output_type": "execute_result"
    }
   ],
   "source": [
    "companies_df.head()"
   ]
  },
  {
   "cell_type": "markdown",
   "metadata": {},
   "source": [
    "This way, our data remains consistent."
   ]
  },
  {
   "cell_type": "code",
   "execution_count": 41,
   "metadata": {},
   "outputs": [
    {
     "name": "stderr",
     "output_type": "stream",
     "text": [
      "INFO:__main__:Successfully loaded jobs into cleaned.jobs\n",
      "INFO:__main__:Validation: cleaned.jobs has 123849 rows\n",
      "INFO:__main__:Successfully loaded salaries into cleaned.salaries\n",
      "INFO:__main__:Validation: cleaned.salaries has 40785 rows\n",
      "INFO:__main__:Successfully loaded benefits into cleaned.benefits\n",
      "INFO:__main__:Validation: cleaned.benefits has 30023 rows\n",
      "INFO:__main__:Successfully loaded employee_counts into cleaned.employee_counts\n",
      "INFO:__main__:Validation: cleaned.employee_counts has 35787 rows\n",
      "INFO:__main__:Successfully loaded industries into cleaned.industries\n",
      "INFO:__main__:Validation: cleaned.industries has 422 rows\n",
      "INFO:__main__:Successfully loaded skills_industries into cleaned.skills_industries\n",
      "INFO:__main__:Validation: cleaned.skills_industries has 35 rows\n",
      "INFO:__main__:Successfully loaded companies into cleaned.companies\n",
      "INFO:__main__:Validation: cleaned.companies has 24472 rows\n",
      "INFO:__main__:\n",
      "Tables in cleaned schema of project-etl database:\n",
      "INFO:__main__:jobs\n",
      "INFO:__main__:salaries\n",
      "INFO:__main__:benefits\n",
      "INFO:__main__:employee_counts\n",
      "INFO:__main__:industries\n",
      "INFO:__main__:skills_industries\n",
      "INFO:__main__:companies\n"
     ]
    }
   ],
   "source": [
    "dataframes_to_load = {\n",
    "    'jobs': jobs_df,\n",
    "    'salaries': salaries_df,\n",
    "    'benefits': benefits_df,\n",
    "    'employee_counts': employee_counts_df,\n",
    "    'industries': industries_df,\n",
    "    'skills_industries': skills_industries_df,\n",
    "    'companies': companies_df\n",
    "}\n",
    "\n",
    "# Load each DataFrame into the 'cleaned' schema\n",
    "for table_name, df in dataframes_to_load.items():\n",
    "    try:\n",
    "        with engine.begin() as connection:\n",
    "            df.to_sql(table_name, connection, schema='cleaned', if_exists='replace', index=False)\n",
    "            logger.info(f\"Successfully loaded {table_name} into cleaned.{table_name}\")\n",
    "\n",
    "            # Validate\n",
    "            result = connection.execute(text(f\"SELECT COUNT(*) FROM cleaned.{table_name}\"))\n",
    "            row_count = result.fetchone()[0]\n",
    "            logger.info(f\"Validation: cleaned.{table_name} has {row_count} rows\")\n",
    "    except Exception as e:\n",
    "        logger.error(f\"Error loading {table_name} into cleaned schema: {str(e)}\")\n",
    "        raise\n",
    "\n",
    "# Verify all tables in the cleaned schema\n",
    "try:\n",
    "    with engine.connect() as connection:\n",
    "        result = connection.execute(text(\"SELECT table_name FROM information_schema.tables WHERE table_schema = 'cleaned';\"))\n",
    "        logger.info('\\nTables in cleaned schema of project-etl database:')\n",
    "        for row in result:\n",
    "            logger.info(row[0])\n",
    "except Exception as e:\n",
    "    logger.error(f'Verification failed: {e}')\n",
    "    raise"
   ]
  },
  {
   "cell_type": "code",
   "execution_count": 42,
   "metadata": {},
   "outputs": [
    {
     "name": "stdout",
     "output_type": "stream",
     "text": [
      "Jobs Data Distribution:\n",
      "       normalized_salary           original_listed_time\n",
      "count           36073.00                         123849\n",
      "mean            93505.17  2024-04-15 03:38:58.799942144\n",
      "min                 0.00            2023-12-05 21:08:53\n",
      "25%             52000.00            2024-04-11 19:14:36\n",
      "50%             81500.00            2024-04-17 23:03:59\n",
      "75%            125000.00            2024-04-18 22:12:04\n",
      "max            234500.00            2024-04-20 00:26:43\n",
      "std             52147.55                            NaN\n",
      "\n",
      "Date Distribution:\n",
      "original_listed_time\n",
      "2023-12-05 21:08:53    1\n",
      "2023-12-08 15:47:14    1\n",
      "2023-12-21 18:49:15    1\n",
      "2024-01-05 20:18:41    1\n",
      "2024-01-05 20:19:04    1\n",
      "                      ..\n",
      "2024-04-20 00:26:07    1\n",
      "2024-04-20 00:26:08    1\n",
      "2024-04-20 00:26:28    1\n",
      "2024-04-20 00:26:30    1\n",
      "2024-04-20 00:26:43    1\n",
      "Name: count, Length: 65036, dtype: int64\n",
      "\n",
      "Total unique jobs: 123849\n",
      "Total rows: 123849\n"
     ]
    }
   ],
   "source": [
    "print(\"Jobs Data Distribution:\")\n",
    "print(jobs_df[['normalized_salary', 'original_listed_time']].describe())\n",
    "print(\"\\nDate Distribution:\")\n",
    "print(jobs_df['original_listed_time'].value_counts().sort_index())\n",
    "print(f\"\\nTotal unique jobs: {jobs_df['job_id'].nunique()}\")\n",
    "print(f\"Total rows: {len(jobs_df)}\")"
   ]
  },
  {
   "cell_type": "markdown",
   "metadata": {},
   "source": [
    "Connect database in other new database cleaned"
   ]
  },
  {
   "cell_type": "code",
   "execution_count": 43,
   "metadata": {},
   "outputs": [
    {
     "name": "stderr",
     "output_type": "stream",
     "text": [
      "INFO:__main__:Closed connection to GCP database.\n"
     ]
    }
   ],
   "source": [
    "engine.dispose()\n",
    "logger.info(\"Closed connection to GCP database.\")"
   ]
  }
 ],
 "metadata": {
  "kernelspec": {
   "display_name": "Python (project_etl)",
   "language": "python",
   "name": "project_etl"
  },
  "language_info": {
   "codemirror_mode": {
    "name": "ipython",
    "version": 3
   },
   "file_extension": ".py",
   "mimetype": "text/x-python",
   "name": "python",
   "nbconvert_exporter": "python",
   "pygments_lexer": "ipython3",
   "version": "3.13.1"
  }
 },
 "nbformat": 4,
 "nbformat_minor": 2
}
