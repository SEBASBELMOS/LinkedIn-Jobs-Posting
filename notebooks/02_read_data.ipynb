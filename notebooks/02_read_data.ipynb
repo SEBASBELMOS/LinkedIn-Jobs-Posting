{
 "cells": [
  {
   "cell_type": "markdown",
   "metadata": {},
   "source": [
    "## **PROJECT - NOTEBOOK #2: Data Cleansing, transformation and Exploratory Data Analysis (EDA)**\n",
    "\n",
    "---"
   ]
  },
  {
   "cell_type": "markdown",
   "metadata": {},
   "source": [
    "### **Setting Environment**"
   ]
  },
  {
   "cell_type": "code",
   "execution_count": 74,
   "metadata": {},
   "outputs": [
    {
     "name": "stdout",
     "output_type": "stream",
     "text": [
      "d:\\U\\FIFTH SEMESTER\\ETL\\project_etl\n",
      "d:\\U\\FIFTH SEMESTER\\ETL\\project_etl\n"
     ]
    }
   ],
   "source": [
    "import os \n",
    "print(os.getcwd())\n",
    "\n",
    "try:\n",
    "    os.chdir(\"../project_etl\")\n",
    "\n",
    "except FileNotFoundError:\n",
    "    print(\"\"\"\n",
    "        FileNotFoundError - The directory may not exist or you might not be in the specified path.\n",
    "        If this has already worked, do not run this block again, as the current directory is already set to workshop-001.\n",
    "        \"\"\")\n",
    "    \n",
    "print(os.getcwd())"
   ]
  },
  {
   "cell_type": "markdown",
   "metadata": {},
   "source": [
    "### **Load Data**"
   ]
  },
  {
   "cell_type": "code",
   "execution_count": null,
   "metadata": {},
   "outputs": [],
   "source": [
    "import pandas as pd\n",
    "import matplotlib.pyplot as plt\n",
    "import seaborn as sns\n",
    "\n",
    "plt.style.use('ggplot')\n",
    "\n",
    "from src.database.connection import creating_engine"
   ]
  },
  {
   "cell_type": "code",
   "execution_count": 76,
   "metadata": {},
   "outputs": [],
   "source": [
    "engine = creating_engine()"
   ]
  },
  {
   "cell_type": "markdown",
   "metadata": {},
   "source": [
    "### **Read Tables in database project_etl**"
   ]
  },
  {
   "cell_type": "code",
   "execution_count": 77,
   "metadata": {},
   "outputs": [],
   "source": [
    "from sqlalchemy import create_engine, text"
   ]
  },
  {
   "cell_type": "code",
   "execution_count": 78,
   "metadata": {},
   "outputs": [
    {
     "name": "stdout",
     "output_type": "stream",
     "text": [
      "DataFrames loaded from PostgreSQL.\n"
     ]
    }
   ],
   "source": [
    "jobs_df = pd.read_sql(\"SELECT * FROM public.jobs\", con=engine)\n",
    "salaries_df = pd.read_sql(\"SELECT * FROM public.salaries\", con=engine)\n",
    "benefits_df = pd.read_sql(\"SELECT * FROM public.benefits\", con=engine)\n",
    "employee_counts_df = pd.read_sql(\"SELECT * FROM public.employee_counts\", con=engine)\n",
    "industries_df = pd.read_sql(\"SELECT * FROM public.industries\", con=engine)\n",
    "skills_industries_df = pd.read_sql(\"SELECT * FROM public.skills_industries\", con=engine)\n",
    "companies_df = pd.read_sql(\"SELECT * FROM public.companies\", con=engine)\n",
    "\n",
    "print(\"DataFrames loaded from PostgreSQL.\")"
   ]
  },
  {
   "cell_type": "markdown",
   "metadata": {},
   "source": [
    "**The database contain 7 tables:**\n",
    "\n",
    "+ jobs_df\n",
    "+ salaries_df\n",
    "+ benefits_df\n",
    "+ employee_counts_df\n",
    "+ industries_df\n",
    "+ skills_industries_df\n",
    "+ companies_df\n",
    "\n",
    "We will analyse each table one by one to perform the necessary cleanups and analyses."
   ]
  },
  {
   "cell_type": "markdown",
   "metadata": {},
   "source": [
    "## **jobs_df**"
   ]
  },
  {
   "cell_type": "code",
   "execution_count": 79,
   "metadata": {},
   "outputs": [
    {
     "data": {
      "text/html": [
       "<div>\n",
       "<style scoped>\n",
       "    .dataframe tbody tr th:only-of-type {\n",
       "        vertical-align: middle;\n",
       "    }\n",
       "\n",
       "    .dataframe tbody tr th {\n",
       "        vertical-align: top;\n",
       "    }\n",
       "\n",
       "    .dataframe thead th {\n",
       "        text-align: right;\n",
       "    }\n",
       "</style>\n",
       "<table border=\"1\" class=\"dataframe\">\n",
       "  <thead>\n",
       "    <tr style=\"text-align: right;\">\n",
       "      <th></th>\n",
       "      <th>job_id</th>\n",
       "      <th>company_name</th>\n",
       "      <th>title</th>\n",
       "      <th>description</th>\n",
       "      <th>pay_period</th>\n",
       "      <th>location</th>\n",
       "      <th>company_id</th>\n",
       "      <th>views</th>\n",
       "      <th>formatted_work_type</th>\n",
       "      <th>original_listed_time</th>\n",
       "      <th>remote_allowed</th>\n",
       "      <th>job_posting_url</th>\n",
       "      <th>application_type</th>\n",
       "      <th>formatted_experience_level</th>\n",
       "      <th>sponsored</th>\n",
       "      <th>currency</th>\n",
       "      <th>normalized_salary</th>\n",
       "      <th>zip_code</th>\n",
       "      <th>job_id_modify</th>\n",
       "      <th>company_id_modify</th>\n",
       "    </tr>\n",
       "  </thead>\n",
       "  <tbody>\n",
       "    <tr>\n",
       "      <th>0</th>\n",
       "      <td>3853386067</td>\n",
       "      <td>CrossCountry Mortgage, LLC</td>\n",
       "      <td>Licensed Loan Partner</td>\n",
       "      <td>CrossCountry Mortgage is a leading mortgage le...</td>\n",
       "      <td>YEARLY</td>\n",
       "      <td>Ellicott City, MD</td>\n",
       "      <td>3021785</td>\n",
       "      <td>2</td>\n",
       "      <td>Full-time</td>\n",
       "      <td>2024-04-11 18:40:39</td>\n",
       "      <td>False</td>\n",
       "      <td>https://www.linkedin.com/jobs/view/3853386067/...</td>\n",
       "      <td>ComplexOnsiteApply</td>\n",
       "      <td>No specified</td>\n",
       "      <td>0</td>\n",
       "      <td>USD</td>\n",
       "      <td>42500.0</td>\n",
       "      <td>21042.0</td>\n",
       "      <td>1</td>\n",
       "      <td>1</td>\n",
       "    </tr>\n",
       "    <tr>\n",
       "      <th>1</th>\n",
       "      <td>3853717462</td>\n",
       "      <td>Spruce InfoTech, Inc</td>\n",
       "      <td>Quality process analyst | Hybrid in West Berli...</td>\n",
       "      <td>Consultant's Title: Quality Process EngineerWo...</td>\n",
       "      <td>Unknown</td>\n",
       "      <td>West Berlin, NJ</td>\n",
       "      <td>4803413</td>\n",
       "      <td>2</td>\n",
       "      <td>Full-time</td>\n",
       "      <td>2024-04-19 13:46:13</td>\n",
       "      <td>False</td>\n",
       "      <td>https://www.linkedin.com/jobs/view/3853717462/...</td>\n",
       "      <td>ComplexOnsiteApply</td>\n",
       "      <td>No specified</td>\n",
       "      <td>0</td>\n",
       "      <td>Unknown</td>\n",
       "      <td>NaN</td>\n",
       "      <td>8091.0</td>\n",
       "      <td>2</td>\n",
       "      <td>2</td>\n",
       "    </tr>\n",
       "    <tr>\n",
       "      <th>2</th>\n",
       "      <td>3853719293</td>\n",
       "      <td>Miracle Software Systems, Inc</td>\n",
       "      <td>Business Development Account Manager</td>\n",
       "      <td>Hello conections ,\\nI trust you are doing well...</td>\n",
       "      <td>Unknown</td>\n",
       "      <td>Novi, MI</td>\n",
       "      <td>15388</td>\n",
       "      <td>4</td>\n",
       "      <td>Full-time</td>\n",
       "      <td>2024-04-11 18:05:05</td>\n",
       "      <td>False</td>\n",
       "      <td>https://www.linkedin.com/jobs/view/3853719293/...</td>\n",
       "      <td>ComplexOnsiteApply</td>\n",
       "      <td>No specified</td>\n",
       "      <td>0</td>\n",
       "      <td>Unknown</td>\n",
       "      <td>NaN</td>\n",
       "      <td>48374.0</td>\n",
       "      <td>3</td>\n",
       "      <td>3</td>\n",
       "    </tr>\n",
       "    <tr>\n",
       "      <th>3</th>\n",
       "      <td>3853995874</td>\n",
       "      <td>None</td>\n",
       "      <td>Professional Singer</td>\n",
       "      <td>Summary:\\nWe are looking for a professional or...</td>\n",
       "      <td>Unknown</td>\n",
       "      <td>Boston, MA</td>\n",
       "      <td>-1</td>\n",
       "      <td>3</td>\n",
       "      <td>Temporary</td>\n",
       "      <td>2024-04-15 18:58:35</td>\n",
       "      <td>True</td>\n",
       "      <td>https://www.linkedin.com/jobs/view/3853995874/...</td>\n",
       "      <td>ComplexOnsiteApply</td>\n",
       "      <td>No specified</td>\n",
       "      <td>0</td>\n",
       "      <td>Unknown</td>\n",
       "      <td>NaN</td>\n",
       "      <td>2108.0</td>\n",
       "      <td>4</td>\n",
       "      <td>4</td>\n",
       "    </tr>\n",
       "    <tr>\n",
       "      <th>4</th>\n",
       "      <td>3854137450</td>\n",
       "      <td>NTCA–The Rural Broadband Association</td>\n",
       "      <td>Accounting Manager</td>\n",
       "      <td>NTCA – The Rural Broadband Association is look...</td>\n",
       "      <td>Unknown</td>\n",
       "      <td>Arlington, VA</td>\n",
       "      <td>39231</td>\n",
       "      <td>22</td>\n",
       "      <td>Full-time</td>\n",
       "      <td>2024-04-15 19:15:02</td>\n",
       "      <td>False</td>\n",
       "      <td>https://www.linkedin.com/jobs/view/3854137450/...</td>\n",
       "      <td>OffsiteApply</td>\n",
       "      <td>No specified</td>\n",
       "      <td>0</td>\n",
       "      <td>Unknown</td>\n",
       "      <td>NaN</td>\n",
       "      <td>22201.0</td>\n",
       "      <td>5</td>\n",
       "      <td>5</td>\n",
       "    </tr>\n",
       "  </tbody>\n",
       "</table>\n",
       "</div>"
      ],
      "text/plain": [
       "       job_id                          company_name  \\\n",
       "0  3853386067            CrossCountry Mortgage, LLC   \n",
       "1  3853717462                  Spruce InfoTech, Inc   \n",
       "2  3853719293         Miracle Software Systems, Inc   \n",
       "3  3853995874                                  None   \n",
       "4  3854137450  NTCA–The Rural Broadband Association   \n",
       "\n",
       "                                               title  \\\n",
       "0                              Licensed Loan Partner   \n",
       "1  Quality process analyst | Hybrid in West Berli...   \n",
       "2               Business Development Account Manager   \n",
       "3                                Professional Singer   \n",
       "4                                 Accounting Manager   \n",
       "\n",
       "                                         description pay_period  \\\n",
       "0  CrossCountry Mortgage is a leading mortgage le...     YEARLY   \n",
       "1  Consultant's Title: Quality Process EngineerWo...    Unknown   \n",
       "2  Hello conections ,\\nI trust you are doing well...    Unknown   \n",
       "3  Summary:\\nWe are looking for a professional or...    Unknown   \n",
       "4  NTCA – The Rural Broadband Association is look...    Unknown   \n",
       "\n",
       "            location  company_id  views formatted_work_type  \\\n",
       "0  Ellicott City, MD     3021785      2           Full-time   \n",
       "1    West Berlin, NJ     4803413      2           Full-time   \n",
       "2           Novi, MI       15388      4           Full-time   \n",
       "3         Boston, MA          -1      3           Temporary   \n",
       "4      Arlington, VA       39231     22           Full-time   \n",
       "\n",
       "  original_listed_time  remote_allowed  \\\n",
       "0  2024-04-11 18:40:39           False   \n",
       "1  2024-04-19 13:46:13           False   \n",
       "2  2024-04-11 18:05:05           False   \n",
       "3  2024-04-15 18:58:35            True   \n",
       "4  2024-04-15 19:15:02           False   \n",
       "\n",
       "                                     job_posting_url    application_type  \\\n",
       "0  https://www.linkedin.com/jobs/view/3853386067/...  ComplexOnsiteApply   \n",
       "1  https://www.linkedin.com/jobs/view/3853717462/...  ComplexOnsiteApply   \n",
       "2  https://www.linkedin.com/jobs/view/3853719293/...  ComplexOnsiteApply   \n",
       "3  https://www.linkedin.com/jobs/view/3853995874/...  ComplexOnsiteApply   \n",
       "4  https://www.linkedin.com/jobs/view/3854137450/...        OffsiteApply   \n",
       "\n",
       "  formatted_experience_level  sponsored currency  normalized_salary zip_code  \\\n",
       "0               No specified          0      USD            42500.0  21042.0   \n",
       "1               No specified          0  Unknown                NaN   8091.0   \n",
       "2               No specified          0  Unknown                NaN  48374.0   \n",
       "3               No specified          0  Unknown                NaN   2108.0   \n",
       "4               No specified          0  Unknown                NaN  22201.0   \n",
       "\n",
       "   job_id_modify  company_id_modify  \n",
       "0              1                  1  \n",
       "1              2                  2  \n",
       "2              3                  3  \n",
       "3              4                  4  \n",
       "4              5                  5  "
      ]
     },
     "execution_count": 79,
     "metadata": {},
     "output_type": "execute_result"
    }
   ],
   "source": [
    "jobs_df.head()"
   ]
  },
  {
   "cell_type": "markdown",
   "metadata": {},
   "source": [
    "### **Information**\n",
    "\n",
    "As can be observed, the `jobs` dataframe or table contains 31 columns and approximately 124,000 entries of information about job postings on LinkedIn.  "
   ]
  },
  {
   "cell_type": "code",
   "execution_count": 80,
   "metadata": {},
   "outputs": [
    {
     "data": {
      "text/plain": [
       "job_id                            0\n",
       "company_name                   1719\n",
       "title                             0\n",
       "description                       7\n",
       "pay_period                        0\n",
       "location                          0\n",
       "company_id                        0\n",
       "views                             0\n",
       "formatted_work_type               0\n",
       "original_listed_time              0\n",
       "remote_allowed                    0\n",
       "job_posting_url                   0\n",
       "application_type                  0\n",
       "formatted_experience_level        0\n",
       "sponsored                         0\n",
       "currency                          0\n",
       "normalized_salary             87776\n",
       "zip_code                          0\n",
       "job_id_modify                     0\n",
       "company_id_modify                 0\n",
       "dtype: int64"
      ]
     },
     "execution_count": 80,
     "metadata": {},
     "output_type": "execute_result"
    }
   ],
   "source": [
    "jobs_df.isnull().sum()"
   ]
  },
  {
   "cell_type": "markdown",
   "metadata": {},
   "source": [
    "In the same table, there is a significant number of null values, although many of these are not needed, other null values could provide very useful information.\n",
    "\n",
    "**The columns with the most null values are:**\n",
    "\n",
    "+ `closed_time`: 122,776\n",
    "+ `skills_desc`: 121,410\n",
    "+ `med_salary`: 117,569\n",
    "+ `remote_allowed`: 108,603\n",
    "+ `applies`: 100,529\n",
    "+ `max_salary`: 94,056\n",
    "+ `min_salary`: 94,056\n",
    "+ `compensation_type`: 87,776\n",
    "+ `normalized_salary`: 87,776\n",
    "+ `pay_period`: 87,776\n",
    "\n",
    "Some of these columns are not relevant for this analysis, while others that are important have too many null values. For this reason, some of these columns will be removed."
   ]
  },
  {
   "cell_type": "markdown",
   "metadata": {},
   "source": [
    "### **Columns to Remove from `jobs_df`:**\n",
    "\n",
    "+ `closed_time`: The closing date is not relevant in this case.\n",
    "+ `skills_desc`: Although it is important, it has too many null values.\n",
    "+ `med_salary`, `max_salary`, `min_salary`: We have the `normalized_salary` column, which has fewer null values and generalises the salary regardless of the currency type.\n",
    "+ `compensation_type`: It only has two values (`BASE_SALARY`, `None`), and in this form, it does not provide any significant information other than indicating a base salary offered to the employee.\n",
    "+ `listed_time`, `expiry`: The update date and expiry date are not needed for this analysis; we only require the original posting date (`original_listed_time`).\n",
    "+ `fips`: It indicates a specific address number, but we already have `zip_code` and `location`, which are largely sufficient to precisely identify the job location.\n",
    "+ `work_type`: This column indicates a specific work type using formats like **FULL_TIME** or **CONTRACT**. However, we already have the `formatted_work_type` column, which provides a more user-friendly format, such as **Full-time** or **Contract**. Therefore, having both columns might be redundant.\n",
    "+ Las columnas de URL tampoco son relevantes para el análisis pensado, por lo que solo dejaremos la columna job_posting_url para saber cuál es la publicación de la oferta de empleo."
   ]
  },
  {
   "cell_type": "markdown",
   "metadata": {},
   "source": [
    "### **Dataset information**"
   ]
  },
  {
   "cell_type": "code",
   "execution_count": 81,
   "metadata": {},
   "outputs": [
    {
     "name": "stdout",
     "output_type": "stream",
     "text": [
      "<class 'pandas.core.frame.DataFrame'>\n",
      "RangeIndex: 123849 entries, 0 to 123848\n",
      "Data columns (total 20 columns):\n",
      " #   Column                      Non-Null Count   Dtype         \n",
      "---  ------                      --------------   -----         \n",
      " 0   job_id                      123849 non-null  int64         \n",
      " 1   company_name                122130 non-null  object        \n",
      " 2   title                       123849 non-null  object        \n",
      " 3   description                 123842 non-null  object        \n",
      " 4   pay_period                  123849 non-null  object        \n",
      " 5   location                    123849 non-null  object        \n",
      " 6   company_id                  123849 non-null  int64         \n",
      " 7   views                       123849 non-null  int64         \n",
      " 8   formatted_work_type         123849 non-null  object        \n",
      " 9   original_listed_time        123849 non-null  datetime64[ns]\n",
      " 10  remote_allowed              123849 non-null  bool          \n",
      " 11  job_posting_url             123849 non-null  object        \n",
      " 12  application_type            123849 non-null  object        \n",
      " 13  formatted_experience_level  123849 non-null  object        \n",
      " 14  sponsored                   123849 non-null  int64         \n",
      " 15  currency                    123849 non-null  object        \n",
      " 16  normalized_salary           36073 non-null   float64       \n",
      " 17  zip_code                    123849 non-null  object        \n",
      " 18  job_id_modify               123849 non-null  int64         \n",
      " 19  company_id_modify           123849 non-null  int64         \n",
      "dtypes: bool(1), datetime64[ns](1), float64(1), int64(6), object(11)\n",
      "memory usage: 18.1+ MB\n"
     ]
    }
   ],
   "source": [
    "jobs_df.info()"
   ]
  },
  {
   "cell_type": "markdown",
   "metadata": {},
   "source": [
    "1. The `zip_code` column is currently of type *float* but should be of type *string* to allow formats with hyphens \"-\" as is common in many places.  \n",
    "\n",
    "2. The dates are in *float* format when they should actually be in *datetime* format to enable correct date interpretation. Therefore, we will convert them.  "
   ]
  },
  {
   "cell_type": "markdown",
   "metadata": {},
   "source": [
    "### **Transformed Dataset (Explanation)**\n",
    "\n",
    "Considering this, after cleaning the dataset, it would no longer include those columns, leaving only 21 columns that could potentially be relevant."
   ]
  },
  {
   "cell_type": "markdown",
   "metadata": {},
   "source": [
    "## **salaries_df**"
   ]
  },
  {
   "cell_type": "code",
   "execution_count": 82,
   "metadata": {},
   "outputs": [
    {
     "data": {
      "text/html": [
       "<div>\n",
       "<style scoped>\n",
       "    .dataframe tbody tr th:only-of-type {\n",
       "        vertical-align: middle;\n",
       "    }\n",
       "\n",
       "    .dataframe tbody tr th {\n",
       "        vertical-align: top;\n",
       "    }\n",
       "\n",
       "    .dataframe thead th {\n",
       "        text-align: right;\n",
       "    }\n",
       "</style>\n",
       "<table border=\"1\" class=\"dataframe\">\n",
       "  <thead>\n",
       "    <tr style=\"text-align: right;\">\n",
       "      <th></th>\n",
       "      <th>salary_id</th>\n",
       "      <th>job_id</th>\n",
       "      <th>max_salary</th>\n",
       "      <th>med_salary</th>\n",
       "      <th>min_salary</th>\n",
       "      <th>pay_period</th>\n",
       "      <th>currency</th>\n",
       "      <th>compensation_type</th>\n",
       "      <th>raw_salary</th>\n",
       "    </tr>\n",
       "  </thead>\n",
       "  <tbody>\n",
       "    <tr>\n",
       "      <th>0</th>\n",
       "      <td>1</td>\n",
       "      <td>3884428798</td>\n",
       "      <td>NaN</td>\n",
       "      <td>20.0</td>\n",
       "      <td>NaN</td>\n",
       "      <td>HOURLY</td>\n",
       "      <td>USD</td>\n",
       "      <td>BASE_SALARY</td>\n",
       "      <td>20.0</td>\n",
       "    </tr>\n",
       "    <tr>\n",
       "      <th>1</th>\n",
       "      <td>2</td>\n",
       "      <td>3887470552</td>\n",
       "      <td>25.0</td>\n",
       "      <td>NaN</td>\n",
       "      <td>23.0</td>\n",
       "      <td>HOURLY</td>\n",
       "      <td>USD</td>\n",
       "      <td>BASE_SALARY</td>\n",
       "      <td>24.0</td>\n",
       "    </tr>\n",
       "    <tr>\n",
       "      <th>2</th>\n",
       "      <td>3</td>\n",
       "      <td>3884431523</td>\n",
       "      <td>120000.0</td>\n",
       "      <td>NaN</td>\n",
       "      <td>100000.0</td>\n",
       "      <td>YEARLY</td>\n",
       "      <td>USD</td>\n",
       "      <td>BASE_SALARY</td>\n",
       "      <td>110000.0</td>\n",
       "    </tr>\n",
       "    <tr>\n",
       "      <th>3</th>\n",
       "      <td>4</td>\n",
       "      <td>3884911725</td>\n",
       "      <td>200000.0</td>\n",
       "      <td>NaN</td>\n",
       "      <td>10000.0</td>\n",
       "      <td>YEARLY</td>\n",
       "      <td>USD</td>\n",
       "      <td>BASE_SALARY</td>\n",
       "      <td>105000.0</td>\n",
       "    </tr>\n",
       "    <tr>\n",
       "      <th>4</th>\n",
       "      <td>5</td>\n",
       "      <td>3887473220</td>\n",
       "      <td>35.0</td>\n",
       "      <td>NaN</td>\n",
       "      <td>33.0</td>\n",
       "      <td>HOURLY</td>\n",
       "      <td>USD</td>\n",
       "      <td>BASE_SALARY</td>\n",
       "      <td>34.0</td>\n",
       "    </tr>\n",
       "  </tbody>\n",
       "</table>\n",
       "</div>"
      ],
      "text/plain": [
       "   salary_id      job_id  max_salary  med_salary  min_salary pay_period  \\\n",
       "0          1  3884428798         NaN        20.0         NaN     HOURLY   \n",
       "1          2  3887470552        25.0         NaN        23.0     HOURLY   \n",
       "2          3  3884431523    120000.0         NaN    100000.0     YEARLY   \n",
       "3          4  3884911725    200000.0         NaN     10000.0     YEARLY   \n",
       "4          5  3887473220        35.0         NaN        33.0     HOURLY   \n",
       "\n",
       "  currency compensation_type  raw_salary  \n",
       "0      USD       BASE_SALARY        20.0  \n",
       "1      USD       BASE_SALARY        24.0  \n",
       "2      USD       BASE_SALARY    110000.0  \n",
       "3      USD       BASE_SALARY    105000.0  \n",
       "4      USD       BASE_SALARY        34.0  "
      ]
     },
     "execution_count": 82,
     "metadata": {},
     "output_type": "execute_result"
    }
   ],
   "source": [
    "salaries_df.head()"
   ]
  },
  {
   "cell_type": "markdown",
   "metadata": {},
   "source": [
    "### **Information**\n",
    "\n",
    "We know that it is a DataFrame containing approximately 50,000 rows and 8 columns."
   ]
  },
  {
   "cell_type": "code",
   "execution_count": 83,
   "metadata": {},
   "outputs": [
    {
     "data": {
      "text/plain": [
       "salary_id                0\n",
       "job_id                   0\n",
       "max_salary            6838\n",
       "med_salary           33947\n",
       "min_salary            6838\n",
       "pay_period               0\n",
       "currency                 0\n",
       "compensation_type        0\n",
       "raw_salary               0\n",
       "dtype: int64"
      ]
     },
     "execution_count": 83,
     "metadata": {},
     "output_type": "execute_result"
    }
   ],
   "source": [
    "salaries_df.isnull().sum()"
   ]
  },
  {
   "cell_type": "markdown",
   "metadata": {},
   "source": [
    "1. We observe that approximately 7,000 records in `max_salary` and `min_salary` have null values, whereas `med_salary` has nearly 34,000 null values. Therefore, we can calculate the average between `max_salary` and `min_salary` to derive `med_salary` and then remove the records that lack values in all three of these columns.\n",
    "\n",
    "2. We also notice that the DataFrame includes the `job_id` column, which means we can, in the future, join this table with the `jobs_df` table to enhance the information available in that table."
   ]
  },
  {
   "cell_type": "code",
   "execution_count": 84,
   "metadata": {},
   "outputs": [
    {
     "data": {
      "text/html": [
       "<div>\n",
       "<style scoped>\n",
       "    .dataframe tbody tr th:only-of-type {\n",
       "        vertical-align: middle;\n",
       "    }\n",
       "\n",
       "    .dataframe tbody tr th {\n",
       "        vertical-align: top;\n",
       "    }\n",
       "\n",
       "    .dataframe thead th {\n",
       "        text-align: right;\n",
       "    }\n",
       "</style>\n",
       "<table border=\"1\" class=\"dataframe\">\n",
       "  <thead>\n",
       "    <tr style=\"text-align: right;\">\n",
       "      <th></th>\n",
       "      <th>job_id</th>\n",
       "      <th>type</th>\n",
       "    </tr>\n",
       "  </thead>\n",
       "  <tbody>\n",
       "    <tr>\n",
       "      <th>0</th>\n",
       "      <td>23221523</td>\n",
       "      <td>{401(k)}</td>\n",
       "    </tr>\n",
       "    <tr>\n",
       "      <th>1</th>\n",
       "      <td>56482768</td>\n",
       "      <td>{401(k),\"Dental insurance\",\"Disability insuran...</td>\n",
       "    </tr>\n",
       "    <tr>\n",
       "      <th>2</th>\n",
       "      <td>69333422</td>\n",
       "      <td>{\"Medical insurance\",\"Vision insurance\",\"Denta...</td>\n",
       "    </tr>\n",
       "    <tr>\n",
       "      <th>3</th>\n",
       "      <td>95428182</td>\n",
       "      <td>{\"Medical insurance\",\"Dental insurance\",\"Disab...</td>\n",
       "    </tr>\n",
       "    <tr>\n",
       "      <th>4</th>\n",
       "      <td>111513530</td>\n",
       "      <td>{\"Medical insurance\",\"Paid maternity leave\",\"P...</td>\n",
       "    </tr>\n",
       "  </tbody>\n",
       "</table>\n",
       "</div>"
      ],
      "text/plain": [
       "      job_id                                               type\n",
       "0   23221523                                           {401(k)}\n",
       "1   56482768  {401(k),\"Dental insurance\",\"Disability insuran...\n",
       "2   69333422  {\"Medical insurance\",\"Vision insurance\",\"Denta...\n",
       "3   95428182  {\"Medical insurance\",\"Dental insurance\",\"Disab...\n",
       "4  111513530  {\"Medical insurance\",\"Paid maternity leave\",\"P..."
      ]
     },
     "execution_count": 84,
     "metadata": {},
     "output_type": "execute_result"
    }
   ],
   "source": [
    "benefits_df.head()"
   ]
  },
  {
   "cell_type": "markdown",
   "metadata": {},
   "source": [
    "### **Information**\n",
    "\n",
    "Here we see that companies offer various benefits, but they are listed under different IDs, even for the same company. This means we can create a list of the types of benefits offered, rather than keeping them separate."
   ]
  },
  {
   "cell_type": "code",
   "execution_count": 85,
   "metadata": {},
   "outputs": [
    {
     "data": {
      "text/plain": [
       "job_id    0\n",
       "type      0\n",
       "dtype: int64"
      ]
     },
     "execution_count": 85,
     "metadata": {},
     "output_type": "execute_result"
    }
   ],
   "source": [
    "benefits_df.isnull().sum()"
   ]
  },
  {
   "cell_type": "markdown",
   "metadata": {},
   "source": [
    "In this table, don't exist null values"
   ]
  },
  {
   "cell_type": "code",
   "execution_count": 86,
   "metadata": {},
   "outputs": [
    {
     "data": {
      "text/html": [
       "<div>\n",
       "<style scoped>\n",
       "    .dataframe tbody tr th:only-of-type {\n",
       "        vertical-align: middle;\n",
       "    }\n",
       "\n",
       "    .dataframe tbody tr th {\n",
       "        vertical-align: top;\n",
       "    }\n",
       "\n",
       "    .dataframe thead th {\n",
       "        text-align: right;\n",
       "    }\n",
       "</style>\n",
       "<table border=\"1\" class=\"dataframe\">\n",
       "  <thead>\n",
       "    <tr style=\"text-align: right;\">\n",
       "      <th></th>\n",
       "      <th>company_id</th>\n",
       "      <th>employee_count</th>\n",
       "      <th>follower_count</th>\n",
       "      <th>time_recorded</th>\n",
       "    </tr>\n",
       "  </thead>\n",
       "  <tbody>\n",
       "    <tr>\n",
       "      <th>0</th>\n",
       "      <td>391906</td>\n",
       "      <td>186</td>\n",
       "      <td>32508</td>\n",
       "      <td>2024-04-05</td>\n",
       "    </tr>\n",
       "    <tr>\n",
       "      <th>1</th>\n",
       "      <td>22292832</td>\n",
       "      <td>311</td>\n",
       "      <td>4471</td>\n",
       "      <td>2024-04-05</td>\n",
       "    </tr>\n",
       "    <tr>\n",
       "      <th>2</th>\n",
       "      <td>20300</td>\n",
       "      <td>1053</td>\n",
       "      <td>6554</td>\n",
       "      <td>2024-04-05</td>\n",
       "    </tr>\n",
       "    <tr>\n",
       "      <th>3</th>\n",
       "      <td>3570660</td>\n",
       "      <td>383</td>\n",
       "      <td>35241</td>\n",
       "      <td>2024-04-05</td>\n",
       "    </tr>\n",
       "    <tr>\n",
       "      <th>4</th>\n",
       "      <td>878353</td>\n",
       "      <td>52</td>\n",
       "      <td>26397</td>\n",
       "      <td>2024-04-05</td>\n",
       "    </tr>\n",
       "  </tbody>\n",
       "</table>\n",
       "</div>"
      ],
      "text/plain": [
       "   company_id  employee_count  follower_count time_recorded\n",
       "0      391906             186           32508    2024-04-05\n",
       "1    22292832             311            4471    2024-04-05\n",
       "2       20300            1053            6554    2024-04-05\n",
       "3     3570660             383           35241    2024-04-05\n",
       "4      878353              52           26397    2024-04-05"
      ]
     },
     "execution_count": 86,
     "metadata": {},
     "output_type": "execute_result"
    }
   ],
   "source": [
    "employee_counts_df.head()"
   ]
  },
  {
   "cell_type": "code",
   "execution_count": 87,
   "metadata": {},
   "outputs": [
    {
     "data": {
      "text/html": [
       "<div>\n",
       "<style scoped>\n",
       "    .dataframe tbody tr th:only-of-type {\n",
       "        vertical-align: middle;\n",
       "    }\n",
       "\n",
       "    .dataframe tbody tr th {\n",
       "        vertical-align: top;\n",
       "    }\n",
       "\n",
       "    .dataframe thead th {\n",
       "        text-align: right;\n",
       "    }\n",
       "</style>\n",
       "<table border=\"1\" class=\"dataframe\">\n",
       "  <thead>\n",
       "    <tr style=\"text-align: right;\">\n",
       "      <th></th>\n",
       "      <th>industry_id</th>\n",
       "      <th>industry_name</th>\n",
       "    </tr>\n",
       "  </thead>\n",
       "  <tbody>\n",
       "    <tr>\n",
       "      <th>0</th>\n",
       "      <td>1</td>\n",
       "      <td>Defense and Space Manufacturing</td>\n",
       "    </tr>\n",
       "    <tr>\n",
       "      <th>1</th>\n",
       "      <td>3</td>\n",
       "      <td>Computer Hardware Manufacturing</td>\n",
       "    </tr>\n",
       "    <tr>\n",
       "      <th>2</th>\n",
       "      <td>4</td>\n",
       "      <td>Software Development</td>\n",
       "    </tr>\n",
       "    <tr>\n",
       "      <th>3</th>\n",
       "      <td>5</td>\n",
       "      <td>Computer Networking Products</td>\n",
       "    </tr>\n",
       "    <tr>\n",
       "      <th>4</th>\n",
       "      <td>6</td>\n",
       "      <td>Technology, Information and Internet</td>\n",
       "    </tr>\n",
       "  </tbody>\n",
       "</table>\n",
       "</div>"
      ],
      "text/plain": [
       "   industry_id                         industry_name\n",
       "0            1       Defense and Space Manufacturing\n",
       "1            3       Computer Hardware Manufacturing\n",
       "2            4                  Software Development\n",
       "3            5          Computer Networking Products\n",
       "4            6  Technology, Information and Internet"
      ]
     },
     "execution_count": 87,
     "metadata": {},
     "output_type": "execute_result"
    }
   ],
   "source": [
    "industries_df.head()"
   ]
  },
  {
   "cell_type": "code",
   "execution_count": 88,
   "metadata": {},
   "outputs": [
    {
     "data": {
      "text/html": [
       "<div>\n",
       "<style scoped>\n",
       "    .dataframe tbody tr th:only-of-type {\n",
       "        vertical-align: middle;\n",
       "    }\n",
       "\n",
       "    .dataframe tbody tr th {\n",
       "        vertical-align: top;\n",
       "    }\n",
       "\n",
       "    .dataframe thead th {\n",
       "        text-align: right;\n",
       "    }\n",
       "</style>\n",
       "<table border=\"1\" class=\"dataframe\">\n",
       "  <thead>\n",
       "    <tr style=\"text-align: right;\">\n",
       "      <th></th>\n",
       "      <th>skill_abr</th>\n",
       "      <th>skill_name</th>\n",
       "    </tr>\n",
       "  </thead>\n",
       "  <tbody>\n",
       "    <tr>\n",
       "      <th>0</th>\n",
       "      <td>ART</td>\n",
       "      <td>Art/Creative</td>\n",
       "    </tr>\n",
       "    <tr>\n",
       "      <th>1</th>\n",
       "      <td>DSGN</td>\n",
       "      <td>Design</td>\n",
       "    </tr>\n",
       "    <tr>\n",
       "      <th>2</th>\n",
       "      <td>ADVR</td>\n",
       "      <td>Advertising</td>\n",
       "    </tr>\n",
       "    <tr>\n",
       "      <th>3</th>\n",
       "      <td>PRDM</td>\n",
       "      <td>Product Management</td>\n",
       "    </tr>\n",
       "    <tr>\n",
       "      <th>4</th>\n",
       "      <td>DIST</td>\n",
       "      <td>Distribution</td>\n",
       "    </tr>\n",
       "  </tbody>\n",
       "</table>\n",
       "</div>"
      ],
      "text/plain": [
       "  skill_abr          skill_name\n",
       "0       ART        Art/Creative\n",
       "1      DSGN              Design\n",
       "2      ADVR         Advertising\n",
       "3      PRDM  Product Management\n",
       "4      DIST        Distribution"
      ]
     },
     "execution_count": 88,
     "metadata": {},
     "output_type": "execute_result"
    }
   ],
   "source": [
    "skills_industries_df.head()"
   ]
  },
  {
   "cell_type": "code",
   "execution_count": 89,
   "metadata": {},
   "outputs": [
    {
     "name": "stdout",
     "output_type": "stream",
     "text": [
      "<class 'pandas.core.frame.DataFrame'>\n",
      "RangeIndex: 123849 entries, 0 to 123848\n",
      "Data columns (total 20 columns):\n",
      " #   Column                      Non-Null Count   Dtype         \n",
      "---  ------                      --------------   -----         \n",
      " 0   job_id                      123849 non-null  int64         \n",
      " 1   company_name                122130 non-null  object        \n",
      " 2   title                       123849 non-null  object        \n",
      " 3   description                 123842 non-null  object        \n",
      " 4   pay_period                  123849 non-null  object        \n",
      " 5   location                    123849 non-null  object        \n",
      " 6   company_id                  123849 non-null  int64         \n",
      " 7   views                       123849 non-null  int64         \n",
      " 8   formatted_work_type         123849 non-null  object        \n",
      " 9   original_listed_time        123849 non-null  datetime64[ns]\n",
      " 10  remote_allowed              123849 non-null  bool          \n",
      " 11  job_posting_url             123849 non-null  object        \n",
      " 12  application_type            123849 non-null  object        \n",
      " 13  formatted_experience_level  123849 non-null  object        \n",
      " 14  sponsored                   123849 non-null  int64         \n",
      " 15  currency                    123849 non-null  object        \n",
      " 16  normalized_salary           36073 non-null   float64       \n",
      " 17  zip_code                    123849 non-null  object        \n",
      " 18  job_id_modify               123849 non-null  int64         \n",
      " 19  company_id_modify           123849 non-null  int64         \n",
      "dtypes: bool(1), datetime64[ns](1), float64(1), int64(6), object(11)\n",
      "memory usage: 18.1+ MB\n"
     ]
    }
   ],
   "source": [
    "jobs_df.info()"
   ]
  },
  {
   "cell_type": "code",
   "execution_count": 90,
   "metadata": {},
   "outputs": [
    {
     "name": "stdout",
     "output_type": "stream",
     "text": [
      "<class 'pandas.core.frame.DataFrame'>\n",
      "RangeIndex: 40785 entries, 0 to 40784\n",
      "Data columns (total 9 columns):\n",
      " #   Column             Non-Null Count  Dtype  \n",
      "---  ------             --------------  -----  \n",
      " 0   salary_id          40785 non-null  int64  \n",
      " 1   job_id             40785 non-null  int64  \n",
      " 2   max_salary         33947 non-null  float64\n",
      " 3   med_salary         6838 non-null   float64\n",
      " 4   min_salary         33947 non-null  float64\n",
      " 5   pay_period         40785 non-null  object \n",
      " 6   currency           40785 non-null  object \n",
      " 7   compensation_type  40785 non-null  object \n",
      " 8   raw_salary         40785 non-null  float64\n",
      "dtypes: float64(4), int64(2), object(3)\n",
      "memory usage: 2.8+ MB\n"
     ]
    }
   ],
   "source": [
    "salaries_df.info()"
   ]
  },
  {
   "cell_type": "code",
   "execution_count": 91,
   "metadata": {},
   "outputs": [
    {
     "name": "stdout",
     "output_type": "stream",
     "text": [
      "<class 'pandas.core.frame.DataFrame'>\n",
      "RangeIndex: 30023 entries, 0 to 30022\n",
      "Data columns (total 2 columns):\n",
      " #   Column  Non-Null Count  Dtype \n",
      "---  ------  --------------  ----- \n",
      " 0   job_id  30023 non-null  int64 \n",
      " 1   type    30023 non-null  object\n",
      "dtypes: int64(1), object(1)\n",
      "memory usage: 469.2+ KB\n"
     ]
    }
   ],
   "source": [
    "benefits_df.info()"
   ]
  },
  {
   "cell_type": "code",
   "execution_count": 92,
   "metadata": {},
   "outputs": [
    {
     "name": "stdout",
     "output_type": "stream",
     "text": [
      "<class 'pandas.core.frame.DataFrame'>\n",
      "RangeIndex: 35787 entries, 0 to 35786\n",
      "Data columns (total 4 columns):\n",
      " #   Column          Non-Null Count  Dtype \n",
      "---  ------          --------------  ----- \n",
      " 0   company_id      35787 non-null  int64 \n",
      " 1   employee_count  35787 non-null  int64 \n",
      " 2   follower_count  35787 non-null  int64 \n",
      " 3   time_recorded   35787 non-null  object\n",
      "dtypes: int64(3), object(1)\n",
      "memory usage: 1.1+ MB\n"
     ]
    }
   ],
   "source": [
    "employee_counts_df.info()"
   ]
  },
  {
   "cell_type": "code",
   "execution_count": 93,
   "metadata": {},
   "outputs": [
    {
     "data": {
      "text/html": [
       "<div>\n",
       "<style scoped>\n",
       "    .dataframe tbody tr th:only-of-type {\n",
       "        vertical-align: middle;\n",
       "    }\n",
       "\n",
       "    .dataframe tbody tr th {\n",
       "        vertical-align: top;\n",
       "    }\n",
       "\n",
       "    .dataframe thead th {\n",
       "        text-align: right;\n",
       "    }\n",
       "</style>\n",
       "<table border=\"1\" class=\"dataframe\">\n",
       "  <thead>\n",
       "    <tr style=\"text-align: right;\">\n",
       "      <th></th>\n",
       "      <th>company_id</th>\n",
       "      <th>employee_count</th>\n",
       "      <th>follower_count</th>\n",
       "      <th>time_recorded</th>\n",
       "    </tr>\n",
       "  </thead>\n",
       "  <tbody>\n",
       "    <tr>\n",
       "      <th>0</th>\n",
       "      <td>391906</td>\n",
       "      <td>186</td>\n",
       "      <td>32508</td>\n",
       "      <td>2024-04-05</td>\n",
       "    </tr>\n",
       "    <tr>\n",
       "      <th>1</th>\n",
       "      <td>22292832</td>\n",
       "      <td>311</td>\n",
       "      <td>4471</td>\n",
       "      <td>2024-04-05</td>\n",
       "    </tr>\n",
       "    <tr>\n",
       "      <th>2</th>\n",
       "      <td>20300</td>\n",
       "      <td>1053</td>\n",
       "      <td>6554</td>\n",
       "      <td>2024-04-05</td>\n",
       "    </tr>\n",
       "    <tr>\n",
       "      <th>3</th>\n",
       "      <td>3570660</td>\n",
       "      <td>383</td>\n",
       "      <td>35241</td>\n",
       "      <td>2024-04-05</td>\n",
       "    </tr>\n",
       "    <tr>\n",
       "      <th>4</th>\n",
       "      <td>878353</td>\n",
       "      <td>52</td>\n",
       "      <td>26397</td>\n",
       "      <td>2024-04-05</td>\n",
       "    </tr>\n",
       "  </tbody>\n",
       "</table>\n",
       "</div>"
      ],
      "text/plain": [
       "   company_id  employee_count  follower_count time_recorded\n",
       "0      391906             186           32508    2024-04-05\n",
       "1    22292832             311            4471    2024-04-05\n",
       "2       20300            1053            6554    2024-04-05\n",
       "3     3570660             383           35241    2024-04-05\n",
       "4      878353              52           26397    2024-04-05"
      ]
     },
     "execution_count": 93,
     "metadata": {},
     "output_type": "execute_result"
    }
   ],
   "source": [
    "employee_counts_df.head()"
   ]
  },
  {
   "cell_type": "code",
   "execution_count": 94,
   "metadata": {},
   "outputs": [
    {
     "name": "stdout",
     "output_type": "stream",
     "text": [
      "<class 'pandas.core.frame.DataFrame'>\n",
      "RangeIndex: 422 entries, 0 to 421\n",
      "Data columns (total 2 columns):\n",
      " #   Column         Non-Null Count  Dtype \n",
      "---  ------         --------------  ----- \n",
      " 0   industry_id    422 non-null    int64 \n",
      " 1   industry_name  422 non-null    object\n",
      "dtypes: int64(1), object(1)\n",
      "memory usage: 6.7+ KB\n"
     ]
    }
   ],
   "source": [
    "industries_df.info()"
   ]
  },
  {
   "cell_type": "code",
   "execution_count": 95,
   "metadata": {},
   "outputs": [
    {
     "name": "stdout",
     "output_type": "stream",
     "text": [
      "<class 'pandas.core.frame.DataFrame'>\n",
      "RangeIndex: 35 entries, 0 to 34\n",
      "Data columns (total 2 columns):\n",
      " #   Column      Non-Null Count  Dtype \n",
      "---  ------      --------------  ----- \n",
      " 0   skill_abr   35 non-null     object\n",
      " 1   skill_name  35 non-null     object\n",
      "dtypes: object(2)\n",
      "memory usage: 692.0+ bytes\n"
     ]
    }
   ],
   "source": [
    "skills_industries_df.info()"
   ]
  },
  {
   "cell_type": "code",
   "execution_count": 96,
   "metadata": {},
   "outputs": [
    {
     "data": {
      "text/html": [
       "<div>\n",
       "<style scoped>\n",
       "    .dataframe tbody tr th:only-of-type {\n",
       "        vertical-align: middle;\n",
       "    }\n",
       "\n",
       "    .dataframe tbody tr th {\n",
       "        vertical-align: top;\n",
       "    }\n",
       "\n",
       "    .dataframe thead th {\n",
       "        text-align: right;\n",
       "    }\n",
       "</style>\n",
       "<table border=\"1\" class=\"dataframe\">\n",
       "  <thead>\n",
       "    <tr style=\"text-align: right;\">\n",
       "      <th></th>\n",
       "      <th>skill_abr</th>\n",
       "      <th>skill_name</th>\n",
       "    </tr>\n",
       "  </thead>\n",
       "  <tbody>\n",
       "    <tr>\n",
       "      <th>0</th>\n",
       "      <td>ART</td>\n",
       "      <td>Art/Creative</td>\n",
       "    </tr>\n",
       "    <tr>\n",
       "      <th>1</th>\n",
       "      <td>DSGN</td>\n",
       "      <td>Design</td>\n",
       "    </tr>\n",
       "    <tr>\n",
       "      <th>2</th>\n",
       "      <td>ADVR</td>\n",
       "      <td>Advertising</td>\n",
       "    </tr>\n",
       "    <tr>\n",
       "      <th>3</th>\n",
       "      <td>PRDM</td>\n",
       "      <td>Product Management</td>\n",
       "    </tr>\n",
       "    <tr>\n",
       "      <th>4</th>\n",
       "      <td>DIST</td>\n",
       "      <td>Distribution</td>\n",
       "    </tr>\n",
       "  </tbody>\n",
       "</table>\n",
       "</div>"
      ],
      "text/plain": [
       "  skill_abr          skill_name\n",
       "0       ART        Art/Creative\n",
       "1      DSGN              Design\n",
       "2      ADVR         Advertising\n",
       "3      PRDM  Product Management\n",
       "4      DIST        Distribution"
      ]
     },
     "execution_count": 96,
     "metadata": {},
     "output_type": "execute_result"
    }
   ],
   "source": [
    "skills_industries_df.head()"
   ]
  },
  {
   "cell_type": "code",
   "execution_count": 97,
   "metadata": {},
   "outputs": [
    {
     "data": {
      "text/html": [
       "<div>\n",
       "<style scoped>\n",
       "    .dataframe tbody tr th:only-of-type {\n",
       "        vertical-align: middle;\n",
       "    }\n",
       "\n",
       "    .dataframe tbody tr th {\n",
       "        vertical-align: top;\n",
       "    }\n",
       "\n",
       "    .dataframe thead th {\n",
       "        text-align: right;\n",
       "    }\n",
       "</style>\n",
       "<table border=\"1\" class=\"dataframe\">\n",
       "  <thead>\n",
       "    <tr style=\"text-align: right;\">\n",
       "      <th></th>\n",
       "      <th>company_id</th>\n",
       "      <th>name</th>\n",
       "      <th>description</th>\n",
       "      <th>company_size</th>\n",
       "      <th>state</th>\n",
       "      <th>country</th>\n",
       "      <th>city</th>\n",
       "      <th>zip_code</th>\n",
       "      <th>address</th>\n",
       "      <th>url</th>\n",
       "    </tr>\n",
       "  </thead>\n",
       "  <tbody>\n",
       "    <tr>\n",
       "      <th>0</th>\n",
       "      <td>1009</td>\n",
       "      <td>IBM</td>\n",
       "      <td>At IBM, we do more than work. We create. We cr...</td>\n",
       "      <td>7</td>\n",
       "      <td>NY</td>\n",
       "      <td>US</td>\n",
       "      <td>Armonk, New York</td>\n",
       "      <td>10504</td>\n",
       "      <td>International Business Machines Corp.</td>\n",
       "      <td>https://www.linkedin.com/company/ibm</td>\n",
       "    </tr>\n",
       "    <tr>\n",
       "      <th>1</th>\n",
       "      <td>1016</td>\n",
       "      <td>GE HealthCare</td>\n",
       "      <td>Every day millions of people feel the impact o...</td>\n",
       "      <td>7</td>\n",
       "      <td>Unknown</td>\n",
       "      <td>US</td>\n",
       "      <td>Chicago</td>\n",
       "      <td>Unknown</td>\n",
       "      <td>-</td>\n",
       "      <td>https://www.linkedin.com/company/gehealthcare</td>\n",
       "    </tr>\n",
       "    <tr>\n",
       "      <th>2</th>\n",
       "      <td>1025</td>\n",
       "      <td>Hewlett Packard Enterprise</td>\n",
       "      <td>Official LinkedIn of Hewlett Packard Enterpris...</td>\n",
       "      <td>7</td>\n",
       "      <td>Texas</td>\n",
       "      <td>US</td>\n",
       "      <td>Houston</td>\n",
       "      <td>77389</td>\n",
       "      <td>1701 E Mossy Oaks Rd Spring</td>\n",
       "      <td>https://www.linkedin.com/company/hewlett-packa...</td>\n",
       "    </tr>\n",
       "    <tr>\n",
       "      <th>3</th>\n",
       "      <td>1028</td>\n",
       "      <td>Oracle</td>\n",
       "      <td>We’re a cloud technology company that provides...</td>\n",
       "      <td>7</td>\n",
       "      <td>Texas</td>\n",
       "      <td>US</td>\n",
       "      <td>Austin</td>\n",
       "      <td>78741</td>\n",
       "      <td>2300 Oracle Way</td>\n",
       "      <td>https://www.linkedin.com/company/oracle</td>\n",
       "    </tr>\n",
       "    <tr>\n",
       "      <th>4</th>\n",
       "      <td>1033</td>\n",
       "      <td>Accenture</td>\n",
       "      <td>Accenture is a leading global professional ser...</td>\n",
       "      <td>7</td>\n",
       "      <td>Unknown</td>\n",
       "      <td>IE</td>\n",
       "      <td>Dublin 2</td>\n",
       "      <td>Unknown</td>\n",
       "      <td>Grand Canal Harbour</td>\n",
       "      <td>https://www.linkedin.com/company/accenture</td>\n",
       "    </tr>\n",
       "    <tr>\n",
       "      <th>...</th>\n",
       "      <td>...</td>\n",
       "      <td>...</td>\n",
       "      <td>...</td>\n",
       "      <td>...</td>\n",
       "      <td>...</td>\n",
       "      <td>...</td>\n",
       "      <td>...</td>\n",
       "      <td>...</td>\n",
       "      <td>...</td>\n",
       "      <td>...</td>\n",
       "    </tr>\n",
       "    <tr>\n",
       "      <th>24467</th>\n",
       "      <td>103456466</td>\n",
       "      <td>Foundation Model Startup</td>\n",
       "      <td>No description</td>\n",
       "      <td>3</td>\n",
       "      <td>Unknown</td>\n",
       "      <td>0</td>\n",
       "      <td>0</td>\n",
       "      <td>Unknown</td>\n",
       "      <td>0</td>\n",
       "      <td>https://www.linkedin.com/company/foundation-mo...</td>\n",
       "    </tr>\n",
       "    <tr>\n",
       "      <th>24468</th>\n",
       "      <td>103456527</td>\n",
       "      <td>Kinder Prep Montessori Nursery &amp; Preschool</td>\n",
       "      <td>Explore our renowned daycare and preschool cen...</td>\n",
       "      <td>1</td>\n",
       "      <td>New York</td>\n",
       "      <td>US</td>\n",
       "      <td>Brooklyn</td>\n",
       "      <td>11249</td>\n",
       "      <td>49 Broadway</td>\n",
       "      <td>https://www.linkedin.com/company/kinder-prep-m...</td>\n",
       "    </tr>\n",
       "    <tr>\n",
       "      <th>24469</th>\n",
       "      <td>103466352</td>\n",
       "      <td>Centent Consulting LLC</td>\n",
       "      <td>Centent Consulting LLC is a reputable human re...</td>\n",
       "      <td>3</td>\n",
       "      <td>Unknown</td>\n",
       "      <td>0</td>\n",
       "      <td>0</td>\n",
       "      <td>Unknown</td>\n",
       "      <td>0</td>\n",
       "      <td>https://www.linkedin.com/company/centent-consu...</td>\n",
       "    </tr>\n",
       "    <tr>\n",
       "      <th>24470</th>\n",
       "      <td>103468936</td>\n",
       "      <td>WebUnite</td>\n",
       "      <td>Our mission at WebUnite is to offer experience...</td>\n",
       "      <td>3</td>\n",
       "      <td>Pennsylvania</td>\n",
       "      <td>US</td>\n",
       "      <td>Southampton</td>\n",
       "      <td>18966</td>\n",
       "      <td>720 2nd Street Pike</td>\n",
       "      <td>https://www.linkedin.com/company/webunite</td>\n",
       "    </tr>\n",
       "    <tr>\n",
       "      <th>24471</th>\n",
       "      <td>103472979</td>\n",
       "      <td>BlackVe</td>\n",
       "      <td>No description</td>\n",
       "      <td>1</td>\n",
       "      <td>Unknown</td>\n",
       "      <td>0</td>\n",
       "      <td>0</td>\n",
       "      <td>Unknown</td>\n",
       "      <td>0</td>\n",
       "      <td>https://www.linkedin.com/company/blackve</td>\n",
       "    </tr>\n",
       "  </tbody>\n",
       "</table>\n",
       "<p>24472 rows × 10 columns</p>\n",
       "</div>"
      ],
      "text/plain": [
       "       company_id                                        name  \\\n",
       "0            1009                                         IBM   \n",
       "1            1016                               GE HealthCare   \n",
       "2            1025                  Hewlett Packard Enterprise   \n",
       "3            1028                                      Oracle   \n",
       "4            1033                                   Accenture   \n",
       "...           ...                                         ...   \n",
       "24467   103456466                    Foundation Model Startup   \n",
       "24468   103456527  Kinder Prep Montessori Nursery & Preschool   \n",
       "24469   103466352                      Centent Consulting LLC   \n",
       "24470   103468936                                    WebUnite   \n",
       "24471   103472979                                     BlackVe   \n",
       "\n",
       "                                             description  company_size  \\\n",
       "0      At IBM, we do more than work. We create. We cr...             7   \n",
       "1      Every day millions of people feel the impact o...             7   \n",
       "2      Official LinkedIn of Hewlett Packard Enterpris...             7   \n",
       "3      We’re a cloud technology company that provides...             7   \n",
       "4      Accenture is a leading global professional ser...             7   \n",
       "...                                                  ...           ...   \n",
       "24467                                     No description             3   \n",
       "24468  Explore our renowned daycare and preschool cen...             1   \n",
       "24469  Centent Consulting LLC is a reputable human re...             3   \n",
       "24470  Our mission at WebUnite is to offer experience...             3   \n",
       "24471                                     No description             1   \n",
       "\n",
       "              state country              city zip_code  \\\n",
       "0                NY      US  Armonk, New York    10504   \n",
       "1           Unknown      US           Chicago  Unknown   \n",
       "2             Texas      US           Houston    77389   \n",
       "3             Texas      US            Austin    78741   \n",
       "4           Unknown      IE          Dublin 2  Unknown   \n",
       "...             ...     ...               ...      ...   \n",
       "24467       Unknown       0                 0  Unknown   \n",
       "24468      New York      US          Brooklyn    11249   \n",
       "24469       Unknown       0                 0  Unknown   \n",
       "24470  Pennsylvania      US       Southampton    18966   \n",
       "24471       Unknown       0                 0  Unknown   \n",
       "\n",
       "                                     address  \\\n",
       "0      International Business Machines Corp.   \n",
       "1                                          -   \n",
       "2                1701 E Mossy Oaks Rd Spring   \n",
       "3                            2300 Oracle Way   \n",
       "4                        Grand Canal Harbour   \n",
       "...                                      ...   \n",
       "24467                                      0   \n",
       "24468                            49 Broadway   \n",
       "24469                                      0   \n",
       "24470                    720 2nd Street Pike   \n",
       "24471                                      0   \n",
       "\n",
       "                                                     url  \n",
       "0                   https://www.linkedin.com/company/ibm  \n",
       "1          https://www.linkedin.com/company/gehealthcare  \n",
       "2      https://www.linkedin.com/company/hewlett-packa...  \n",
       "3                https://www.linkedin.com/company/oracle  \n",
       "4             https://www.linkedin.com/company/accenture  \n",
       "...                                                  ...  \n",
       "24467  https://www.linkedin.com/company/foundation-mo...  \n",
       "24468  https://www.linkedin.com/company/kinder-prep-m...  \n",
       "24469  https://www.linkedin.com/company/centent-consu...  \n",
       "24470          https://www.linkedin.com/company/webunite  \n",
       "24471           https://www.linkedin.com/company/blackve  \n",
       "\n",
       "[24472 rows x 10 columns]"
      ]
     },
     "execution_count": 97,
     "metadata": {},
     "output_type": "execute_result"
    }
   ],
   "source": [
    "companies_df"
   ]
  }
 ],
 "metadata": {
  "kernelspec": {
   "display_name": "Python (project_etl)",
   "language": "python",
   "name": "project_etl"
  },
  "language_info": {
   "codemirror_mode": {
    "name": "ipython",
    "version": 3
   },
   "file_extension": ".py",
   "mimetype": "text/x-python",
   "name": "python",
   "nbconvert_exporter": "python",
   "pygments_lexer": "ipython3",
   "version": "3.13.1"
  }
 },
 "nbformat": 4,
 "nbformat_minor": 2
}
